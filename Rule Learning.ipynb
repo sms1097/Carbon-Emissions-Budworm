{
 "cells": [
  {
   "cell_type": "markdown",
   "metadata": {},
   "source": [
    "# Exact Rule Learning via Boolean Compressed Sensing"
   ]
  },
  {
   "cell_type": "markdown",
   "metadata": {},
   "source": [
    "The format is best broken into two parts:\n",
    "1. Rule Mining\n",
    "2. Rule Selection"
   ]
  },
  {
   "cell_type": "markdown",
   "metadata": {},
   "source": [
    "### Rule Mining with SLIPPER\n",
    "SLIPPER is the algorithm that learns all of the rules with an associated confidence. For this application, we don't necessarily care about the confidence. SLIPPER trains weak learners"
   ]
  },
  {
   "cell_type": "code",
   "execution_count": 1,
   "metadata": {},
   "outputs": [],
   "source": [
    "import gurobipy as gp\n",
    "from gurobipy import GRB"
   ]
  },
  {
   "cell_type": "code",
   "execution_count": 2,
   "metadata": {},
   "outputs": [],
   "source": [
    "import numpy as np\n",
    "import pandas as pd\n",
    "import seaborn as sns\n",
    "from sklearn.datasets import load_iris"
   ]
  },
  {
   "cell_type": "code",
   "execution_count": 3,
   "metadata": {},
   "outputs": [],
   "source": [
    "data = load_iris()"
   ]
  },
  {
   "cell_type": "code",
   "execution_count": 4,
   "metadata": {},
   "outputs": [],
   "source": [
    "data_df = pd.DataFrame(data['data'])\n",
    "labels = pd.DataFrame(data['target'])"
   ]
  },
  {
   "cell_type": "markdown",
   "metadata": {},
   "source": [
    "### Work in Progress on Rule Building"
   ]
  },
  {
   "cell_type": "code",
   "execution_count": 5,
   "metadata": {},
   "outputs": [],
   "source": [
    "def SLIPPER(data, labels, max_iter=1000):\n",
    "    # Initialize some variables for later\n",
    "    obs = data.shape[0]  # number of observations\n",
    "    D = np.array([1/m for i in range(obs)])  # intiialize to uniform distribution for all i \n",
    "    \n",
    "    for t in T:\n",
    "        # 1. Train the weak learner using the current distribution D\n",
    "        # (a) Split the data into grow and prune sets\n",
    "        grow_idx = np.random.choice(obs, np.math.floor((2/3) * obs), replace=False)\n",
    "        prune_idx = np.array(set([i for i in range(obs)]) - set(grow_idx))\n",
    "        \n",
    "        grow_X, grow_Y = data[grow_idx, :], labels[grow_idx, :]\n",
    "        prune_X, prune_Y = data[prune_idx, :], labels[prune_idx, :]\n",
    "\n",
    "        # (b) GrowRule: \n",
    "        # "
   ]
  },
  {
   "cell_type": "markdown",
   "metadata": {},
   "source": [
    "### Make some fake rules"
   ]
  },
  {
   "cell_type": "markdown",
   "metadata": {},
   "source": [
    "#### Create Measurement Matrix"
   ]
  },
  {
   "cell_type": "code",
   "execution_count": 6,
   "metadata": {},
   "outputs": [],
   "source": [
    "target = data['target']\n",
    "temp = data['data']"
   ]
  },
  {
   "cell_type": "code",
   "execution_count": 7,
   "metadata": {},
   "outputs": [
    {
     "data": {
      "text/plain": [
       "(150, 5)"
      ]
     },
     "execution_count": 7,
     "metadata": {},
     "output_type": "execute_result"
    }
   ],
   "source": [
    "col1 = temp[:, 0] > 1  # Sepal Length (no rule)\n",
    "col2 = temp[:, 1] > 1  # Sepal Width (no rule)\n",
    "col3 = temp[:, 2] <= 5.35  # Petal length\n",
    "col4 = temp[:, 3] <= 1.7  # Petal width\n",
    "col5 = temp[:, 3] > 0.875  # Petal width\n",
    "measurement = np.vstack((col1, col2, col3, col4, col5)).T.astype(int)\n",
    "measurement.shape"
   ]
  },
  {
   "cell_type": "markdown",
   "metadata": {},
   "source": [
    "#### Create positive and negative matrices"
   ]
  },
  {
   "cell_type": "code",
   "execution_count": 65,
   "metadata": {},
   "outputs": [],
   "source": [
    "A_p = measurement[np.where(target != 1)].astype(float)\n",
    "A_n = measurement[np.where(target == 1)].astype(float)\n",
    "\n",
    "A_p = 1 - A_p\n",
    "A_n = 1 - A_n"
   ]
  },
  {
   "cell_type": "code",
   "execution_count": 56,
   "metadata": {},
   "outputs": [
    {
     "data": {
      "text/plain": [
       "(150,)"
      ]
     },
     "execution_count": 56,
     "metadata": {},
     "output_type": "execute_result"
    }
   ],
   "source": [
    "target.shape"
   ]
  },
  {
   "cell_type": "code",
   "execution_count": 22,
   "metadata": {},
   "outputs": [
    {
     "data": {
      "text/plain": [
       "(100,)"
      ]
     },
     "execution_count": 22,
     "metadata": {},
     "output_type": "execute_result"
    }
   ],
   "source": [
    "np.where(target!=0)[0].shape"
   ]
  },
  {
   "cell_type": "code",
   "execution_count": 19,
   "metadata": {},
   "outputs": [
    {
     "data": {
      "text/plain": [
       "(50,)"
      ]
     },
     "execution_count": 19,
     "metadata": {},
     "output_type": "execute_result"
    }
   ],
   "source": [
    "np.where(target==1)[0].shape"
   ]
  },
  {
   "cell_type": "markdown",
   "metadata": {},
   "source": [
    "### Get the Model "
   ]
  },
  {
   "cell_type": "code",
   "execution_count": 66,
   "metadata": {},
   "outputs": [],
   "source": [
    "m = gp.Model(\"rule-extraciton\")"
   ]
  },
  {
   "cell_type": "code",
   "execution_count": 67,
   "metadata": {},
   "outputs": [],
   "source": [
    "w = m.addMVar(shape=measurement.shape[1], name=\"weights\")\n",
    "psi_p = m.addMVar(shape=A_p.shape[0], name=\"psi_p\")\n",
    "psi_n = m.addMVar(shape=A_n.shape[0], name=\"psi_n\")"
   ]
  },
  {
   "cell_type": "code",
   "execution_count": 68,
   "metadata": {},
   "outputs": [],
   "source": [
    "m.addConstr(w <= 1.0)\n",
    "m.addConstr(w >= 0.0)\n",
    "m.addConstr(psi_p <= 1)\n",
    "m.addConstr(psi_p >= 0)\n",
    "m.addConstr(psi_n >= 0)\n",
    "m.addConstr(A_p @ w + psi_p >= 1.0)\n",
    "m.addConstr(A_n @ w == psi_n)\n",
    "m.update()"
   ]
  },
  {
   "cell_type": "code",
   "execution_count": 69,
   "metadata": {},
   "outputs": [],
   "source": [
    "m.setObjective(sum(w) + 1000 * (sum(psi_p) + sum(psi_n)), GRB.MINIMIZE)"
   ]
  },
  {
   "cell_type": "code",
   "execution_count": 70,
   "metadata": {},
   "outputs": [
    {
     "name": "stdout",
     "output_type": "stream",
     "text": [
      "Gurobi Optimizer version 9.0.3 build v9.0.3rc0 (linux64)\n",
      "Optimize a model with 410 rows, 155 columns and 536 nonzeros\n",
      "Model fingerprint: 0x62236fb6\n",
      "Coefficient statistics:\n",
      "  Matrix range     [1e+00, 1e+00]\n",
      "  Objective range  [1e+00, 1e+03]\n",
      "  Bounds range     [0e+00, 0e+00]\n",
      "  RHS range        [1e+00, 1e+00]\n",
      "Presolve removed 410 rows and 155 columns\n",
      "Presolve time: 0.00s\n",
      "Presolve: All rows and columns removed\n",
      "Iteration    Objective       Primal Inf.    Dual Inf.      Time\n",
      "       0    4.0030000e+03   0.000000e+00   1.003000e+03      0s\n",
      "Extra 4 simplex iterations after uncrush\n",
      "       4    4.0030000e+03   0.000000e+00   0.000000e+00      0s\n",
      "\n",
      "Solved in 4 iterations and 0.01 seconds\n",
      "Optimal objective  4.003000000e+03\n"
     ]
    }
   ],
   "source": [
    "m.optimize()"
   ]
  },
  {
   "cell_type": "code",
   "execution_count": 71,
   "metadata": {},
   "outputs": [
    {
     "name": "stdout",
     "output_type": "stream",
     "text": [
      "<gurobi.Var weights[0] (value 0.0)>\n",
      "<gurobi.Var weights[1] (value 0.0)>\n",
      "<gurobi.Var weights[2] (value 1.0)>\n",
      "<gurobi.Var weights[3] (value 1.0)>\n",
      "<gurobi.Var weights[4] (value 1.0)>\n"
     ]
    }
   ],
   "source": [
    "m.getVarByName(\"weights[0]\")\n",
    "for i in range(measurement.shape[1]):\n",
    "    print(m.getVarByName(\"weights[\" + str(i) + \"]\"))"
   ]
  },
  {
   "cell_type": "code",
   "execution_count": 72,
   "metadata": {},
   "outputs": [
    {
     "name": "stdout",
     "output_type": "stream",
     "text": [
      "weights[0] 0.0\n",
      "weights[1] 0.0\n",
      "weights[2] 1.0\n",
      "weights[3] 1.0\n",
      "weights[4] 1.0\n",
      "psi_p[0] 0.0\n",
      "psi_p[1] 0.0\n",
      "psi_p[2] 0.0\n",
      "psi_p[3] 0.0\n",
      "psi_p[4] 0.0\n",
      "psi_p[5] 0.0\n",
      "psi_p[6] 0.0\n",
      "psi_p[7] 0.0\n",
      "psi_p[8] 0.0\n",
      "psi_p[9] 0.0\n",
      "psi_p[10] 0.0\n",
      "psi_p[11] 0.0\n",
      "psi_p[12] 0.0\n",
      "psi_p[13] 0.0\n",
      "psi_p[14] 0.0\n",
      "psi_p[15] 0.0\n",
      "psi_p[16] 0.0\n",
      "psi_p[17] 0.0\n",
      "psi_p[18] 0.0\n",
      "psi_p[19] 0.0\n",
      "psi_p[20] 0.0\n",
      "psi_p[21] 0.0\n",
      "psi_p[22] 0.0\n",
      "psi_p[23] 0.0\n",
      "psi_p[24] 0.0\n",
      "psi_p[25] 0.0\n",
      "psi_p[26] 0.0\n",
      "psi_p[27] 0.0\n",
      "psi_p[28] 0.0\n",
      "psi_p[29] 0.0\n",
      "psi_p[30] 0.0\n",
      "psi_p[31] 0.0\n",
      "psi_p[32] 0.0\n",
      "psi_p[33] 0.0\n",
      "psi_p[34] 0.0\n",
      "psi_p[35] 0.0\n",
      "psi_p[36] 0.0\n",
      "psi_p[37] 0.0\n",
      "psi_p[38] 0.0\n",
      "psi_p[39] 0.0\n",
      "psi_p[40] 0.0\n",
      "psi_p[41] 0.0\n",
      "psi_p[42] 0.0\n",
      "psi_p[43] 0.0\n",
      "psi_p[44] 0.0\n",
      "psi_p[45] 0.0\n",
      "psi_p[46] 0.0\n",
      "psi_p[47] 0.0\n",
      "psi_p[48] 0.0\n",
      "psi_p[49] 0.0\n",
      "psi_p[50] 0.0\n",
      "psi_p[51] 0.0\n",
      "psi_p[52] 0.0\n",
      "psi_p[53] 0.0\n",
      "psi_p[54] 0.0\n",
      "psi_p[55] 0.0\n",
      "psi_p[56] 1.0\n",
      "psi_p[57] 0.0\n",
      "psi_p[58] 0.0\n",
      "psi_p[59] 0.0\n",
      "psi_p[60] 0.0\n",
      "psi_p[61] 0.0\n",
      "psi_p[62] 0.0\n",
      "psi_p[63] 0.0\n",
      "psi_p[64] 0.0\n",
      "psi_p[65] 0.0\n",
      "psi_p[66] 0.0\n",
      "psi_p[67] 0.0\n",
      "psi_p[68] 0.0\n",
      "psi_p[69] 1.0\n",
      "psi_p[70] 0.0\n",
      "psi_p[71] 0.0\n",
      "psi_p[72] 0.0\n",
      "psi_p[73] 0.0\n",
      "psi_p[74] 0.0\n",
      "psi_p[75] 0.0\n",
      "psi_p[76] 0.0\n",
      "psi_p[77] 0.0\n",
      "psi_p[78] 0.0\n",
      "psi_p[79] 0.0\n",
      "psi_p[80] 0.0\n",
      "psi_p[81] 0.0\n",
      "psi_p[82] 0.0\n",
      "psi_p[83] 1.0\n",
      "psi_p[84] 0.0\n",
      "psi_p[85] 0.0\n",
      "psi_p[86] 0.0\n",
      "psi_p[87] 0.0\n",
      "psi_p[88] 0.0\n",
      "psi_p[89] 0.0\n",
      "psi_p[90] 0.0\n",
      "psi_p[91] 0.0\n",
      "psi_p[92] 0.0\n",
      "psi_p[93] 0.0\n",
      "psi_p[94] 0.0\n",
      "psi_p[95] 0.0\n",
      "psi_p[96] 0.0\n",
      "psi_p[97] 0.0\n",
      "psi_p[98] 0.0\n",
      "psi_p[99] 0.0\n",
      "psi_n[0] 0.0\n",
      "psi_n[1] 0.0\n",
      "psi_n[2] 0.0\n",
      "psi_n[3] 0.0\n",
      "psi_n[4] 0.0\n",
      "psi_n[5] 0.0\n",
      "psi_n[6] 0.0\n",
      "psi_n[7] 0.0\n",
      "psi_n[8] 0.0\n",
      "psi_n[9] 0.0\n",
      "psi_n[10] 0.0\n",
      "psi_n[11] 0.0\n",
      "psi_n[12] 0.0\n",
      "psi_n[13] 0.0\n",
      "psi_n[14] 0.0\n",
      "psi_n[15] 0.0\n",
      "psi_n[16] 0.0\n",
      "psi_n[17] 0.0\n",
      "psi_n[18] 0.0\n",
      "psi_n[19] 0.0\n",
      "psi_n[20] 1.0\n",
      "psi_n[21] 0.0\n",
      "psi_n[22] 0.0\n",
      "psi_n[23] 0.0\n",
      "psi_n[24] 0.0\n",
      "psi_n[25] 0.0\n",
      "psi_n[26] 0.0\n",
      "psi_n[27] 0.0\n",
      "psi_n[28] 0.0\n",
      "psi_n[29] 0.0\n",
      "psi_n[30] 0.0\n",
      "psi_n[31] 0.0\n",
      "psi_n[32] 0.0\n",
      "psi_n[33] 0.0\n",
      "psi_n[34] 0.0\n",
      "psi_n[35] 0.0\n",
      "psi_n[36] 0.0\n",
      "psi_n[37] 0.0\n",
      "psi_n[38] 0.0\n",
      "psi_n[39] 0.0\n",
      "psi_n[40] 0.0\n",
      "psi_n[41] 0.0\n",
      "psi_n[42] 0.0\n",
      "psi_n[43] 0.0\n",
      "psi_n[44] 0.0\n",
      "psi_n[45] 0.0\n",
      "psi_n[46] 0.0\n",
      "psi_n[47] 0.0\n",
      "psi_n[48] 0.0\n",
      "psi_n[49] 0.0\n"
     ]
    }
   ],
   "source": [
    "for val in m.getVars():\n",
    "    print(val.varName, val.x)"
   ]
  },
  {
   "cell_type": "code",
   "execution_count": null,
   "metadata": {},
   "outputs": [],
   "source": []
  }
 ],
 "metadata": {
  "kernelspec": {
   "display_name": "Python 3",
   "language": "python",
   "name": "python3"
  },
  "language_info": {
   "codemirror_mode": {
    "name": "ipython",
    "version": 3
   },
   "file_extension": ".py",
   "mimetype": "text/x-python",
   "name": "python",
   "nbconvert_exporter": "python",
   "pygments_lexer": "ipython3",
   "version": "3.6.9"
  }
 },
 "nbformat": 4,
 "nbformat_minor": 4
}

{
 "cells": [
  {
   "cell_type": "markdown",
   "metadata": {},
   "source": [
    "# Exact Rule Learning via Boolean Compressed Sensing"
   ]
  },
  {
   "cell_type": "markdown",
   "metadata": {},
   "source": [
    "The following is a work in progress to the implementation of: <br>\n",
    "Malioutov, D. & Varshney, K.. (2013). Exact Rule Learning via Boolean Compressed Sensing. Proceedings of the 30th International Conference on Machine Learning, in PMLR 28(3):765-773i"
   ]
  },
  {
   "cell_type": "markdown",
   "metadata": {},
   "source": [
    "The format is best broken into two parts:\n",
    "1. Rule Mining\n",
    "2. Rule Selection"
   ]
  },
  {
   "cell_type": "markdown",
   "metadata": {},
   "source": [
    "The rule mining of the dominant model comes from the boosted rule learning algorithm <b> SLIPPER </b>. This algorithm is defined in <br> \n",
    "Cohen, W.W., & Singer, Y. (1999). A Simple, Fast, and Effictive Rule Learner. AAAI/IAAI."
   ]
  },
  {
   "cell_type": "code",
   "execution_count": 1,
   "metadata": {},
   "outputs": [],
   "source": [
    "import gurobipy as gp\n",
    "from gurobipy import GRB"
   ]
  },
  {
   "cell_type": "code",
   "execution_count": 2,
   "metadata": {},
   "outputs": [],
   "source": [
    "import numpy as np\n",
    "import pandas as pd\n",
    "import seaborn as sns\n",
    "from sklearn.datasets import load_iris"
   ]
  },
  {
   "cell_type": "code",
   "execution_count": 3,
   "metadata": {},
   "outputs": [],
   "source": [
    "data = load_iris()"
   ]
  },
  {
   "cell_type": "code",
   "execution_count": 4,
   "metadata": {},
   "outputs": [],
   "source": [
    "data_df = pd.DataFrame(data['data'])\n",
    "labels = pd.DataFrame(data['target'])"
   ]
  },
  {
   "cell_type": "markdown",
   "metadata": {},
   "source": [
    "### Make some fake rules"
   ]
  },
  {
   "cell_type": "markdown",
   "metadata": {},
   "source": [
    "#### Create Measurement Matrix"
   ]
  },
  {
   "cell_type": "code",
   "execution_count": 5,
   "metadata": {},
   "outputs": [],
   "source": [
    "target = data['target']\n",
    "temp = data['data']"
   ]
  },
  {
   "cell_type": "markdown",
   "metadata": {},
   "source": [
    "The bottom three rules are learned from <b> SLIPPER </b>, we use the optimization algorithm to learn a sparser set of rules that acheives good accuracy. The bottom three rules are those learned in the optimal rule set for the Iris data set in the paper. Here we add a few rules that are not great to see if the optimization algorithm will learn a sparser set of rules with good prediciton accuracy (i.e. will it learn to get rid of the bad rules and keep only the ones we care about from the paper.)"
   ]
  },
  {
   "cell_type": "code",
   "execution_count": 6,
   "metadata": {},
   "outputs": [],
   "source": [
    "col1 = temp[:, 0] > 1  # Sepal Length (no rule)\n",
    "col2 = temp[:, 1] > 1  # Sepal Width (no rule)\n",
    "col3 = temp[:, 2] <= 5.35  # Petal length\n",
    "col4 = temp[:, 3] <= 1.7  # Petal width\n",
    "col5 = temp[:, 3] > 0.875  # Petal width\n",
    "measurement = np.vstack((col1, col2, col3, col4, col5)).T.astype(int)"
   ]
  },
  {
   "cell_type": "markdown",
   "metadata": {},
   "source": [
    "#### Create positive and negative matrices"
   ]
  },
  {
   "cell_type": "code",
   "execution_count": 7,
   "metadata": {},
   "outputs": [],
   "source": [
    "A_p = 1 - measurement[np.where(target != 1)].astype(float)\n",
    "A_n = 1 - measurement[np.where(target == 1)].astype(float)"
   ]
  },
  {
   "cell_type": "markdown",
   "metadata": {},
   "source": [
    "### Create the Model "
   ]
  },
  {
   "cell_type": "code",
   "execution_count": 8,
   "metadata": {},
   "outputs": [
    {
     "name": "stdout",
     "output_type": "stream",
     "text": [
      "Using license file /opt/gurobi903/gurobi.lic\n",
      "Academic license - for non-commercial use only\n"
     ]
    }
   ],
   "source": [
    "m = gp.Model(\"rule-extraciton\")"
   ]
  },
  {
   "cell_type": "code",
   "execution_count": 9,
   "metadata": {},
   "outputs": [],
   "source": [
    "w = m.addMVar(shape=measurement.shape[1], name=\"weights\")\n",
    "psi_p = m.addMVar(shape=A_p.shape[0], name=\"psi_p\")\n",
    "psi_n = m.addMVar(shape=A_n.shape[0], name=\"psi_n\")"
   ]
  },
  {
   "cell_type": "code",
   "execution_count": 10,
   "metadata": {},
   "outputs": [],
   "source": [
    "m.addConstr(w <= 1.0)\n",
    "m.addConstr(w >= 0.0)\n",
    "m.addConstr(psi_p <= 1)\n",
    "m.addConstr(psi_p >= 0)\n",
    "m.addConstr(psi_n >= 0)\n",
    "m.addConstr(A_p @ w + psi_p >= 1.0)\n",
    "m.addConstr(A_n @ w == psi_n)\n",
    "m.update()"
   ]
  },
  {
   "cell_type": "code",
   "execution_count": 11,
   "metadata": {},
   "outputs": [],
   "source": [
    "m.setObjective(sum(w) + 1000 * (sum(psi_p) + sum(psi_n)), GRB.MINIMIZE)"
   ]
  },
  {
   "cell_type": "code",
   "execution_count": 12,
   "metadata": {},
   "outputs": [
    {
     "name": "stdout",
     "output_type": "stream",
     "text": [
      "Gurobi Optimizer version 9.0.3 build v9.0.3rc0 (linux64)\n",
      "Optimize a model with 410 rows, 155 columns and 536 nonzeros\n",
      "Model fingerprint: 0x62236fb6\n",
      "Coefficient statistics:\n",
      "  Matrix range     [1e+00, 1e+00]\n",
      "  Objective range  [1e+00, 1e+03]\n",
      "  Bounds range     [0e+00, 0e+00]\n",
      "  RHS range        [1e+00, 1e+00]\n",
      "Presolve removed 410 rows and 155 columns\n",
      "Presolve time: 0.00s\n",
      "Presolve: All rows and columns removed\n",
      "Iteration    Objective       Primal Inf.    Dual Inf.      Time\n",
      "       0    4.0030000e+03   0.000000e+00   1.003000e+03      0s\n",
      "Extra 4 simplex iterations after uncrush\n",
      "       4    4.0030000e+03   0.000000e+00   0.000000e+00      0s\n",
      "\n",
      "Solved in 4 iterations and 0.00 seconds\n",
      "Optimal objective  4.003000000e+03\n"
     ]
    }
   ],
   "source": [
    "m.optimize()"
   ]
  },
  {
   "cell_type": "code",
   "execution_count": 13,
   "metadata": {},
   "outputs": [
    {
     "name": "stdout",
     "output_type": "stream",
     "text": [
      "<gurobi.Var weights[0] (value 0.0)>\n",
      "<gurobi.Var weights[1] (value 0.0)>\n",
      "<gurobi.Var weights[2] (value 1.0)>\n",
      "<gurobi.Var weights[3] (value 1.0)>\n",
      "<gurobi.Var weights[4] (value 1.0)>\n"
     ]
    }
   ],
   "source": [
    "m.getVarByName(\"weights[0]\")\n",
    "for i in range(measurement.shape[1]):\n",
    "    print(m.getVarByName(\"weights[\" + str(i) + \"]\"))"
   ]
  },
  {
   "cell_type": "markdown",
   "metadata": {},
   "source": [
    "Here we can see the correct rules were chosen, so it is safe to say that the optimization is implemented correctly. "
   ]
  }
 ],
 "metadata": {
  "kernelspec": {
   "display_name": "Python 3",
   "language": "python",
   "name": "python3"
  },
  "language_info": {
   "codemirror_mode": {
    "name": "ipython",
    "version": 3
   },
   "file_extension": ".py",
   "mimetype": "text/x-python",
   "name": "python",
   "nbconvert_exporter": "python",
   "pygments_lexer": "ipython3",
   "version": "3.7.9"
  }
 },
 "nbformat": 4,
 "nbformat_minor": 4
}

{
 "cells": [
  {
   "cell_type": "markdown",
   "metadata": {},
   "source": [
    "# Version 1.0 Model Predictions"
   ]
  },
  {
   "cell_type": "code",
   "execution_count": 1,
   "metadata": {},
   "outputs": [],
   "source": [
    "import pandas as pd\n",
    "import numpy as np\n",
    "import seaborn as sns"
   ]
  },
  {
   "cell_type": "markdown",
   "metadata": {},
   "source": [
    "## Import Data Sets\n",
    "Here we will import `NetC_Expanded` which is data seperated by management style, result and slavage status, and we will import the predictors and join those datasets."
   ]
  },
  {
   "cell_type": "code",
   "execution_count": 2,
   "metadata": {},
   "outputs": [
    {
     "data": {
      "text/html": [
       "<div>\n",
       "<style scoped>\n",
       "    .dataframe tbody tr th:only-of-type {\n",
       "        vertical-align: middle;\n",
       "    }\n",
       "\n",
       "    .dataframe tbody tr th {\n",
       "        vertical-align: top;\n",
       "    }\n",
       "\n",
       "    .dataframe thead th {\n",
       "        text-align: right;\n",
       "    }\n",
       "</style>\n",
       "<table border=\"1\" class=\"dataframe\">\n",
       "  <thead>\n",
       "    <tr style=\"text-align: right;\">\n",
       "      <th></th>\n",
       "      <th>TimeStep</th>\n",
       "      <th>Risk_Cat</th>\n",
       "      <th>Stand_ID</th>\n",
       "      <th>Salvage</th>\n",
       "      <th>Management</th>\n",
       "      <th>Result</th>\n",
       "    </tr>\n",
       "  </thead>\n",
       "  <tbody>\n",
       "    <tr>\n",
       "      <th>0</th>\n",
       "      <td>0</td>\n",
       "      <td>4</td>\n",
       "      <td>0023200606030102900043</td>\n",
       "      <td>True</td>\n",
       "      <td>Heavy</td>\n",
       "      <td>-249.287884</td>\n",
       "    </tr>\n",
       "    <tr>\n",
       "      <th>1</th>\n",
       "      <td>0</td>\n",
       "      <td>4</td>\n",
       "      <td>0023200606030102900043</td>\n",
       "      <td>True</td>\n",
       "      <td>NoMgmt</td>\n",
       "      <td>-321.931519</td>\n",
       "    </tr>\n",
       "    <tr>\n",
       "      <th>2</th>\n",
       "      <td>0</td>\n",
       "      <td>4</td>\n",
       "      <td>0023200606030102900043</td>\n",
       "      <td>True</td>\n",
       "      <td>Moderate</td>\n",
       "      <td>-276.111511</td>\n",
       "    </tr>\n",
       "    <tr>\n",
       "      <th>3</th>\n",
       "      <td>0</td>\n",
       "      <td>4</td>\n",
       "      <td>0023200606030102900043</td>\n",
       "      <td>True</td>\n",
       "      <td>Comm-Ind</td>\n",
       "      <td>-250.583375</td>\n",
       "    </tr>\n",
       "    <tr>\n",
       "      <th>4</th>\n",
       "      <td>0</td>\n",
       "      <td>4</td>\n",
       "      <td>0023200606030102900043</td>\n",
       "      <td>True</td>\n",
       "      <td>HighGrade</td>\n",
       "      <td>-293.426896</td>\n",
       "    </tr>\n",
       "  </tbody>\n",
       "</table>\n",
       "</div>"
      ],
      "text/plain": [
       "   TimeStep  Risk_Cat                Stand_ID  Salvage Management      Result\n",
       "0         0         4  0023200606030102900043     True      Heavy -249.287884\n",
       "1         0         4  0023200606030102900043     True     NoMgmt -321.931519\n",
       "2         0         4  0023200606030102900043     True   Moderate -276.111511\n",
       "3         0         4  0023200606030102900043     True   Comm-Ind -250.583375\n",
       "4         0         4  0023200606030102900043     True  HighGrade -293.426896"
      ]
     },
     "execution_count": 2,
     "metadata": {},
     "output_type": "execute_result"
    }
   ],
   "source": [
    "netc_expanded = pd.read_csv('../Data/NetC_Expanded.csv')\n",
    "netc_expanded = netc_expanded.drop(['Unnamed: 0'], axis=1)\n",
    "netc_expanded.head()"
   ]
  },
  {
   "cell_type": "code",
   "execution_count": 3,
   "metadata": {},
   "outputs": [
    {
     "data": {
      "text/html": [
       "<div>\n",
       "<style scoped>\n",
       "    .dataframe tbody tr th:only-of-type {\n",
       "        vertical-align: middle;\n",
       "    }\n",
       "\n",
       "    .dataframe tbody tr th {\n",
       "        vertical-align: top;\n",
       "    }\n",
       "\n",
       "    .dataframe thead th {\n",
       "        text-align: right;\n",
       "    }\n",
       "</style>\n",
       "<table border=\"1\" class=\"dataframe\">\n",
       "  <thead>\n",
       "    <tr style=\"text-align: right;\">\n",
       "      <th></th>\n",
       "      <th>BF_BA</th>\n",
       "      <th>OHost_BA</th>\n",
       "      <th>BF_Stock</th>\n",
       "      <th>OHost_Stock</th>\n",
       "      <th>NonHost_Stock</th>\n",
       "      <th>BF_QMD</th>\n",
       "      <th>ELEV</th>\n",
       "      <th>SLOPE</th>\n",
       "      <th>ASPECT</th>\n",
       "      <th>LAT</th>\n",
       "      <th>SiteInd</th>\n",
       "    </tr>\n",
       "    <tr>\n",
       "      <th>Stand_ID</th>\n",
       "      <th></th>\n",
       "      <th></th>\n",
       "      <th></th>\n",
       "      <th></th>\n",
       "      <th></th>\n",
       "      <th></th>\n",
       "      <th></th>\n",
       "      <th></th>\n",
       "      <th></th>\n",
       "      <th></th>\n",
       "      <th></th>\n",
       "    </tr>\n",
       "  </thead>\n",
       "  <tbody>\n",
       "    <tr>\n",
       "      <th>0023200606030200300067</th>\n",
       "      <td>NaN</td>\n",
       "      <td>0.498332</td>\n",
       "      <td>NaN</td>\n",
       "      <td>0.883600</td>\n",
       "      <td>56.9255</td>\n",
       "      <td>NaN</td>\n",
       "      <td>580</td>\n",
       "      <td>5.0</td>\n",
       "      <td>240.0</td>\n",
       "      <td>46.14358</td>\n",
       "      <td>NaN</td>\n",
       "    </tr>\n",
       "    <tr>\n",
       "      <th>0023200606030200300826</th>\n",
       "      <td>3.899610</td>\n",
       "      <td>11.890484</td>\n",
       "      <td>21.8437</td>\n",
       "      <td>0.885569</td>\n",
       "      <td>18.6635</td>\n",
       "      <td>4.965398</td>\n",
       "      <td>1170</td>\n",
       "      <td>0.0</td>\n",
       "      <td>0.0</td>\n",
       "      <td>47.19684</td>\n",
       "      <td>28.0</td>\n",
       "    </tr>\n",
       "    <tr>\n",
       "      <th>0023200606030200300924</th>\n",
       "      <td>0.036869</td>\n",
       "      <td>7.443510</td>\n",
       "      <td>0.2679</td>\n",
       "      <td>1.166825</td>\n",
       "      <td>3.8019</td>\n",
       "      <td>2.600000</td>\n",
       "      <td>990</td>\n",
       "      <td>0.0</td>\n",
       "      <td>0.0</td>\n",
       "      <td>46.64171</td>\n",
       "      <td>33.0</td>\n",
       "    </tr>\n",
       "    <tr>\n",
       "      <th>0023200606030301901813</th>\n",
       "      <td>0.967649</td>\n",
       "      <td>1.368845</td>\n",
       "      <td>63.7216</td>\n",
       "      <td>1.609179</td>\n",
       "      <td>12.1858</td>\n",
       "      <td>2.106063</td>\n",
       "      <td>180</td>\n",
       "      <td>0.0</td>\n",
       "      <td>0.0</td>\n",
       "      <td>45.09319</td>\n",
       "      <td>40.0</td>\n",
       "    </tr>\n",
       "    <tr>\n",
       "      <th>0023200606030400901513</th>\n",
       "      <td>3.352901</td>\n",
       "      <td>6.679677</td>\n",
       "      <td>73.4189</td>\n",
       "      <td>1.397641</td>\n",
       "      <td>18.2434</td>\n",
       "      <td>3.405766</td>\n",
       "      <td>250</td>\n",
       "      <td>0.0</td>\n",
       "      <td>0.0</td>\n",
       "      <td>44.73563</td>\n",
       "      <td>NaN</td>\n",
       "    </tr>\n",
       "  </tbody>\n",
       "</table>\n",
       "</div>"
      ],
      "text/plain": [
       "                           BF_BA   OHost_BA  BF_Stock  OHost_Stock  \\\n",
       "Stand_ID                                                             \n",
       "0023200606030200300067       NaN   0.498332       NaN     0.883600   \n",
       "0023200606030200300826  3.899610  11.890484   21.8437     0.885569   \n",
       "0023200606030200300924  0.036869   7.443510    0.2679     1.166825   \n",
       "0023200606030301901813  0.967649   1.368845   63.7216     1.609179   \n",
       "0023200606030400901513  3.352901   6.679677   73.4189     1.397641   \n",
       "\n",
       "                        NonHost_Stock    BF_QMD  ELEV  SLOPE  ASPECT  \\\n",
       "Stand_ID                                                               \n",
       "0023200606030200300067        56.9255       NaN   580    5.0   240.0   \n",
       "0023200606030200300826        18.6635  4.965398  1170    0.0     0.0   \n",
       "0023200606030200300924         3.8019  2.600000   990    0.0     0.0   \n",
       "0023200606030301901813        12.1858  2.106063   180    0.0     0.0   \n",
       "0023200606030400901513        18.2434  3.405766   250    0.0     0.0   \n",
       "\n",
       "                             LAT  SiteInd  \n",
       "Stand_ID                                   \n",
       "0023200606030200300067  46.14358      NaN  \n",
       "0023200606030200300826  47.19684     28.0  \n",
       "0023200606030200300924  46.64171     33.0  \n",
       "0023200606030301901813  45.09319     40.0  \n",
       "0023200606030400901513  44.73563      NaN  "
      ]
     },
     "execution_count": 3,
     "metadata": {},
     "output_type": "execute_result"
    }
   ],
   "source": [
    "predictors = pd.read_csv('../Data/Predict_SBW_wCarbon_T0to40.csv')\n",
    "predictors = predictors.rename(columns={'StandID': 'Stand_ID'})\n",
    "predictors = predictors.set_index('Stand_ID')\n",
    "predictors = predictors[[\"BF_BA\",\"OHost_BA\",\"BF_Stock\",\"OHost_Stock\",\"NonHost_Stock\",\"BF_QMD\",\"ELEV\",\"SLOPE\",\"ASPECT\",\"LAT\",\"SiteInd\"]]\n",
    "predictors.head()"
   ]
  },
  {
   "cell_type": "markdown",
   "metadata": {},
   "source": [
    "## Selecting Management Style \n",
    "Gong to define a management style upfront to create rule set"
   ]
  },
  {
   "cell_type": "code",
   "execution_count": 4,
   "metadata": {},
   "outputs": [],
   "source": [
    "MANAGEMENT_STYLE = 'NoMgmt'\n",
    "\n",
    "mgmt_df = netc_expanded[netc_expanded['Management'] == MANAGEMENT_STYLE]"
   ]
  },
  {
   "cell_type": "markdown",
   "metadata": {},
   "source": [
    "Here is an example of what we see in the mgmt_df after grouping stand_id and getting the value at timestep 40"
   ]
  },
  {
   "cell_type": "code",
   "execution_count": 5,
   "metadata": {},
   "outputs": [
    {
     "data": {
      "text/html": [
       "<div>\n",
       "<style scoped>\n",
       "    .dataframe tbody tr th:only-of-type {\n",
       "        vertical-align: middle;\n",
       "    }\n",
       "\n",
       "    .dataframe tbody tr th {\n",
       "        vertical-align: top;\n",
       "    }\n",
       "\n",
       "    .dataframe thead th {\n",
       "        text-align: right;\n",
       "    }\n",
       "</style>\n",
       "<table border=\"1\" class=\"dataframe\">\n",
       "  <thead>\n",
       "    <tr style=\"text-align: right;\">\n",
       "      <th></th>\n",
       "      <th>TimeStep</th>\n",
       "      <th>Risk_Cat</th>\n",
       "      <th>Stand_ID</th>\n",
       "      <th>Management</th>\n",
       "      <th>Result</th>\n",
       "    </tr>\n",
       "    <tr>\n",
       "      <th>Salvage</th>\n",
       "      <th></th>\n",
       "      <th></th>\n",
       "      <th></th>\n",
       "      <th></th>\n",
       "      <th></th>\n",
       "    </tr>\n",
       "  </thead>\n",
       "  <tbody>\n",
       "    <tr>\n",
       "      <th>True</th>\n",
       "      <td>40</td>\n",
       "      <td>1</td>\n",
       "      <td>0023200606030400901513</td>\n",
       "      <td>NoMgmt</td>\n",
       "      <td>-340.709429</td>\n",
       "    </tr>\n",
       "    <tr>\n",
       "      <th>False</th>\n",
       "      <td>40</td>\n",
       "      <td>1</td>\n",
       "      <td>0023200606030400901513</td>\n",
       "      <td>NoMgmt</td>\n",
       "      <td>-286.246874</td>\n",
       "    </tr>\n",
       "  </tbody>\n",
       "</table>\n",
       "</div>"
      ],
      "text/plain": [
       "         TimeStep  Risk_Cat                Stand_ID Management      Result\n",
       "Salvage                                                                   \n",
       "True           40         1  0023200606030400901513     NoMgmt -340.709429\n",
       "False          40         1  0023200606030400901513     NoMgmt -286.246874"
      ]
     },
     "execution_count": 5,
     "metadata": {},
     "output_type": "execute_result"
    }
   ],
   "source": [
    "x = mgmt_df[(mgmt_df['Stand_ID'] == '0023200606030400901513') & \n",
    "            (mgmt_df['TimeStep'] == 40)].groupby('Salvage').head().set_index('Salvage')\n",
    "x"
   ]
  },
  {
   "cell_type": "markdown",
   "metadata": {},
   "source": [
    "Choosing a left join to drop `na` for "
   ]
  },
  {
   "cell_type": "code",
   "execution_count": 6,
   "metadata": {},
   "outputs": [],
   "source": [
    "def get_mgmt_df(target_df, pred_df, tol):\n",
    "    \"\"\"\n",
    "    Returns labeled DF for salvage and non salvage decisions\n",
    "    \"\"\"\n",
    "    temp_df = pd.DataFrame(columns=['Stand_ID', 'Salvage_Good', 'Result'])\n",
    "    for stand in target_df['Stand_ID'].unique():\n",
    "        \n",
    "        group_df = target_df[(target_df['Stand_ID'] == stand)\n",
    "                             & (target_df['TimeStep'] == 40)]\n",
    "        group_df = group_df.set_index('Salvage')\n",
    "        \n",
    "        # calculate diff\n",
    "        # This assumes that best is always negative\n",
    "        diff = group_df['Result'].min() - group_df['Result'].max()\n",
    "        \n",
    "        # If index is True where min is acheived\n",
    "        if group_df['Result'].idxmin():  # and diff > tol:\n",
    "            temp_df = temp_df.append(\n",
    "                pd.DataFrame({\n",
    "                    'Stand_ID': [stand],\n",
    "                    'Salvage_Good': [True],\n",
    "                    'Result': [group_df['Result'].min()],\n",
    "                    'diff': [diff]\n",
    "                })\n",
    "            )\n",
    "        else:\n",
    "            temp_df = temp_df.append(\n",
    "                pd.DataFrame({\n",
    "                    'Stand_ID': [stand],\n",
    "                    'Salvage_Good': [False],\n",
    "                    'Result': [group_df['Result'].min()],\n",
    "                    'diff': [diff]\n",
    "                })\n",
    "            )\n",
    "            \n",
    "    temp_df = temp_df.set_index('Stand_ID')\n",
    "    return pd.merge(pred_df, temp_df, on=\"Stand_ID\", right_index=True)"
   ]
  },
  {
   "cell_type": "code",
   "execution_count": 7,
   "metadata": {},
   "outputs": [],
   "source": [
    "heavy_df = get_mgmt_df(mgmt_df, predictors, 0)"
   ]
  },
  {
   "cell_type": "code",
   "execution_count": 8,
   "metadata": {},
   "outputs": [],
   "source": [
    "heavy_df = heavy_df.fillna(heavy_df.median())"
   ]
  },
  {
   "cell_type": "code",
   "execution_count": 9,
   "metadata": {},
   "outputs": [
    {
     "data": {
      "text/html": [
       "<div>\n",
       "<style scoped>\n",
       "    .dataframe tbody tr th:only-of-type {\n",
       "        vertical-align: middle;\n",
       "    }\n",
       "\n",
       "    .dataframe tbody tr th {\n",
       "        vertical-align: top;\n",
       "    }\n",
       "\n",
       "    .dataframe thead th {\n",
       "        text-align: right;\n",
       "    }\n",
       "</style>\n",
       "<table border=\"1\" class=\"dataframe\">\n",
       "  <thead>\n",
       "    <tr style=\"text-align: right;\">\n",
       "      <th></th>\n",
       "      <th>BF_BA</th>\n",
       "      <th>OHost_BA</th>\n",
       "      <th>BF_Stock</th>\n",
       "      <th>OHost_Stock</th>\n",
       "      <th>NonHost_Stock</th>\n",
       "      <th>BF_QMD</th>\n",
       "      <th>ELEV</th>\n",
       "      <th>SLOPE</th>\n",
       "      <th>ASPECT</th>\n",
       "      <th>LAT</th>\n",
       "      <th>SiteInd</th>\n",
       "      <th>Salvage_Good</th>\n",
       "      <th>Result</th>\n",
       "      <th>diff</th>\n",
       "    </tr>\n",
       "    <tr>\n",
       "      <th>Stand_ID</th>\n",
       "      <th></th>\n",
       "      <th></th>\n",
       "      <th></th>\n",
       "      <th></th>\n",
       "      <th></th>\n",
       "      <th></th>\n",
       "      <th></th>\n",
       "      <th></th>\n",
       "      <th></th>\n",
       "      <th></th>\n",
       "      <th></th>\n",
       "      <th></th>\n",
       "      <th></th>\n",
       "      <th></th>\n",
       "    </tr>\n",
       "  </thead>\n",
       "  <tbody>\n",
       "    <tr>\n",
       "      <th>0023200606030200300067</th>\n",
       "      <td>2.325367</td>\n",
       "      <td>0.498332</td>\n",
       "      <td>11.4585</td>\n",
       "      <td>0.883600</td>\n",
       "      <td>56.9255</td>\n",
       "      <td>5.490730</td>\n",
       "      <td>580</td>\n",
       "      <td>5.0</td>\n",
       "      <td>240.0</td>\n",
       "      <td>46.14358</td>\n",
       "      <td>42.0</td>\n",
       "      <td>True</td>\n",
       "      <td>-664.759580</td>\n",
       "      <td>-76.262993</td>\n",
       "    </tr>\n",
       "    <tr>\n",
       "      <th>0023200606030200300826</th>\n",
       "      <td>3.899610</td>\n",
       "      <td>11.890484</td>\n",
       "      <td>21.8437</td>\n",
       "      <td>0.885569</td>\n",
       "      <td>18.6635</td>\n",
       "      <td>4.965398</td>\n",
       "      <td>1170</td>\n",
       "      <td>0.0</td>\n",
       "      <td>0.0</td>\n",
       "      <td>47.19684</td>\n",
       "      <td>28.0</td>\n",
       "      <td>True</td>\n",
       "      <td>-378.709805</td>\n",
       "      <td>-37.679733</td>\n",
       "    </tr>\n",
       "    <tr>\n",
       "      <th>0023200606030200300924</th>\n",
       "      <td>0.036869</td>\n",
       "      <td>7.443510</td>\n",
       "      <td>0.2679</td>\n",
       "      <td>1.166825</td>\n",
       "      <td>3.8019</td>\n",
       "      <td>2.600000</td>\n",
       "      <td>990</td>\n",
       "      <td>0.0</td>\n",
       "      <td>0.0</td>\n",
       "      <td>46.64171</td>\n",
       "      <td>33.0</td>\n",
       "      <td>True</td>\n",
       "      <td>-384.995331</td>\n",
       "      <td>-70.047821</td>\n",
       "    </tr>\n",
       "    <tr>\n",
       "      <th>0023200606030301901813</th>\n",
       "      <td>0.967649</td>\n",
       "      <td>1.368845</td>\n",
       "      <td>63.7216</td>\n",
       "      <td>1.609179</td>\n",
       "      <td>12.1858</td>\n",
       "      <td>2.106063</td>\n",
       "      <td>180</td>\n",
       "      <td>0.0</td>\n",
       "      <td>0.0</td>\n",
       "      <td>45.09319</td>\n",
       "      <td>40.0</td>\n",
       "      <td>True</td>\n",
       "      <td>-537.624581</td>\n",
       "      <td>-135.395987</td>\n",
       "    </tr>\n",
       "    <tr>\n",
       "      <th>0023200606030400901513</th>\n",
       "      <td>3.352901</td>\n",
       "      <td>6.679677</td>\n",
       "      <td>73.4189</td>\n",
       "      <td>1.397641</td>\n",
       "      <td>18.2434</td>\n",
       "      <td>3.405766</td>\n",
       "      <td>250</td>\n",
       "      <td>0.0</td>\n",
       "      <td>0.0</td>\n",
       "      <td>44.73563</td>\n",
       "      <td>42.0</td>\n",
       "      <td>True</td>\n",
       "      <td>-340.709429</td>\n",
       "      <td>-54.462554</td>\n",
       "    </tr>\n",
       "  </tbody>\n",
       "</table>\n",
       "</div>"
      ],
      "text/plain": [
       "                           BF_BA   OHost_BA  BF_Stock  OHost_Stock  \\\n",
       "Stand_ID                                                             \n",
       "0023200606030200300067  2.325367   0.498332   11.4585     0.883600   \n",
       "0023200606030200300826  3.899610  11.890484   21.8437     0.885569   \n",
       "0023200606030200300924  0.036869   7.443510    0.2679     1.166825   \n",
       "0023200606030301901813  0.967649   1.368845   63.7216     1.609179   \n",
       "0023200606030400901513  3.352901   6.679677   73.4189     1.397641   \n",
       "\n",
       "                        NonHost_Stock    BF_QMD  ELEV  SLOPE  ASPECT  \\\n",
       "Stand_ID                                                               \n",
       "0023200606030200300067        56.9255  5.490730   580    5.0   240.0   \n",
       "0023200606030200300826        18.6635  4.965398  1170    0.0     0.0   \n",
       "0023200606030200300924         3.8019  2.600000   990    0.0     0.0   \n",
       "0023200606030301901813        12.1858  2.106063   180    0.0     0.0   \n",
       "0023200606030400901513        18.2434  3.405766   250    0.0     0.0   \n",
       "\n",
       "                             LAT  SiteInd  Salvage_Good      Result  \\\n",
       "Stand_ID                                                              \n",
       "0023200606030200300067  46.14358     42.0          True -664.759580   \n",
       "0023200606030200300826  47.19684     28.0          True -378.709805   \n",
       "0023200606030200300924  46.64171     33.0          True -384.995331   \n",
       "0023200606030301901813  45.09319     40.0          True -537.624581   \n",
       "0023200606030400901513  44.73563     42.0          True -340.709429   \n",
       "\n",
       "                              diff  \n",
       "Stand_ID                            \n",
       "0023200606030200300067  -76.262993  \n",
       "0023200606030200300826  -37.679733  \n",
       "0023200606030200300924  -70.047821  \n",
       "0023200606030301901813 -135.395987  \n",
       "0023200606030400901513  -54.462554  "
      ]
     },
     "execution_count": 9,
     "metadata": {},
     "output_type": "execute_result"
    }
   ],
   "source": [
    "heavy_df.head()"
   ]
  },
  {
   "cell_type": "markdown",
   "metadata": {},
   "source": [
    "Here we can see that the option to not salvage benefited more than salvaging, so in this case we won't offer salvage credit."
   ]
  },
  {
   "cell_type": "markdown",
   "metadata": {},
   "source": [
    "## Split Data"
   ]
  },
  {
   "cell_type": "code",
<<<<<<< HEAD
   "execution_count": 47,
=======
   "execution_count": 10,
>>>>>>> 7713c959166726808983db34372609783762d9ac
   "metadata": {},
   "outputs": [],
   "source": [
    "from sklearn.model_selection import train_test_split\n",
    "from sklearn.metrics import accuracy_score"
   ]
  },
  {
   "cell_type": "code",
<<<<<<< HEAD
   "execution_count": 48,
=======
   "execution_count": 11,
>>>>>>> 7713c959166726808983db34372609783762d9ac
   "metadata": {},
   "outputs": [],
   "source": [
    "X = heavy_df.drop(['Salvage_Good', 'Result'], axis=1)\n",
    "y = heavy_df[['Salvage_Good']].astype('int')"
   ]
  },
  {
   "cell_type": "code",
<<<<<<< HEAD
   "execution_count": 49,
=======
   "execution_count": 12,
>>>>>>> 7713c959166726808983db34372609783762d9ac
   "metadata": {},
   "outputs": [],
   "source": [
    "X_train, X_test, y_train, y_test = train_test_split(X, y, test_size=0.2)"
   ]
  },
  {
   "cell_type": "code",
<<<<<<< HEAD
   "execution_count": 50,
=======
   "execution_count": 13,
>>>>>>> 7713c959166726808983db34372609783762d9ac
   "metadata": {},
   "outputs": [],
   "source": [
    "train = X_train.copy()\n",
    "train['Salvage_Good'] = y_train.to_numpy()"
   ]
  },
  {
   "cell_type": "markdown",
   "metadata": {},
   "source": [
    "## Baselines"
   ]
  },
  {
   "cell_type": "markdown",
   "metadata": {},
   "source": [
    "`IP` is an interpretability constant since net saved emissions is always large"
   ]
  },
  {
   "cell_type": "code",
<<<<<<< HEAD
   "execution_count": 51,
=======
   "execution_count": 14,
>>>>>>> 7713c959166726808983db34372609783762d9ac
   "metadata": {},
   "outputs": [],
   "source": [
    "IP = 10000"
   ]
  },
  {
   "cell_type": "code",
<<<<<<< HEAD
   "execution_count": 52,
=======
   "execution_count": 15,
>>>>>>> 7713c959166726808983db34372609783762d9ac
   "metadata": {},
   "outputs": [],
   "source": [
    "assess_df = mgmt_df.set_index('Stand_ID')\n",
    "assess_df = assess_df[assess_df['TimeStep'] == 40]\n",
    "assess_df = assess_df[['Salvage', 'Result']]\n",
    "\n",
    "assess_df = pd.merge(assess_df, X_test, on=\"Stand_ID\")"
   ]
  },
  {
   "cell_type": "markdown",
   "metadata": {},
   "source": [
    "### (1) Don't Salvage At All"
   ]
  },
  {
   "cell_type": "code",
<<<<<<< HEAD
   "execution_count": 53,
=======
   "execution_count": 17,
>>>>>>> 7713c959166726808983db34372609783762d9ac
   "metadata": {},
   "outputs": [
    {
     "data": {
      "text/plain": [
<<<<<<< HEAD
       "-60.710494488870005"
      ]
     },
     "execution_count": 53,
=======
       "-58.57586282454"
      ]
     },
     "execution_count": 17,
>>>>>>> 7713c959166726808983db34372609783762d9ac
     "metadata": {},
     "output_type": "execute_result"
    }
   ],
   "source": [
    "no_salvage = assess_df[(assess_df['Salvage'] == False)]\n",
    "no_salvage_score = no_salvage['Result'].sum()\n",
    "no_salvage_score / IP"
   ]
  },
  {
   "cell_type": "markdown",
   "metadata": {},
   "source": [
    "### (2) Only Salvage"
   ]
  },
  {
   "cell_type": "code",
<<<<<<< HEAD
   "execution_count": 54,
=======
   "execution_count": 18,
>>>>>>> 7713c959166726808983db34372609783762d9ac
   "metadata": {},
   "outputs": [
    {
     "data": {
      "text/plain": [
<<<<<<< HEAD
       "-65.92417683484"
      ]
     },
     "execution_count": 54,
=======
       "-63.896292857521004"
      ]
     },
     "execution_count": 18,
>>>>>>> 7713c959166726808983db34372609783762d9ac
     "metadata": {},
     "output_type": "execute_result"
    }
   ],
   "source": [
    "only_salvage = assess_df[(assess_df['Salvage'] == True)]\n",
    "only_salvage_score = only_salvage['Result'].sum()\n",
    "only_salvage_score / IP"
   ]
  },
  {
   "cell_type": "markdown",
   "metadata": {},
   "source": [
    "### (3) Optimal"
   ]
  },
  {
   "cell_type": "code",
<<<<<<< HEAD
   "execution_count": 55,
=======
   "execution_count": 19,
>>>>>>> 7713c959166726808983db34372609783762d9ac
   "metadata": {},
   "outputs": [
    {
     "data": {
      "text/plain": [
<<<<<<< HEAD
       "-66.24576878969002"
      ]
     },
     "execution_count": 55,
=======
       "-64.20755953479"
      ]
     },
     "execution_count": 19,
>>>>>>> 7713c959166726808983db34372609783762d9ac
     "metadata": {},
     "output_type": "execute_result"
    }
   ],
   "source": [
    "optimal = pd.merge(assess_df, heavy_df['Salvage_Good'], on=\"Stand_ID\")\n",
<<<<<<< HEAD
    "salvage_optimal = optimal[(optimal['Salvage_Good'] == True) & \n",
    "                          (optimal['Salvage'] == True)].Result.sum()\n",
    "no_salvage_optimal = optimal[(optimal['Salvage_Good'] == False) & \n",
    "                             (optimal['Salvage'] == False)].Result.sum()\n",
=======
    "salvage_optimal = optimal[(optimal['Salvage_Good'] == True) & (optimal['Salvage'] == True)].Result.sum()\n",
    "no_salvage_optimal = optimal[(optimal['Salvage_Good'] == False) & (optimal['Salvage'] == False)].Result.sum()\n",
>>>>>>> 7713c959166726808983db34372609783762d9ac
    "(salvage_optimal + no_salvage_optimal) / IP"
   ]
  },
  {
   "cell_type": "markdown",
   "metadata": {},
   "source": [
    "### SKOPE Rules"
   ]
  },
  {
   "cell_type": "code",
<<<<<<< HEAD
   "execution_count": 56,
=======
   "execution_count": 21,
>>>>>>> 7713c959166726808983db34372609783762d9ac
   "metadata": {},
   "outputs": [],
   "source": [
    "from imodels.rule_set.skope_rules import SkopeRulesClassifier\n",
    "from sklearn.metrics import accuracy_score\n",
    "\n",
    "import matplotlib.pyplot as plt"
   ]
  },
  {
   "cell_type": "code",
<<<<<<< HEAD
   "execution_count": 57,
=======
   "execution_count": 38,
>>>>>>> 7713c959166726808983db34372609783762d9ac
   "metadata": {},
   "outputs": [],
   "source": [
    "try:\n",
    "    X_train = X_train.drop(['diff'], axis=1)\n",
    "    X_test = X_test.drop(['diff'], axis=1)\n",
    "except KeyError:\n",
    "    pass"
   ]
  },
  {
   "cell_type": "code",
<<<<<<< HEAD
   "execution_count": 251,
=======
   "execution_count": 41,
>>>>>>> 7713c959166726808983db34372609783762d9ac
   "metadata": {},
   "outputs": [
    {
     "data": {
      "text/plain": [
<<<<<<< HEAD
       "SkopeRulesClassifier(n_estimators=1, precision_min=0.8, recall_min=0)"
      ]
     },
     "execution_count": 251,
=======
       "SkopeRulesClassifier(n_estimators=1, recall_min=0.05)"
      ]
     },
     "execution_count": 41,
>>>>>>> 7713c959166726808983db34372609783762d9ac
     "metadata": {},
     "output_type": "execute_result"
    }
   ],
   "source": [
    "clf = SkopeRulesClassifier(\n",
    "    max_depth_duplication=None,\n",
    "    n_estimators=1,\n",
<<<<<<< HEAD
    "    precision_min=0.8,\n",
    "    recall_min=0, \n",
=======
    "    precision_min=0.5,\n",
    "    recall_min=0.05, \n",
>>>>>>> 7713c959166726808983db34372609783762d9ac
    ")\n",
    "clf.fit(X_train, y_train.to_numpy().ravel())"
   ]
  },
  {
   "cell_type": "code",
<<<<<<< HEAD
   "execution_count": 264,
   "metadata": {},
   "outputs": [
    {
     "data": {
      "text/plain": [
       "0.7401015228426396"
      ]
     },
     "execution_count": 264,
     "metadata": {},
     "output_type": "execute_result"
    }
   ],
   "source": [
    "y_train_pred = clf.predict(X_train)\n",
    "accuracy_score(y_train, y_train_pred)"
   ]
  },
  {
   "cell_type": "code",
   "execution_count": 252,
=======
   "execution_count": 42,
>>>>>>> 7713c959166726808983db34372609783762d9ac
   "metadata": {},
   "outputs": [
    {
     "data": {
      "text/plain": [
<<<<<<< HEAD
       "0.6886409736308317"
      ]
     },
     "execution_count": 252,
=======
       "0.8133874239350912"
      ]
     },
     "execution_count": 42,
>>>>>>> 7713c959166726808983db34372609783762d9ac
     "metadata": {},
     "output_type": "execute_result"
    }
   ],
   "source": [
<<<<<<< HEAD
    "y_pred = clf.predict_top_rules(X_test, 3)\n",
=======
    "y_pred = clf.predict_top_rules(X_test, 5)\n",
>>>>>>> 7713c959166726808983db34372609783762d9ac
    "accuracy_score(y_test, y_pred)"
   ]
  },
  {
   "cell_type": "code",
<<<<<<< HEAD
   "execution_count": 247,
=======
   "execution_count": 43,
>>>>>>> 7713c959166726808983db34372609783762d9ac
   "metadata": {},
   "outputs": [
    {
     "data": {
<<<<<<< HEAD
      "image/png": "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\n",
=======
      "image/png": "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\n",
>>>>>>> 7713c959166726808983db34372609783762d9ac
      "text/plain": [
       "<Figure size 432x288 with 1 Axes>"
      ]
     },
     "metadata": {
      "needs_background": "light"
     },
     "output_type": "display_data"
    }
   ],
   "source": [
    "def show_rules():\n",
    "    \"\"\" \n",
    "    plot rules over time\n",
    "    \"\"\"\n",
    "    preds = [accuracy_score(y_train, clf.predict_top_rules(X_train, i)) for i in range(200)]\n",
    "    plt.plot([i for i in range(len(preds))],  preds)\n",
    "\n",
    "show_rules()"
   ]
  },
  {
   "cell_type": "code",
<<<<<<< HEAD
   "execution_count": 253,
=======
   "execution_count": 44,
>>>>>>> 7713c959166726808983db34372609783762d9ac
   "metadata": {},
   "outputs": [
    {
     "name": "stdout",
     "output_type": "stream",
     "text": [
<<<<<<< HEAD
      "('feature_2 > 11.663099765777588 and feature_5 <= 6.892452955245972 and feature_7 <= 72.5', (0.9315960912052117, 0.45980707395498394, 1))\n",
      "('feature_2 <= 11.663099765777588 and feature_3 <= 0.9533678293228149 and feature_5 <= 5.477818012237549', (0.859504132231405, 0.16720257234726688, 1))\n",
      "('feature_2 > 11.663099765777588 and feature_5 <= 9.002291202545166 and feature_5 > 6.892452955245972', (0.8245614035087719, 0.07556270096463022, 1))\n",
      "('feature_2 <= 11.663099765777588 and feature_3 > 0.9533678293228149 and feature_5 <= 5.482783079147339', (0.8085106382978723, 0.06109324758842444, 1))\n"
=======
      "('feature_0 > 2.3281216621398926 and feature_5 <= 7.319345712661743 and feature_5 > 5.480992317199707', (0.8939393939393939, 0.2796208530805687, 1))\n",
      "('feature_2 > 14.590049743652344 and feature_5 <= 5.480992317199707', (0.968944099378882, 0.24644549763033174, 1))\n",
      "('feature_2 <= 14.590049743652344 and feature_2 > 0.5664499998092651 and feature_5 <= 5.480992317199707', (0.8953488372093024, 0.24328593996840442, 1))\n",
      "('feature_0 > 2.3281216621398926 and feature_5 > 7.319345712661743', (0.7093023255813954, 0.09636650868878358, 1))\n",
      "('feature_0 <= 2.322640538215637 and feature_5 > 5.480992317199707', (0.5327102803738317, 0.09004739336492891, 1))\n"
>>>>>>> 7713c959166726808983db34372609783762d9ac
     ]
    }
   ],
   "source": [
    "for rule in clf.rules_:\n",
    "    print(rule)"
   ]
  },
  {
   "cell_type": "code",
<<<<<<< HEAD
   "execution_count": 254,
=======
   "execution_count": 46,
>>>>>>> 7713c959166726808983db34372609783762d9ac
   "metadata": {},
   "outputs": [
    {
     "name": "stdout",
     "output_type": "stream",
     "text": [
      "RULES LEARNED: \n",
      "feature_0 is BF_BA\n",
      "feature_2 is BF_Stock\n",
<<<<<<< HEAD
      "feature_5 is BF_QMD\n"
=======
      "feature_5 is BF_QMD\n",
      "feature_9 is LAT\n"
>>>>>>> 7713c959166726808983db34372609783762d9ac
     ]
    }
   ],
   "source": [
    "def print_columns(X, cols):\n",
    "    print(\"RULES LEARNED: \")\n",
    "    for col in cols:\n",
    "        print(\"feature_{} is {}\".format(col, X_train.columns[col]))\n",
    "        \n",
    "        \n",
<<<<<<< HEAD
    "print_columns(X_test, [0,2,5])"
=======
    "print_columns(X_test, [0,2,5,9])"
>>>>>>> 7713c959166726808983db34372609783762d9ac
   ]
  },
  {
   "cell_type": "code",
<<<<<<< HEAD
   "execution_count": 255,
=======
   "execution_count": 47,
>>>>>>> 7713c959166726808983db34372609783762d9ac
   "metadata": {},
   "outputs": [
    {
     "data": {
      "text/plain": [
<<<<<<< HEAD
       "(array([0, 1]), array([439, 547]))"
      ]
     },
     "execution_count": 255,
=======
       "(array([0, 1]), array([323, 663]))"
      ]
     },
     "execution_count": 47,
>>>>>>> 7713c959166726808983db34372609783762d9ac
     "metadata": {},
     "output_type": "execute_result"
    }
   ],
   "source": [
    "np.unique(y_pred, return_counts=True)"
   ]
  },
  {
   "cell_type": "markdown",
   "metadata": {},
   "source": [
    "### (4) Skope Rules (assess savings)"
   ]
  },
  {
   "cell_type": "code",
<<<<<<< HEAD
   "execution_count": 230,
   "metadata": {},
   "outputs": [],
   "source": [
    "from sklearn.metrics import precision_score, recall_score"
   ]
  },
  {
   "cell_type": "code",
   "execution_count": 262,
=======
   "execution_count": null,
>>>>>>> 7713c959166726808983db34372609783762d9ac
   "metadata": {},
   "outputs": [],
   "source": [
    "def assess_savings(X_test, y_pred):\n",
    "    \"\"\"\n",
    "    Append predicitons and sum slavage/no salvage results \n",
    "    \"\"\"\n",
    "    # add predictions\n",
    "    test_df = X_test.copy()\n",
    "    test_df['preds'] = y_pred\n",
<<<<<<< HEAD
    "\n",
    "    # merge with management \n",
    "    temp = pd.merge(assess_df, test_df, on=\"Stand_ID\")\n",
    "\n",
    "    salvage_sum = temp[(temp['Salvage'] == True) & (temp['preds'] == 1)].Result.sum()\n",
    "    no_salvage_sum = temp[(temp['Salvage'] == False) & (temp['preds'] == 0)].Result.sum()\n",
    "\n",
=======
    "    \n",
    "    # merge with management \n",
    "    temp = pd.merge(assess_df, test_df, on=\"Stand_ID\")\n",
    "    \n",
    "    salvage_sum = temp[(temp['Salvage'] == True) & (temp['preds'] == 1)].Result.sum()\n",
    "    no_salvage_sum = temp[(temp['Salvage'] == False) & (temp['preds'] == 0)].Result.sum()\n",
    "    \n",
>>>>>>> 7713c959166726808983db34372609783762d9ac
    "    return salvage_sum + no_salvage_sum"
   ]
  },
  {
   "cell_type": "code",
<<<<<<< HEAD
   "execution_count": 263,
   "metadata": {},
   "outputs": [
    {
     "data": {
      "text/plain": [
       "-65.04284340717001"
      ]
     },
     "execution_count": 263,
     "metadata": {},
     "output_type": "execute_result"
    }
   ],
   "source": [
    "skope_rules_score = assess_savings(X_test, y_pred)\n",
    "skope_rules_score / IP"
   ]
  },
  {
   "cell_type": "code",
   "execution_count": 260,
   "metadata": {},
   "outputs": [
    {
     "data": {
      "text/plain": [
       "0.923217550274223"
      ]
     },
     "execution_count": 260,
     "metadata": {},
     "output_type": "execute_result"
    }
   ],
   "source": [
    "precision_score(y_test, y_pred)"
   ]
  },
  {
   "cell_type": "code",
   "execution_count": 261,
   "metadata": {},
   "outputs": [
    {
     "data": {
      "text/plain": [
       "0.6558441558441559"
      ]
     },
     "execution_count": 261,
     "metadata": {},
     "output_type": "execute_result"
    }
   ],
   "source": [
    "recall_score(y_test, y_pred)"
=======
   "execution_count": null,
   "metadata": {},
   "outputs": [],
   "source": [
    "skope_rules_score = assess_savings(X_test, y_pred)"
>>>>>>> 7713c959166726808983db34372609783762d9ac
   ]
  },
  {
   "cell_type": "markdown",
   "metadata": {},
   "source": [
    "## Boolean Compressed Sensing "
   ]
  },
  {
   "cell_type": "markdown",
   "metadata": {},
   "source": [
    "### Naive Split"
   ]
  },
  {
   "cell_type": "code",
<<<<<<< HEAD
   "execution_count": 30,
=======
   "execution_count": null,
>>>>>>> 7713c959166726808983db34372609783762d9ac
   "metadata": {
    "jupyter": {
     "source_hidden": true
    }
   },
   "outputs": [],
   "source": [
    "def create_design_matrices(df, quantiles):\n",
    "    \"\"\"Create A_N and A_P\"\"\"\n",
    "    measurement = pd.DataFrame()\n",
    "    measurement['Salvage_Good'] = df['Salvage_Good']\n",
    "    labels = ['Q' + str(q) for q in range(1, quantiles+1)]\n",
    "    bins = []\n",
    "\n",
    "    for col in df:\n",
    "        if col == 'Result' or col == 'Salvage_Good':\n",
    "            continue\n",
    "\n",
    "        try:\n",
    "            measurement[col], b = pd.qcut(df[col], quantiles, labels=labels, retbins=True)\n",
    "            bins.append(b)\n",
    "        except ValueError:\n",
    "            labels = ['Q' + str(q) for q in range(1, quantiles-1)]\n",
    "            measurement[col] = pd.qcut(heavy_df[col], quantiles-2, labels=labels)\n",
    "            labels = ['Q' + str(q) for q in range(1, quantiles)]\n",
    "\n",
    "    measurement = pd.get_dummies(measurement, drop_first=False)\n",
    "    A_p = measurement[measurement['Salvage_Good'] == 1].drop('Salvage_Good', axis=1)\n",
    "    A_n = measurement[measurement['Salvage_Good'] != 1].drop('Salvage_Good', axis=1)\n",
    "\n",
    "\n",
    "    return A_p.to_numpy(), A_n.to_numpy(), measurement.to_numpy(), list(A_p.columns), bins"
   ]
  },
  {
   "cell_type": "code",
<<<<<<< HEAD
   "execution_count": 31,
=======
   "execution_count": null,
>>>>>>> 7713c959166726808983db34372609783762d9ac
   "metadata": {
    "jupyter": {
     "source_hidden": true
    }
   },
   "outputs": [],
   "source": [
    "def create_test_matrix(df, features, bins):\n",
    "    temp = pd.DataFrame()\n",
    "    for i, col in enumerate(df):\n",
    "        temp[features[i]] = df[col].apply(\n",
    "            lambda x: 1 if x >= bins[i][1] else 0\n",
    "        )\n",
    "\n",
    "    return temp"
   ]
  },
  {
   "cell_type": "code",
<<<<<<< HEAD
   "execution_count": 32,
=======
   "execution_count": null,
>>>>>>> 7713c959166726808983db34372609783762d9ac
   "metadata": {
    "jupyter": {
     "source_hidden": true
    }
   },
   "outputs": [],
   "source": [
    "A_p, A_n, measurement, features, bins = create_design_matrices(train, 2)"
   ]
  },
  {
   "cell_type": "code",
<<<<<<< HEAD
   "execution_count": 33,
=======
   "execution_count": null,
>>>>>>> 7713c959166726808983db34372609783762d9ac
   "metadata": {
    "jupyter": {
     "source_hidden": true
    }
   },
   "outputs": [],
   "source": [
    "test_design = create_test_matrix(X_test, features, bins)"
   ]
  },
  {
   "cell_type": "markdown",
   "metadata": {},
   "source": [
    "### Rule Set using Rule Fit "
   ]
  },
  {
   "cell_type": "code",
   "execution_count": null,
   "metadata": {},
   "outputs": [],
   "source": []
  },
  {
   "cell_type": "markdown",
   "metadata": {},
   "source": [
    "### Learn Sparse Rules"
   ]
  },
  {
   "cell_type": "code",
<<<<<<< HEAD
   "execution_count": 34,
=======
   "execution_count": null,
>>>>>>> 7713c959166726808983db34372609783762d9ac
   "metadata": {},
   "outputs": [],
   "source": [
    "import gurobipy as gp\n",
    "from gurobipy import GRB"
   ]
  },
  {
   "cell_type": "code",
<<<<<<< HEAD
   "execution_count": 35,
   "metadata": {},
   "outputs": [
    {
     "name": "stdout",
     "output_type": "stream",
     "text": [
      "\n",
      "--------------------------------------------\n",
      "Warning: your license will expire in 7 days\n",
      "--------------------------------------------\n",
      "\n",
      "Using license file /home/sean/gurobi.lic\n",
      "Academic license - for non-commercial use only - expires 2020-12-08\n"
     ]
    }
   ],
=======
   "execution_count": null,
   "metadata": {},
   "outputs": [],
>>>>>>> 7713c959166726808983db34372609783762d9ac
   "source": [
    "m = gp.Model(\"rule-extraciton\")"
   ]
  },
  {
   "cell_type": "code",
<<<<<<< HEAD
   "execution_count": 36,
=======
   "execution_count": null,
>>>>>>> 7713c959166726808983db34372609783762d9ac
   "metadata": {},
   "outputs": [],
   "source": [
    "w = m.addMVar(shape=A_p.shape[1], vtype=GRB.BINARY, name=\"weights\")\n",
    "psi_p = m.addMVar(shape=A_p.shape[0], name=\"psi_p\")\n",
    "psi_n = m.addMVar(shape=A_n.shape[0], name=\"psi_n\")"
   ]
  },
  {
   "cell_type": "code",
<<<<<<< HEAD
   "execution_count": 37,
=======
   "execution_count": null,
>>>>>>> 7713c959166726808983db34372609783762d9ac
   "metadata": {},
   "outputs": [],
   "source": [
    "m.addConstr(w <= 1.0)\n",
    "m.addConstr(w >= 0.0)\n",
    "m.addConstr(psi_p <= 1)\n",
    "m.addConstr(psi_p >= 0)\n",
    "m.addConstr(psi_n >= 0)\n",
    "m.addConstr(A_p @ w + psi_p >= 1.0)\n",
    "m.addConstr(A_n @ w == psi_n)\n",
    "m.update()"
   ]
  },
  {
   "cell_type": "code",
<<<<<<< HEAD
   "execution_count": 38,
=======
   "execution_count": null,
>>>>>>> 7713c959166726808983db34372609783762d9ac
   "metadata": {},
   "outputs": [],
   "source": [
    "m.setObjective(sum(w) + 1000 * (sum(psi_p) + sum(psi_n)), GRB.MINIMIZE)"
   ]
  },
  {
   "cell_type": "code",
<<<<<<< HEAD
   "execution_count": 39,
   "metadata": {},
   "outputs": [
    {
     "name": "stdout",
     "output_type": "stream",
     "text": [
      "Gurobi Optimizer version 9.1.0 build v9.1.0rc0 (linux64)\n",
      "Thread count: 6 physical cores, 12 logical processors, using up to 12 threads\n",
      "Optimize a model with 11055 rows, 3964 columns and 58335 nonzeros\n",
      "Model fingerprint: 0x3b5dbf0d\n",
      "Variable types: 3940 continuous, 24 integer (24 binary)\n",
      "Coefficient statistics:\n",
      "  Matrix range     [1e+00, 1e+00]\n",
      "  Objective range  [1e+00, 1e+03]\n",
      "  Bounds range     [1e+00, 1e+00]\n",
      "  RHS range        [1e+00, 1e+00]\n",
      "Found heuristic solution: objective 1138003.0000\n",
      "Presolve removed 9855 rows and 2740 columns\n",
      "Presolve time: 0.03s\n",
      "Presolved: 1200 rows, 1224 columns, 15600 nonzeros\n",
      "Variable types: 0 continuous, 1224 integer (1224 binary)\n",
      "\n",
      "Root relaxation: objective 8.130020e+05, 697 iterations, 0.02 seconds\n",
      "\n",
      "    Nodes    |    Current Node    |     Objective Bounds      |     Work\n",
      " Expl Unexpl |  Obj  Depth IntInf | Incumbent    BestBd   Gap | It/Node Time\n",
      "\n",
      "*    0     0               0    813002.00000 813002.000  0.00%     -    0s\n",
      "\n",
      "Explored 0 nodes (697 simplex iterations) in 0.06 seconds\n",
      "Thread count was 12 (of 12 available processors)\n",
      "\n",
      "Solution count 2: 813002 1.138e+06 \n",
      "\n",
      "Optimal solution found (tolerance 1.00e-04)\n",
      "Best objective 8.130020000000e+05, best bound 8.130020000000e+05, gap 0.0000%\n"
     ]
    }
   ],
=======
   "execution_count": null,
   "metadata": {},
   "outputs": [],
>>>>>>> 7713c959166726808983db34372609783762d9ac
   "source": [
    "m.optimize()"
   ]
  },
  {
   "cell_type": "code",
<<<<<<< HEAD
   "execution_count": 40,
   "metadata": {},
   "outputs": [
    {
     "name": "stdout",
     "output_type": "stream",
     "text": [
      "<gurobi.Var weights[0] (value -0.0)>\n",
      "<gurobi.Var weights[1] (value 0.0)>\n",
      "<gurobi.Var weights[2] (value 0.0)>\n",
      "<gurobi.Var weights[3] (value -0.0)>\n",
      "<gurobi.Var weights[4] (value -0.0)>\n",
      "<gurobi.Var weights[5] (value 0.0)>\n",
      "<gurobi.Var weights[6] (value 0.0)>\n",
      "<gurobi.Var weights[7] (value -0.0)>\n",
      "<gurobi.Var weights[8] (value -0.0)>\n",
      "<gurobi.Var weights[9] (value 0.0)>\n",
      "<gurobi.Var weights[10] (value 0.0)>\n",
      "<gurobi.Var weights[11] (value -0.0)>\n",
      "<gurobi.Var weights[12] (value 0.0)>\n",
      "<gurobi.Var weights[13] (value -0.0)>\n",
      "<gurobi.Var weights[14] (value 1.0)>\n",
      "<gurobi.Var weights[15] (value 1.0)>\n",
      "<gurobi.Var weights[16] (value 0.0)>\n",
      "<gurobi.Var weights[17] (value -0.0)>\n",
      "<gurobi.Var weights[18] (value -0.0)>\n",
      "<gurobi.Var weights[19] (value 0.0)>\n",
      "<gurobi.Var weights[20] (value 0.0)>\n",
      "<gurobi.Var weights[21] (value -0.0)>\n",
      "<gurobi.Var weights[22] (value 0.0)>\n",
      "<gurobi.Var weights[23] (value -0.0)>\n",
      "None\n"
     ]
    }
   ],
=======
   "execution_count": null,
   "metadata": {},
   "outputs": [],
>>>>>>> 7713c959166726808983db34372609783762d9ac
   "source": [
    "m.getVarByName(\"weights[0]\")\n",
    "for i in range(measurement.shape[1]):\n",
    "    print(m.getVarByName(\"weights[\" + str(i) + \"]\"))"
   ]
  },
  {
   "cell_type": "markdown",
   "metadata": {},
   "source": [
    "## Evaluate"
   ]
  },
  {
   "cell_type": "markdown",
   "metadata": {},
   "source": [
    "### Raw Accuracy"
   ]
  },
  {
   "cell_type": "code",
<<<<<<< HEAD
   "execution_count": 41,
   "metadata": {},
   "outputs": [
    {
     "data": {
      "text/plain": [
       "'LAT_Q1'"
      ]
     },
     "execution_count": 41,
     "metadata": {},
     "output_type": "execute_result"
    }
   ],
=======
   "execution_count": null,
   "metadata": {},
   "outputs": [],
>>>>>>> 7713c959166726808983db34372609783762d9ac
   "source": [
    "features[18]"
   ]
  },
  {
   "cell_type": "code",
<<<<<<< HEAD
   "execution_count": 42,
   "metadata": {},
   "outputs": [
    {
     "data": {
      "text/plain": [
       "'LAT_Q2'"
      ]
     },
     "execution_count": 42,
     "metadata": {},
     "output_type": "execute_result"
    }
   ],
=======
   "execution_count": null,
   "metadata": {},
   "outputs": [],
>>>>>>> 7713c959166726808983db34372609783762d9ac
   "source": [
    "features[19]"
   ]
  },
  {
   "cell_type": "markdown",
   "metadata": {},
   "source": [
    "## Analysis "
   ]
  },
  {
   "cell_type": "code",
   "execution_count": null,
   "metadata": {},
   "outputs": [],
   "source": []
  }
 ],
 "metadata": {
  "kernelspec": {
   "display_name": "Python 3",
   "language": "python",
   "name": "python3"
  },
  "language_info": {
   "codemirror_mode": {
    "name": "ipython",
    "version": 3
   },
   "file_extension": ".py",
   "mimetype": "text/x-python",
   "name": "python",
   "nbconvert_exporter": "python",
   "pygments_lexer": "ipython3",
   "version": "3.7.9"
  }
 },
 "nbformat": 4,
 "nbformat_minor": 4
}

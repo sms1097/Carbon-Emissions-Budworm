{
 "cells": [
  {
   "cell_type": "markdown",
   "metadata": {},
   "source": [
    "# Version 1.0 Model Predictions"
   ]
  },
  {
   "cell_type": "code",
   "execution_count": 1,
   "metadata": {},
   "outputs": [],
   "source": [
    "import pandas as pd\n",
    "import numpy as np\n",
    "import seaborn as sns"
   ]
  },
  {
   "cell_type": "markdown",
   "metadata": {},
   "source": [
    "## Import Data Sets\n",
    "Here we will import `NetC_Expanded` which is data seperated by management style, result and slavage status, and we will import the predictors and join those datasets."
   ]
  },
  {
   "cell_type": "code",
   "execution_count": 2,
   "metadata": {},
   "outputs": [
    {
     "data": {
      "text/html": [
       "<div>\n",
       "<style scoped>\n",
       "    .dataframe tbody tr th:only-of-type {\n",
       "        vertical-align: middle;\n",
       "    }\n",
       "\n",
       "    .dataframe tbody tr th {\n",
       "        vertical-align: top;\n",
       "    }\n",
       "\n",
       "    .dataframe thead th {\n",
       "        text-align: right;\n",
       "    }\n",
       "</style>\n",
       "<table border=\"1\" class=\"dataframe\">\n",
       "  <thead>\n",
       "    <tr style=\"text-align: right;\">\n",
       "      <th></th>\n",
       "      <th>TimeStep</th>\n",
       "      <th>Risk_Cat</th>\n",
       "      <th>Stand_ID</th>\n",
       "      <th>Salvage</th>\n",
       "      <th>Management</th>\n",
       "      <th>Result</th>\n",
       "    </tr>\n",
       "  </thead>\n",
       "  <tbody>\n",
       "    <tr>\n",
       "      <th>0</th>\n",
       "      <td>0</td>\n",
       "      <td>4</td>\n",
       "      <td>0023200606030102900043</td>\n",
       "      <td>True</td>\n",
       "      <td>Heavy</td>\n",
       "      <td>-249.287884</td>\n",
       "    </tr>\n",
       "    <tr>\n",
       "      <th>1</th>\n",
       "      <td>0</td>\n",
       "      <td>4</td>\n",
       "      <td>0023200606030102900043</td>\n",
       "      <td>True</td>\n",
       "      <td>NoMgmt</td>\n",
       "      <td>-321.931519</td>\n",
       "    </tr>\n",
       "    <tr>\n",
       "      <th>2</th>\n",
       "      <td>0</td>\n",
       "      <td>4</td>\n",
       "      <td>0023200606030102900043</td>\n",
       "      <td>True</td>\n",
       "      <td>Moderate</td>\n",
       "      <td>-276.111511</td>\n",
       "    </tr>\n",
       "    <tr>\n",
       "      <th>3</th>\n",
       "      <td>0</td>\n",
       "      <td>4</td>\n",
       "      <td>0023200606030102900043</td>\n",
       "      <td>True</td>\n",
       "      <td>Comm-Ind</td>\n",
       "      <td>-250.583375</td>\n",
       "    </tr>\n",
       "    <tr>\n",
       "      <th>4</th>\n",
       "      <td>0</td>\n",
       "      <td>4</td>\n",
       "      <td>0023200606030102900043</td>\n",
       "      <td>True</td>\n",
       "      <td>HighGrade</td>\n",
       "      <td>-293.426896</td>\n",
       "    </tr>\n",
       "  </tbody>\n",
       "</table>\n",
       "</div>"
      ],
      "text/plain": [
       "   TimeStep  Risk_Cat                Stand_ID  Salvage Management      Result\n",
       "0         0         4  0023200606030102900043     True      Heavy -249.287884\n",
       "1         0         4  0023200606030102900043     True     NoMgmt -321.931519\n",
       "2         0         4  0023200606030102900043     True   Moderate -276.111511\n",
       "3         0         4  0023200606030102900043     True   Comm-Ind -250.583375\n",
       "4         0         4  0023200606030102900043     True  HighGrade -293.426896"
      ]
     },
     "execution_count": 2,
     "metadata": {},
     "output_type": "execute_result"
    }
   ],
   "source": [
    "netc_expanded = pd.read_csv('../Data/NetC_Expanded.csv')\n",
    "netc_expanded = netc_expanded.drop(['Unnamed: 0'], axis=1)\n",
    "netc_expanded.head()"
   ]
  },
  {
   "cell_type": "code",
   "execution_count": 3,
   "metadata": {},
   "outputs": [
    {
     "data": {
      "text/html": [
       "<div>\n",
       "<style scoped>\n",
       "    .dataframe tbody tr th:only-of-type {\n",
       "        vertical-align: middle;\n",
       "    }\n",
       "\n",
       "    .dataframe tbody tr th {\n",
       "        vertical-align: top;\n",
       "    }\n",
       "\n",
       "    .dataframe thead th {\n",
       "        text-align: right;\n",
       "    }\n",
       "</style>\n",
       "<table border=\"1\" class=\"dataframe\">\n",
       "  <thead>\n",
       "    <tr style=\"text-align: right;\">\n",
       "      <th></th>\n",
       "      <th>BF_BA</th>\n",
       "      <th>OHost_BA</th>\n",
       "      <th>BF_Stock</th>\n",
       "      <th>OHost_Stock</th>\n",
       "      <th>NonHost_Stock</th>\n",
       "      <th>BF_QMD</th>\n",
       "      <th>ELEV</th>\n",
       "      <th>SLOPE</th>\n",
       "      <th>ASPECT</th>\n",
       "      <th>LAT</th>\n",
       "      <th>SiteInd</th>\n",
       "    </tr>\n",
       "    <tr>\n",
       "      <th>Stand_ID</th>\n",
       "      <th></th>\n",
       "      <th></th>\n",
       "      <th></th>\n",
       "      <th></th>\n",
       "      <th></th>\n",
       "      <th></th>\n",
       "      <th></th>\n",
       "      <th></th>\n",
       "      <th></th>\n",
       "      <th></th>\n",
       "      <th></th>\n",
       "    </tr>\n",
       "  </thead>\n",
       "  <tbody>\n",
       "    <tr>\n",
       "      <th>0023200606030200300067</th>\n",
       "      <td>NaN</td>\n",
       "      <td>0.498332</td>\n",
       "      <td>NaN</td>\n",
       "      <td>0.883600</td>\n",
       "      <td>56.9255</td>\n",
       "      <td>NaN</td>\n",
       "      <td>580</td>\n",
       "      <td>5.0</td>\n",
       "      <td>240.0</td>\n",
       "      <td>46.14358</td>\n",
       "      <td>NaN</td>\n",
       "    </tr>\n",
       "    <tr>\n",
       "      <th>0023200606030200300826</th>\n",
       "      <td>3.899610</td>\n",
       "      <td>11.890484</td>\n",
       "      <td>21.8437</td>\n",
       "      <td>0.885569</td>\n",
       "      <td>18.6635</td>\n",
       "      <td>4.965398</td>\n",
       "      <td>1170</td>\n",
       "      <td>0.0</td>\n",
       "      <td>0.0</td>\n",
       "      <td>47.19684</td>\n",
       "      <td>28.0</td>\n",
       "    </tr>\n",
       "    <tr>\n",
       "      <th>0023200606030200300924</th>\n",
       "      <td>0.036869</td>\n",
       "      <td>7.443510</td>\n",
       "      <td>0.2679</td>\n",
       "      <td>1.166825</td>\n",
       "      <td>3.8019</td>\n",
       "      <td>2.600000</td>\n",
       "      <td>990</td>\n",
       "      <td>0.0</td>\n",
       "      <td>0.0</td>\n",
       "      <td>46.64171</td>\n",
       "      <td>33.0</td>\n",
       "    </tr>\n",
       "    <tr>\n",
       "      <th>0023200606030301901813</th>\n",
       "      <td>0.967649</td>\n",
       "      <td>1.368845</td>\n",
       "      <td>63.7216</td>\n",
       "      <td>1.609179</td>\n",
       "      <td>12.1858</td>\n",
       "      <td>2.106063</td>\n",
       "      <td>180</td>\n",
       "      <td>0.0</td>\n",
       "      <td>0.0</td>\n",
       "      <td>45.09319</td>\n",
       "      <td>40.0</td>\n",
       "    </tr>\n",
       "    <tr>\n",
       "      <th>0023200606030400901513</th>\n",
       "      <td>3.352901</td>\n",
       "      <td>6.679677</td>\n",
       "      <td>73.4189</td>\n",
       "      <td>1.397641</td>\n",
       "      <td>18.2434</td>\n",
       "      <td>3.405766</td>\n",
       "      <td>250</td>\n",
       "      <td>0.0</td>\n",
       "      <td>0.0</td>\n",
       "      <td>44.73563</td>\n",
       "      <td>NaN</td>\n",
       "    </tr>\n",
       "  </tbody>\n",
       "</table>\n",
       "</div>"
      ],
      "text/plain": [
       "                           BF_BA   OHost_BA  BF_Stock  OHost_Stock  \\\n",
       "Stand_ID                                                             \n",
       "0023200606030200300067       NaN   0.498332       NaN     0.883600   \n",
       "0023200606030200300826  3.899610  11.890484   21.8437     0.885569   \n",
       "0023200606030200300924  0.036869   7.443510    0.2679     1.166825   \n",
       "0023200606030301901813  0.967649   1.368845   63.7216     1.609179   \n",
       "0023200606030400901513  3.352901   6.679677   73.4189     1.397641   \n",
       "\n",
       "                        NonHost_Stock    BF_QMD  ELEV  SLOPE  ASPECT  \\\n",
       "Stand_ID                                                               \n",
       "0023200606030200300067        56.9255       NaN   580    5.0   240.0   \n",
       "0023200606030200300826        18.6635  4.965398  1170    0.0     0.0   \n",
       "0023200606030200300924         3.8019  2.600000   990    0.0     0.0   \n",
       "0023200606030301901813        12.1858  2.106063   180    0.0     0.0   \n",
       "0023200606030400901513        18.2434  3.405766   250    0.0     0.0   \n",
       "\n",
       "                             LAT  SiteInd  \n",
       "Stand_ID                                   \n",
       "0023200606030200300067  46.14358      NaN  \n",
       "0023200606030200300826  47.19684     28.0  \n",
       "0023200606030200300924  46.64171     33.0  \n",
       "0023200606030301901813  45.09319     40.0  \n",
       "0023200606030400901513  44.73563      NaN  "
      ]
     },
     "execution_count": 3,
     "metadata": {},
     "output_type": "execute_result"
    }
   ],
   "source": [
    "predictors = pd.read_csv('../Data/Predict_SBW_wCarbon_T0to40.csv')\n",
    "predictors = predictors.rename(columns={'StandID': 'Stand_ID'})\n",
    "predictors = predictors.set_index('Stand_ID')\n",
    "predictors = predictors[[\"BF_BA\",\"OHost_BA\",\"BF_Stock\",\"OHost_Stock\",\"NonHost_Stock\",\"BF_QMD\",\"ELEV\",\"SLOPE\",\"ASPECT\",\"LAT\",\"SiteInd\"]]\n",
    "predictors.head()"
   ]
  },
  {
   "cell_type": "markdown",
   "metadata": {},
   "source": [
    "## Selecting Management Style \n",
    "Gong to define a management style upfront to create rule set"
   ]
  },
  {
   "cell_type": "code",
   "execution_count": 4,
   "metadata": {},
   "outputs": [],
   "source": [
    "MANAGEMENT_STYLE = 'NoMgmt'\n",
    "\n",
    "mgmt_df = netc_expanded[netc_expanded['Management'] == MANAGEMENT_STYLE]"
   ]
  },
  {
   "cell_type": "markdown",
   "metadata": {},
   "source": [
    "Here is an example of what we see in the mgmt_df after grouping stand_id and getting the value at timestep 40"
   ]
  },
  {
   "cell_type": "code",
   "execution_count": 129,
   "metadata": {},
   "outputs": [
    {
     "data": {
      "text/html": [
       "<div>\n",
       "<style scoped>\n",
       "    .dataframe tbody tr th:only-of-type {\n",
       "        vertical-align: middle;\n",
       "    }\n",
       "\n",
       "    .dataframe tbody tr th {\n",
       "        vertical-align: top;\n",
       "    }\n",
       "\n",
       "    .dataframe thead th {\n",
       "        text-align: right;\n",
       "    }\n",
       "</style>\n",
       "<table border=\"1\" class=\"dataframe\">\n",
       "  <thead>\n",
       "    <tr style=\"text-align: right;\">\n",
       "      <th></th>\n",
       "      <th>TimeStep</th>\n",
       "      <th>Risk_Cat</th>\n",
       "      <th>Stand_ID</th>\n",
       "      <th>Salvage</th>\n",
       "      <th>Management</th>\n",
       "      <th>Result</th>\n",
       "    </tr>\n",
       "  </thead>\n",
       "  <tbody>\n",
       "    <tr>\n",
       "      <th>1</th>\n",
       "      <td>0</td>\n",
       "      <td>4</td>\n",
       "      <td>0023200606030102900043</td>\n",
       "      <td>True</td>\n",
       "      <td>NoMgmt</td>\n",
       "      <td>-321.931519</td>\n",
       "    </tr>\n",
       "    <tr>\n",
       "      <th>8</th>\n",
       "      <td>0</td>\n",
       "      <td>4</td>\n",
       "      <td>0023200606030102900043</td>\n",
       "      <td>False</td>\n",
       "      <td>NoMgmt</td>\n",
       "      <td>-313.831078</td>\n",
       "    </tr>\n",
       "    <tr>\n",
       "      <th>13</th>\n",
       "      <td>10</td>\n",
       "      <td>4</td>\n",
       "      <td>0023200606030102900043</td>\n",
       "      <td>True</td>\n",
       "      <td>NoMgmt</td>\n",
       "      <td>-409.369097</td>\n",
       "    </tr>\n",
       "    <tr>\n",
       "      <th>20</th>\n",
       "      <td>10</td>\n",
       "      <td>4</td>\n",
       "      <td>0023200606030102900043</td>\n",
       "      <td>False</td>\n",
       "      <td>NoMgmt</td>\n",
       "      <td>-437.045703</td>\n",
       "    </tr>\n",
       "    <tr>\n",
       "      <th>25</th>\n",
       "      <td>20</td>\n",
       "      <td>4</td>\n",
       "      <td>0023200606030102900043</td>\n",
       "      <td>True</td>\n",
       "      <td>NoMgmt</td>\n",
       "      <td>-560.396947</td>\n",
       "    </tr>\n",
       "    <tr>\n",
       "      <th>...</th>\n",
       "      <td>...</td>\n",
       "      <td>...</td>\n",
       "      <td>...</td>\n",
       "      <td>...</td>\n",
       "      <td>...</td>\n",
       "      <td>...</td>\n",
       "    </tr>\n",
       "    <tr>\n",
       "      <th>295532</th>\n",
       "      <td>20</td>\n",
       "      <td>3</td>\n",
       "      <td>0050201508030302701473</td>\n",
       "      <td>False</td>\n",
       "      <td>NoMgmt</td>\n",
       "      <td>-652.275024</td>\n",
       "    </tr>\n",
       "    <tr>\n",
       "      <th>295537</th>\n",
       "      <td>30</td>\n",
       "      <td>3</td>\n",
       "      <td>0050201508030302701473</td>\n",
       "      <td>True</td>\n",
       "      <td>NoMgmt</td>\n",
       "      <td>-657.560997</td>\n",
       "    </tr>\n",
       "    <tr>\n",
       "      <th>295544</th>\n",
       "      <td>30</td>\n",
       "      <td>3</td>\n",
       "      <td>0050201508030302701473</td>\n",
       "      <td>False</td>\n",
       "      <td>NoMgmt</td>\n",
       "      <td>-691.951518</td>\n",
       "    </tr>\n",
       "    <tr>\n",
       "      <th>295549</th>\n",
       "      <td>40</td>\n",
       "      <td>3</td>\n",
       "      <td>0050201508030302701473</td>\n",
       "      <td>True</td>\n",
       "      <td>NoMgmt</td>\n",
       "      <td>-714.372070</td>\n",
       "    </tr>\n",
       "    <tr>\n",
       "      <th>295556</th>\n",
       "      <td>40</td>\n",
       "      <td>3</td>\n",
       "      <td>0050201508030302701473</td>\n",
       "      <td>False</td>\n",
       "      <td>NoMgmt</td>\n",
       "      <td>-740.714335</td>\n",
       "    </tr>\n",
       "  </tbody>\n",
       "</table>\n",
       "<p>49260 rows × 6 columns</p>\n",
       "</div>"
      ],
      "text/plain": [
       "        TimeStep  Risk_Cat                Stand_ID  Salvage Management  \\\n",
       "1              0         4  0023200606030102900043     True     NoMgmt   \n",
       "8              0         4  0023200606030102900043    False     NoMgmt   \n",
       "13            10         4  0023200606030102900043     True     NoMgmt   \n",
       "20            10         4  0023200606030102900043    False     NoMgmt   \n",
       "25            20         4  0023200606030102900043     True     NoMgmt   \n",
       "...          ...       ...                     ...      ...        ...   \n",
       "295532        20         3  0050201508030302701473    False     NoMgmt   \n",
       "295537        30         3  0050201508030302701473     True     NoMgmt   \n",
       "295544        30         3  0050201508030302701473    False     NoMgmt   \n",
       "295549        40         3  0050201508030302701473     True     NoMgmt   \n",
       "295556        40         3  0050201508030302701473    False     NoMgmt   \n",
       "\n",
       "            Result  \n",
       "1      -321.931519  \n",
       "8      -313.831078  \n",
       "13     -409.369097  \n",
       "20     -437.045703  \n",
       "25     -560.396947  \n",
       "...            ...  \n",
       "295532 -652.275024  \n",
       "295537 -657.560997  \n",
       "295544 -691.951518  \n",
       "295549 -714.372070  \n",
       "295556 -740.714335  \n",
       "\n",
       "[49260 rows x 6 columns]"
      ]
     },
     "execution_count": 129,
     "metadata": {},
     "output_type": "execute_result"
    }
   ],
   "source": [
    "mgmt_df['']"
   ]
  },
  {
   "cell_type": "code",
   "execution_count": 5,
   "metadata": {},
   "outputs": [
    {
     "data": {
      "text/html": [
       "<div>\n",
       "<style scoped>\n",
       "    .dataframe tbody tr th:only-of-type {\n",
       "        vertical-align: middle;\n",
       "    }\n",
       "\n",
       "    .dataframe tbody tr th {\n",
       "        vertical-align: top;\n",
       "    }\n",
       "\n",
       "    .dataframe thead th {\n",
       "        text-align: right;\n",
       "    }\n",
       "</style>\n",
       "<table border=\"1\" class=\"dataframe\">\n",
       "  <thead>\n",
       "    <tr style=\"text-align: right;\">\n",
       "      <th></th>\n",
       "      <th>TimeStep</th>\n",
       "      <th>Risk_Cat</th>\n",
       "      <th>Stand_ID</th>\n",
       "      <th>Management</th>\n",
       "      <th>Result</th>\n",
       "    </tr>\n",
       "    <tr>\n",
       "      <th>Salvage</th>\n",
       "      <th></th>\n",
       "      <th></th>\n",
       "      <th></th>\n",
       "      <th></th>\n",
       "      <th></th>\n",
       "    </tr>\n",
       "  </thead>\n",
       "  <tbody>\n",
       "    <tr>\n",
       "      <th>True</th>\n",
       "      <td>40</td>\n",
       "      <td>1</td>\n",
       "      <td>0023200606030400901513</td>\n",
       "      <td>NoMgmt</td>\n",
       "      <td>-340.709429</td>\n",
       "    </tr>\n",
       "    <tr>\n",
       "      <th>False</th>\n",
       "      <td>40</td>\n",
       "      <td>1</td>\n",
       "      <td>0023200606030400901513</td>\n",
       "      <td>NoMgmt</td>\n",
       "      <td>-286.246874</td>\n",
       "    </tr>\n",
       "  </tbody>\n",
       "</table>\n",
       "</div>"
      ],
      "text/plain": [
       "         TimeStep  Risk_Cat                Stand_ID Management      Result\n",
       "Salvage                                                                   \n",
       "True           40         1  0023200606030400901513     NoMgmt -340.709429\n",
       "False          40         1  0023200606030400901513     NoMgmt -286.246874"
      ]
     },
     "execution_count": 5,
     "metadata": {},
     "output_type": "execute_result"
    }
   ],
   "source": [
    "x = mgmt_df[(mgmt_df['Stand_ID'] == '0023200606030400901513') & \n",
    "            (mgmt_df['TimeStep'] == 40)].groupby('Salvage').head().set_index('Salvage')\n",
    "x"
   ]
  },
  {
   "cell_type": "code",
   "execution_count": 88,
   "metadata": {},
   "outputs": [],
   "source": [
    "def get_mgmt_df(target_df, pred_df, tol):\n",
    "    \"\"\"\n",
    "    Returns labeled DF for salvage and non salvage decisions\n",
    "    \"\"\"\n",
    "    temp_df = pd.DataFrame(columns=['Stand_ID', 'Salvage_Good', 'Result'])\n",
    "    for stand in target_df['Stand_ID'].unique():\n",
    "        \n",
    "        group_df = target_df[(target_df['Stand_ID'] == stand)\n",
    "                             & (target_df['TimeStep'] == 10)]\n",
    "        group_df = group_df.set_index('Salvage')\n",
    "        \n",
    "        # calculate diff\n",
    "        # This assumes that best is always negative\n",
    "        diff = group_df['Result'].min() - group_df['Result'].max()\n",
    "        \n",
    "        # If index is True where min is acheived\n",
    "        if group_df['Result'].idxmin():  # and diff > tol:\n",
    "            temp_df = temp_df.append(\n",
    "                pd.DataFrame({\n",
    "                    'Stand_ID': [stand],\n",
    "                    'Salvage_Good': [True],\n",
    "                    'Result': [group_df['Result'].min()],\n",
    "                    'diff': [diff]\n",
    "                })\n",
    "            )\n",
    "        else:\n",
    "            temp_df = temp_df.append(\n",
    "                pd.DataFrame({\n",
    "                    'Stand_ID': [stand],\n",
    "                    'Salvage_Good': [False],\n",
    "                    'Result': [group_df['Result'].min()],\n",
    "                    'diff': [diff]\n",
    "                })\n",
    "            )\n",
    "            \n",
    "    temp_df = temp_df.set_index('Stand_ID')\n",
    "    return pd.merge(pred_df, temp_df, on=\"Stand_ID\", right_index=True)"
   ]
  },
  {
   "cell_type": "code",
   "execution_count": 89,
   "metadata": {},
   "outputs": [],
   "source": [
    "heavy_df = get_mgmt_df(mgmt_df, predictors, 0)"
   ]
  },
  {
   "cell_type": "code",
   "execution_count": 90,
   "metadata": {},
   "outputs": [],
   "source": [
    "heavy_df = heavy_df.fillna(heavy_df.median())"
   ]
  },
  {
   "cell_type": "code",
   "execution_count": 91,
   "metadata": {},
   "outputs": [
    {
     "data": {
      "text/html": [
       "<div>\n",
       "<style scoped>\n",
       "    .dataframe tbody tr th:only-of-type {\n",
       "        vertical-align: middle;\n",
       "    }\n",
       "\n",
       "    .dataframe tbody tr th {\n",
       "        vertical-align: top;\n",
       "    }\n",
       "\n",
       "    .dataframe thead th {\n",
       "        text-align: right;\n",
       "    }\n",
       "</style>\n",
       "<table border=\"1\" class=\"dataframe\">\n",
       "  <thead>\n",
       "    <tr style=\"text-align: right;\">\n",
       "      <th></th>\n",
       "      <th>BF_BA</th>\n",
       "      <th>OHost_BA</th>\n",
       "      <th>BF_Stock</th>\n",
       "      <th>OHost_Stock</th>\n",
       "      <th>NonHost_Stock</th>\n",
       "      <th>BF_QMD</th>\n",
       "      <th>ELEV</th>\n",
       "      <th>SLOPE</th>\n",
       "      <th>ASPECT</th>\n",
       "      <th>LAT</th>\n",
       "      <th>SiteInd</th>\n",
       "      <th>Salvage_Good</th>\n",
       "      <th>Result</th>\n",
       "      <th>diff</th>\n",
       "    </tr>\n",
       "    <tr>\n",
       "      <th>Stand_ID</th>\n",
       "      <th></th>\n",
       "      <th></th>\n",
       "      <th></th>\n",
       "      <th></th>\n",
       "      <th></th>\n",
       "      <th></th>\n",
       "      <th></th>\n",
       "      <th></th>\n",
       "      <th></th>\n",
       "      <th></th>\n",
       "      <th></th>\n",
       "      <th></th>\n",
       "      <th></th>\n",
       "      <th></th>\n",
       "    </tr>\n",
       "  </thead>\n",
       "  <tbody>\n",
       "    <tr>\n",
       "      <th>0023200606030200300067</th>\n",
       "      <td>2.325367</td>\n",
       "      <td>0.498332</td>\n",
       "      <td>11.4585</td>\n",
       "      <td>0.883600</td>\n",
       "      <td>56.9255</td>\n",
       "      <td>5.490730</td>\n",
       "      <td>580</td>\n",
       "      <td>5.0</td>\n",
       "      <td>240.0</td>\n",
       "      <td>46.14358</td>\n",
       "      <td>42.0</td>\n",
       "      <td>False</td>\n",
       "      <td>-407.132599</td>\n",
       "      <td>-82.480859</td>\n",
       "    </tr>\n",
       "    <tr>\n",
       "      <th>0023200606030200300826</th>\n",
       "      <td>3.899610</td>\n",
       "      <td>11.890484</td>\n",
       "      <td>21.8437</td>\n",
       "      <td>0.885569</td>\n",
       "      <td>18.6635</td>\n",
       "      <td>4.965398</td>\n",
       "      <td>1170</td>\n",
       "      <td>0.0</td>\n",
       "      <td>0.0</td>\n",
       "      <td>47.19684</td>\n",
       "      <td>28.0</td>\n",
       "      <td>False</td>\n",
       "      <td>-403.382484</td>\n",
       "      <td>-150.825263</td>\n",
       "    </tr>\n",
       "    <tr>\n",
       "      <th>0023200606030200300924</th>\n",
       "      <td>0.036869</td>\n",
       "      <td>7.443510</td>\n",
       "      <td>0.2679</td>\n",
       "      <td>1.166825</td>\n",
       "      <td>3.8019</td>\n",
       "      <td>2.600000</td>\n",
       "      <td>990</td>\n",
       "      <td>0.0</td>\n",
       "      <td>0.0</td>\n",
       "      <td>46.64171</td>\n",
       "      <td>33.0</td>\n",
       "      <td>False</td>\n",
       "      <td>-292.767494</td>\n",
       "      <td>-85.914539</td>\n",
       "    </tr>\n",
       "    <tr>\n",
       "      <th>0023200606030301901813</th>\n",
       "      <td>0.967649</td>\n",
       "      <td>1.368845</td>\n",
       "      <td>63.7216</td>\n",
       "      <td>1.609179</td>\n",
       "      <td>12.1858</td>\n",
       "      <td>2.106063</td>\n",
       "      <td>180</td>\n",
       "      <td>0.0</td>\n",
       "      <td>0.0</td>\n",
       "      <td>45.09319</td>\n",
       "      <td>40.0</td>\n",
       "      <td>False</td>\n",
       "      <td>-372.162974</td>\n",
       "      <td>-76.637587</td>\n",
       "    </tr>\n",
       "    <tr>\n",
       "      <th>0023200606030400901513</th>\n",
       "      <td>3.352901</td>\n",
       "      <td>6.679677</td>\n",
       "      <td>73.4189</td>\n",
       "      <td>1.397641</td>\n",
       "      <td>18.2434</td>\n",
       "      <td>3.405766</td>\n",
       "      <td>250</td>\n",
       "      <td>0.0</td>\n",
       "      <td>0.0</td>\n",
       "      <td>44.73563</td>\n",
       "      <td>42.0</td>\n",
       "      <td>False</td>\n",
       "      <td>-349.268127</td>\n",
       "      <td>-108.109481</td>\n",
       "    </tr>\n",
       "  </tbody>\n",
       "</table>\n",
       "</div>"
      ],
      "text/plain": [
       "                           BF_BA   OHost_BA  BF_Stock  OHost_Stock  \\\n",
       "Stand_ID                                                             \n",
       "0023200606030200300067  2.325367   0.498332   11.4585     0.883600   \n",
       "0023200606030200300826  3.899610  11.890484   21.8437     0.885569   \n",
       "0023200606030200300924  0.036869   7.443510    0.2679     1.166825   \n",
       "0023200606030301901813  0.967649   1.368845   63.7216     1.609179   \n",
       "0023200606030400901513  3.352901   6.679677   73.4189     1.397641   \n",
       "\n",
       "                        NonHost_Stock    BF_QMD  ELEV  SLOPE  ASPECT  \\\n",
       "Stand_ID                                                               \n",
       "0023200606030200300067        56.9255  5.490730   580    5.0   240.0   \n",
       "0023200606030200300826        18.6635  4.965398  1170    0.0     0.0   \n",
       "0023200606030200300924         3.8019  2.600000   990    0.0     0.0   \n",
       "0023200606030301901813        12.1858  2.106063   180    0.0     0.0   \n",
       "0023200606030400901513        18.2434  3.405766   250    0.0     0.0   \n",
       "\n",
       "                             LAT  SiteInd  Salvage_Good      Result  \\\n",
       "Stand_ID                                                              \n",
       "0023200606030200300067  46.14358     42.0         False -407.132599   \n",
       "0023200606030200300826  47.19684     28.0         False -403.382484   \n",
       "0023200606030200300924  46.64171     33.0         False -292.767494   \n",
       "0023200606030301901813  45.09319     40.0         False -372.162974   \n",
       "0023200606030400901513  44.73563     42.0         False -349.268127   \n",
       "\n",
       "                              diff  \n",
       "Stand_ID                            \n",
       "0023200606030200300067  -82.480859  \n",
       "0023200606030200300826 -150.825263  \n",
       "0023200606030200300924  -85.914539  \n",
       "0023200606030301901813  -76.637587  \n",
       "0023200606030400901513 -108.109481  "
      ]
     },
     "execution_count": 91,
     "metadata": {},
     "output_type": "execute_result"
    }
   ],
   "source": [
    "heavy_df.head()"
   ]
  },
  {
   "cell_type": "markdown",
   "metadata": {},
   "source": [
    "Here we can see that the option to not salvage benefited more than salvaging, so in this case we won't offer salvage credit."
   ]
  },
  {
   "cell_type": "markdown",
   "metadata": {},
   "source": [
    "## Split Data"
   ]
  },
  {
   "cell_type": "code",
   "execution_count": 92,
   "metadata": {},
   "outputs": [],
   "source": [
    "from sklearn.model_selection import train_test_split\n",
    "from sklearn.metrics import accuracy_score"
   ]
  },
  {
   "cell_type": "code",
   "execution_count": 93,
   "metadata": {},
   "outputs": [],
   "source": [
    "X = heavy_df.drop(['Salvage_Good', 'Result'], axis=1)\n",
    "y = heavy_df[['Salvage_Good']].astype('int')"
   ]
  },
  {
   "cell_type": "code",
   "execution_count": 94,
   "metadata": {},
   "outputs": [],
   "source": [
    "X_train, X_test, y_train, y_test = train_test_split(X, y, test_size=0.2)"
   ]
  },
  {
   "cell_type": "code",
   "execution_count": 95,
   "metadata": {},
   "outputs": [],
   "source": [
    "train = X_train.copy()\n",
    "train['Salvage_Good'] = y_train.to_numpy()"
   ]
  },
  {
   "cell_type": "markdown",
   "metadata": {},
   "source": [
    "## Baselines"
   ]
  },
  {
   "cell_type": "markdown",
   "metadata": {},
   "source": [
    "`IP` is an interpretability constant since net saved emissions is always large"
   ]
  },
  {
   "cell_type": "code",
   "execution_count": 55,
   "metadata": {},
   "outputs": [],
   "source": [
    "IP = 10000"
   ]
  },
  {
   "cell_type": "code",
   "execution_count": 96,
   "metadata": {},
   "outputs": [],
   "source": [
    "assess_df = mgmt_df.set_index('Stand_ID')\n",
    "assess_df = assess_df[assess_df['TimeStep'] == 10]\n",
    "assess_df = assess_df[['Salvage', 'Result']]\n",
    "\n",
    "assess_df = pd.merge(assess_df, X_test, on=\"Stand_ID\")"
   ]
  },
  {
   "cell_type": "markdown",
   "metadata": {},
   "source": [
    "### (1) Don't Salvage At All"
   ]
  },
  {
   "cell_type": "code",
   "execution_count": 97,
   "metadata": {},
   "outputs": [
    {
     "data": {
      "text/plain": [
       "-47.088986983957994"
      ]
     },
     "execution_count": 97,
     "metadata": {},
     "output_type": "execute_result"
    }
   ],
   "source": [
    "no_salvage = assess_df[(assess_df['Salvage'] == False)]\n",
    "no_salvage_score = no_salvage['Result'].sum()\n",
    "no_salvage_score / IP"
   ]
  },
  {
   "cell_type": "markdown",
   "metadata": {},
   "source": [
    "### (2) Only Salvage"
   ]
  },
  {
   "cell_type": "code",
   "execution_count": 98,
   "metadata": {},
   "outputs": [
    {
     "data": {
      "text/plain": [
       "-40.73351401071"
      ]
     },
     "execution_count": 98,
     "metadata": {},
     "output_type": "execute_result"
    }
   ],
   "source": [
    "only_salvage = assess_df[(assess_df['Salvage'] == True)]\n",
    "only_salvage_score = only_salvage['Result'].sum()\n",
    "only_salvage_score / IP"
   ]
  },
  {
   "cell_type": "markdown",
   "metadata": {},
   "source": [
    "### (3) Optimal"
   ]
  },
  {
   "cell_type": "code",
   "execution_count": 99,
   "metadata": {},
   "outputs": [
    {
     "data": {
      "text/plain": [
       "-47.147683677148"
      ]
     },
     "execution_count": 99,
     "metadata": {},
     "output_type": "execute_result"
    }
   ],
   "source": [
    "optimal = pd.merge(assess_df, heavy_df['Salvage_Good'], on=\"Stand_ID\")\n",
    "salvage_optimal = optimal[(optimal['Salvage_Good'] == True) & \n",
    "                          (optimal['Salvage'] == True)].Result.sum()\n",
    "no_salvage_optimal = optimal[(optimal['Salvage_Good'] == False) & \n",
    "                             (optimal['Salvage'] == False)].Result.sum()\n",
    "(salvage_optimal + no_salvage_optimal) / IP"
   ]
  },
  {
   "cell_type": "code",
   "execution_count": 84,
   "metadata": {
    "collapsed": true,
    "jupyter": {
     "outputs_hidden": true
    }
   },
   "outputs": [
    {
     "name": "stderr",
     "output_type": "stream",
     "text": [
      "/home/sean/anaconda3/envs/optimization/lib/python3.7/site-packages/seaborn/distributions.py:2551: FutureWarning: `distplot` is a deprecated function and will be removed in a future version. Please adapt your code to use either `displot` (a figure-level function with similar flexibility) or `histplot` (an axes-level function for histograms).\n",
      "  warnings.warn(msg, FutureWarning)\n"
     ]
    },
    {
     "data": {
      "text/plain": [
       "<AxesSubplot:xlabel='diff', ylabel='Density'>"
      ]
     },
     "execution_count": 84,
     "metadata": {},
     "output_type": "execute_result"
    },
    {
     "data": {
      "image/png": "[encoded data removed]",
      "text/plain": [
       "<Figure size 432x288 with 1 Axes>"
      ]
     },
     "metadata": {
      "needs_background": "light"
     },
     "output_type": "display_data"
    }
   ],
   "source": [
    "sns.distplot(heavy_df['diff'])"
   ]
  },
  {
   "cell_type": "code",
   "execution_count": 100,
   "metadata": {},
   "outputs": [
    {
     "data": {
      "text/plain": [
       "63554.72973247996"
      ]
     },
     "execution_count": 100,
     "metadata": {},
     "output_type": "execute_result"
    }
   ],
   "source": [
    "only_salvage_score - no_salvage_score"
   ]
  },
  {
   "cell_type": "markdown",
   "metadata": {},
   "source": [
    "### SKOPE Rules"
   ]
  },
  {
   "cell_type": "code",
   "execution_count": 101,
   "metadata": {},
   "outputs": [],
   "source": [
    "from imodels.rule_set.skope_rules import SkopeRulesClassifier\n",
    "from sklearn.metrics import accuracy_score\n",
    "\n",
    "import matplotlib.pyplot as plt"
   ]
  },
  {
   "cell_type": "code",
   "execution_count": 102,
   "metadata": {},
   "outputs": [],
   "source": [
    "try:\n",
    "    X_train = X_train.drop(['diff'], axis=1)\n",
    "    X_test = X_test.drop(['diff'], axis=1)\n",
    "except KeyError:\n",
    "    pass"
   ]
  },
  {
   "cell_type": "code",
   "execution_count": 110,
   "metadata": {},
   "outputs": [
    {
     "data": {
      "text/plain": [
       "SkopeRulesClassifier(n_estimators=1, precision_min=0.05, recall_min=0)"
      ]
     },
     "execution_count": 110,
     "metadata": {},
     "output_type": "execute_result"
    }
   ],
   "source": [
    "clf = SkopeRulesClassifier(\n",
    "    max_depth_duplication=None,\n",
    "    n_estimators=1,\n",
    "    precision_min=0.05,\n",
    "    recall_min=0, \n",
    ")\n",
    "clf.fit(X_train, y_train.to_numpy().ravel())"
   ]
  },
  {
   "cell_type": "code",
   "execution_count": 111,
   "metadata": {},
   "outputs": [
    {
     "data": {
      "text/plain": [
       "0.8060913705583757"
      ]
     },
     "execution_count": 111,
     "metadata": {},
     "output_type": "execute_result"
    }
   ],
   "source": [
    "y_train_pred = clf.predict(X_train)\n",
    "accuracy_score(y_train, y_train_pred)"
   ]
  },
  {
   "cell_type": "code",
   "execution_count": 117,
   "metadata": {},
   "outputs": [
    {
     "data": {
      "text/plain": [
       "0.8985801217038539"
      ]
     },
     "execution_count": 117,
     "metadata": {},
     "output_type": "execute_result"
    }
   ],
   "source": [
    "y_pred = clf.predict_top_rules(X_test, 1)\n",
    "accuracy_score(y_test, y_pred)"
   ]
  },
  {
   "cell_type": "code",
   "execution_count": 113,
   "metadata": {},
   "outputs": [
    {
     "data": {
      "image/png": "[encoded data removed]",
      "text/plain": [
       "<Figure size 432x288 with 1 Axes>"
      ]
     },
     "metadata": {
      "needs_background": "light"
     },
     "output_type": "display_data"
    }
   ],
   "source": [
    "def show_rules():\n",
    "    \"\"\" \n",
    "    plot rules over time\n",
    "    \"\"\"\n",
    "    preds = [accuracy_score(y_train, clf.predict_top_rules(X_train, i)) for i in range(200)]\n",
    "    plt.plot([i for i in range(len(preds))],  preds)\n",
    "\n",
    "show_rules()"
   ]
  },
  {
   "cell_type": "code",
   "execution_count": 120,
   "metadata": {},
   "outputs": [
    {
     "data": {
      "text/plain": [
       "('feature_1 <= 1.6870312690734863 and feature_10 <= 58.75 and feature_7 <= 17.5',\n",
       " (0.15476190476190477, 0.4482758620689655, 1))"
      ]
     },
     "execution_count": 120,
     "metadata": {},
     "output_type": "execute_result"
    }
   ],
   "source": [
    "clf.rules_[0]"
   ]
  },
  {
   "cell_type": "code",
   "execution_count": 114,
   "metadata": {},
   "outputs": [
    {
     "name": "stdout",
     "output_type": "stream",
     "text": [
      "('feature_1 <= 1.6870312690734863 and feature_10 <= 58.75 and feature_7 <= 17.5', (0.15476190476190477, 0.4482758620689655, 1))\n",
      "('feature_0 > 1.6091208457946777 and feature_1 > 1.6870312690734863 and feature_10 > 58.5', (0.16666666666666666, 0.2413793103448276, 1))\n",
      "('feature_0 <= 1.6091208457946777 and feature_1 > 1.6870312690734863 and feature_10 > 58.5', (0.23076923076923078, 0.10344827586206896, 1))\n",
      "('feature_0 <= 1.1221059560775757 and feature_1 <= 1.6870312690734863 and feature_10 > 58.75', (0.2857142857142857, 0.06896551724137931, 1))\n",
      "('feature_0 > 1.1221059560775757 and feature_1 <= 1.6870312690734863 and feature_10 > 58.75', (0.25, 0.06896551724137931, 1))\n"
     ]
    }
   ],
   "source": [
    "for rule in clf.rules_:\n",
    "    print(rule)"
   ]
  },
  {
   "cell_type": "code",
   "execution_count": 123,
   "metadata": {},
   "outputs": [
    {
     "name": "stdout",
     "output_type": "stream",
     "text": [
      "RULES LEARNED: \n",
      "feature_0 is BF_BA\n",
      "feature_1 is OHost_BA\n",
      "feature_10 is SiteInd\n",
      "feature_7 is SLOPE\n"
     ]
    }
   ],
   "source": [
    "def print_columns(X, cols):\n",
    "    print(\"RULES LEARNED: \")\n",
    "    for col in cols:\n",
    "        print(\"feature_{} is {}\".format(col, X_train.columns[col]))\n",
    "        \n",
    "        \n",
    "print_columns(X_test, [0, 1, 10, 7])"
   ]
  },
  {
   "cell_type": "code",
   "execution_count": 121,
   "metadata": {},
   "outputs": [
    {
     "data": {
      "text/plain": [
       "(array([0, 1]), array([903,  83]))"
      ]
     },
     "execution_count": 121,
     "metadata": {},
     "output_type": "execute_result"
    }
   ],
   "source": [
    "np.unique(y_pred, return_counts=True)"
   ]
  },
  {
   "cell_type": "markdown",
   "metadata": {},
   "source": [
    "### (4) Skope Rules (assess savings)"
   ]
  },
  {
   "cell_type": "code",
   "execution_count": 124,
   "metadata": {},
   "outputs": [],
   "source": [
    "from sklearn.metrics import precision_score, recall_score"
   ]
  },
  {
   "cell_type": "code",
   "execution_count": 125,
   "metadata": {},
   "outputs": [],
   "source": [
    "def assess_savings(X_test, y_pred):\n",
    "    \"\"\"\n",
    "    Append predicitons and sum slavage/no salvage results \n",
    "    \"\"\"\n",
    "    # add predictions\n",
    "    test_df = X_test.copy()\n",
    "    test_df['preds'] = y_pred\n",
    "\n",
    "    # merge with management \n",
    "    temp = pd.merge(assess_df, test_df, on=\"Stand_ID\")\n",
    "\n",
    "    salvage_sum = temp[(temp['Salvage'] == True) & (temp['preds'] == 1)].Result.sum()\n",
    "    no_salvage_sum = temp[(temp['Salvage'] == False) & (temp['preds'] == 0)].Result.sum()\n",
    "\n",
    "    return salvage_sum + no_salvage_sum"
   ]
  },
  {
   "cell_type": "code",
   "execution_count": 126,
   "metadata": {},
   "outputs": [
    {
     "data": {
      "text/plain": [
       "-46.927385250787005"
      ]
     },
     "execution_count": 126,
     "metadata": {},
     "output_type": "execute_result"
    }
   ],
   "source": [
    "skope_rules_score = assess_savings(X_test, y_pred)\n",
    "skope_rules_score / IP"
   ]
  },
  {
   "cell_type": "code",
   "execution_count": 127,
   "metadata": {},
   "outputs": [
    {
     "data": {
      "text/plain": [
       "0.13253012048192772"
      ]
     },
     "execution_count": 127,
     "metadata": {},
     "output_type": "execute_result"
    }
   ],
   "source": [
    "precision_score(y_test, y_pred)"
   ]
  },
  {
   "cell_type": "code",
   "execution_count": 128,
   "metadata": {},
   "outputs": [
    {
     "data": {
      "text/plain": [
       "0.28205128205128205"
      ]
     },
     "execution_count": 128,
     "metadata": {},
     "output_type": "execute_result"
    }
   ],
   "source": [
    "recall_score(y_test, y_pred)"
   ]
  },
  {
   "cell_type": "markdown",
   "metadata": {},
   "source": [
    "## Boolean Compressed Sensing "
   ]
  },
  {
   "cell_type": "markdown",
   "metadata": {},
   "source": [
    "### Naive Split"
   ]
  },
  {
   "cell_type": "code",
   "execution_count": 30,
   "metadata": {
    "jupyter": {
     "source_hidden": true
    }
   },
   "outputs": [],
   "source": [
    "def create_design_matrices(df, quantiles):\n",
    "    \"\"\"Create A_N and A_P\"\"\"\n",
    "    measurement = pd.DataFrame()\n",
    "    measurement['Salvage_Good'] = df['Salvage_Good']\n",
    "    labels = ['Q' + str(q) for q in range(1, quantiles+1)]\n",
    "    bins = []\n",
    "\n",
    "    for col in df:\n",
    "        if col == 'Result' or col == 'Salvage_Good':\n",
    "            continue\n",
    "\n",
    "        try:\n",
    "            measurement[col], b = pd.qcut(df[col], quantiles, labels=labels, retbins=True)\n",
    "            bins.append(b)\n",
    "        except ValueError:\n",
    "            labels = ['Q' + str(q) for q in range(1, quantiles-1)]\n",
    "            measurement[col] = pd.qcut(heavy_df[col], quantiles-2, labels=labels)\n",
    "            labels = ['Q' + str(q) for q in range(1, quantiles)]\n",
    "\n",
    "    measurement = pd.get_dummies(measurement, drop_first=False)\n",
    "    A_p = measurement[measurement['Salvage_Good'] == 1].drop('Salvage_Good', axis=1)\n",
    "    A_n = measurement[measurement['Salvage_Good'] != 1].drop('Salvage_Good', axis=1)\n",
    "\n",
    "\n",
    "    return A_p.to_numpy(), A_n.to_numpy(), measurement.to_numpy(), list(A_p.columns), bins"
   ]
  },
  {
   "cell_type": "code",
   "execution_count": 31,
   "metadata": {
    "jupyter": {
     "source_hidden": true
    }
   },
   "outputs": [],
   "source": [
    "def create_test_matrix(df, features, bins):\n",
    "    temp = pd.DataFrame()\n",
    "    for i, col in enumerate(df):\n",
    "        temp[features[i]] = df[col].apply(\n",
    "            lambda x: 1 if x >= bins[i][1] else 0\n",
    "        )\n",
    "\n",
    "    return temp"
   ]
  },
  {
   "cell_type": "code",
   "execution_count": 32,
   "metadata": {
    "jupyter": {
     "source_hidden": true
    }
   },
   "outputs": [],
   "source": [
    "A_p, A_n, measurement, features, bins = create_design_matrices(train, 2)"
   ]
  },
  {
   "cell_type": "code",
   "execution_count": 33,
   "metadata": {
    "jupyter": {
     "source_hidden": true
    }
   },
   "outputs": [],
   "source": [
    "test_design = create_test_matrix(X_test, features, bins)"
   ]
  },
  {
   "cell_type": "markdown",
   "metadata": {},
   "source": [
    "### Rule Set using Rule Fit "
   ]
  },
  {
   "cell_type": "code",
   "execution_count": null,
   "metadata": {},
   "outputs": [],
   "source": []
  },
  {
   "cell_type": "markdown",
   "metadata": {},
   "source": [
    "### Learn Sparse Rules"
   ]
  },
  {
   "cell_type": "code",
   "execution_count": 34,
   "metadata": {},
   "outputs": [],
   "source": [
    "import gurobipy as gp\n",
    "from gurobipy import GRB"
   ]
  },
  {
   "cell_type": "code",
   "execution_count": 35,
   "metadata": {},
   "outputs": [
    {
     "name": "stdout",
     "output_type": "stream",
     "text": [
      "\n",
      "--------------------------------------------\n",
      "Warning: your license will expire in 7 days\n",
      "--------------------------------------------\n",
      "\n",
      "Using license file /home/sean/gurobi.lic\n",
      "Academic license - for non-commercial use only - expires 2020-12-08\n"
     ]
    }
   ],
   "source": [
    "m = gp.Model(\"rule-extraciton\")"
   ]
  },
  {
   "cell_type": "code",
   "execution_count": 36,
   "metadata": {},
   "outputs": [],
   "source": [
    "w = m.addMVar(shape=A_p.shape[1], vtype=GRB.BINARY, name=\"weights\")\n",
    "psi_p = m.addMVar(shape=A_p.shape[0], name=\"psi_p\")\n",
    "psi_n = m.addMVar(shape=A_n.shape[0], name=\"psi_n\")"
   ]
  },
  {
   "cell_type": "code",
   "execution_count": 37,
   "metadata": {},
   "outputs": [],
   "source": [
    "m.addConstr(w <= 1.0)\n",
    "m.addConstr(w >= 0.0)\n",
    "m.addConstr(psi_p <= 1)\n",
    "m.addConstr(psi_p >= 0)\n",
    "m.addConstr(psi_n >= 0)\n",
    "m.addConstr(A_p @ w + psi_p >= 1.0)\n",
    "m.addConstr(A_n @ w == psi_n)\n",
    "m.update()"
   ]
  },
  {
   "cell_type": "code",
   "execution_count": 38,
   "metadata": {},
   "outputs": [],
   "source": [
    "m.setObjective(sum(w) + 1000 * (sum(psi_p) + sum(psi_n)), GRB.MINIMIZE)"
   ]
  },
  {
   "cell_type": "code",
   "execution_count": 39,
   "metadata": {},
   "outputs": [
    {
     "name": "stdout",
     "output_type": "stream",
     "text": [
      "Gurobi Optimizer version 9.1.0 build v9.1.0rc0 (linux64)\n",
      "Thread count: 6 physical cores, 12 logical processors, using up to 12 threads\n",
      "Optimize a model with 11055 rows, 3964 columns and 58335 nonzeros\n",
      "Model fingerprint: 0x3b5dbf0d\n",
      "Variable types: 3940 continuous, 24 integer (24 binary)\n",
      "Coefficient statistics:\n",
      "  Matrix range     [1e+00, 1e+00]\n",
      "  Objective range  [1e+00, 1e+03]\n",
      "  Bounds range     [1e+00, 1e+00]\n",
      "  RHS range        [1e+00, 1e+00]\n",
      "Found heuristic solution: objective 1138003.0000\n",
      "Presolve removed 9855 rows and 2740 columns\n",
      "Presolve time: 0.03s\n",
      "Presolved: 1200 rows, 1224 columns, 15600 nonzeros\n",
      "Variable types: 0 continuous, 1224 integer (1224 binary)\n",
      "\n",
      "Root relaxation: objective 8.130020e+05, 697 iterations, 0.02 seconds\n",
      "\n",
      "    Nodes    |    Current Node    |     Objective Bounds      |     Work\n",
      " Expl Unexpl |  Obj  Depth IntInf | Incumbent    BestBd   Gap | It/Node Time\n",
      "\n",
      "*    0     0               0    813002.00000 813002.000  0.00%     -    0s\n",
      "\n",
      "Explored 0 nodes (697 simplex iterations) in 0.06 seconds\n",
      "Thread count was 12 (of 12 available processors)\n",
      "\n",
      "Solution count 2: 813002 1.138e+06 \n",
      "\n",
      "Optimal solution found (tolerance 1.00e-04)\n",
      "Best objective 8.130020000000e+05, best bound 8.130020000000e+05, gap 0.0000%\n"
     ]
    }
   ],
   "source": [
    "m.optimize()"
   ]
  },
  {
   "cell_type": "code",
   "execution_count": 40,
   "metadata": {},
   "outputs": [
    {
     "name": "stdout",
     "output_type": "stream",
     "text": [
      "<gurobi.Var weights[0] (value -0.0)>\n",
      "<gurobi.Var weights[1] (value 0.0)>\n",
      "<gurobi.Var weights[2] (value 0.0)>\n",
      "<gurobi.Var weights[3] (value -0.0)>\n",
      "<gurobi.Var weights[4] (value -0.0)>\n",
      "<gurobi.Var weights[5] (value 0.0)>\n",
      "<gurobi.Var weights[6] (value 0.0)>\n",
      "<gurobi.Var weights[7] (value -0.0)>\n",
      "<gurobi.Var weights[8] (value -0.0)>\n",
      "<gurobi.Var weights[9] (value 0.0)>\n",
      "<gurobi.Var weights[10] (value 0.0)>\n",
      "<gurobi.Var weights[11] (value -0.0)>\n",
      "<gurobi.Var weights[12] (value 0.0)>\n",
      "<gurobi.Var weights[13] (value -0.0)>\n",
      "<gurobi.Var weights[14] (value 1.0)>\n",
      "<gurobi.Var weights[15] (value 1.0)>\n",
      "<gurobi.Var weights[16] (value 0.0)>\n",
      "<gurobi.Var weights[17] (value -0.0)>\n",
      "<gurobi.Var weights[18] (value -0.0)>\n",
      "<gurobi.Var weights[19] (value 0.0)>\n",
      "<gurobi.Var weights[20] (value 0.0)>\n",
      "<gurobi.Var weights[21] (value -0.0)>\n",
      "<gurobi.Var weights[22] (value 0.0)>\n",
      "<gurobi.Var weights[23] (value -0.0)>\n",
      "None\n"
     ]
    }
   ],
   "source": [
    "m.getVarByName(\"weights[0]\")\n",
    "for i in range(measurement.shape[1]):\n",
    "    print(m.getVarByName(\"weights[\" + str(i) + \"]\"))"
   ]
  },
  {
   "cell_type": "markdown",
   "metadata": {},
   "source": [
    "## Evaluate"
   ]
  },
  {
   "cell_type": "markdown",
   "metadata": {},
   "source": [
    "### Raw Accuracy"
   ]
  },
  {
   "cell_type": "code",
   "execution_count": 41,
   "metadata": {},
   "outputs": [
    {
     "data": {
      "text/plain": [
       "'LAT_Q1'"
      ]
     },
     "execution_count": 41,
     "metadata": {},
     "output_type": "execute_result"
    }
   ],
   "source": [
    "features[18]"
   ]
  },
  {
   "cell_type": "code",
   "execution_count": 42,
   "metadata": {},
   "outputs": [
    {
     "data": {
      "text/plain": [
       "'LAT_Q2'"
      ]
     },
     "execution_count": 42,
     "metadata": {},
     "output_type": "execute_result"
    }
   ],
   "source": [
    "features[19]"
   ]
  },
  {
   "cell_type": "markdown",
   "metadata": {},
   "source": [
    "## Analysis "
   ]
  },
  {
   "cell_type": "code",
   "execution_count": null,
   "metadata": {},
   "outputs": [],
   "source": []
  }
 ],
 "metadata": {
  "kernelspec": {
   "display_name": "Python 3",
   "language": "python",
   "name": "python3"
  },
  "language_info": {
   "codemirror_mode": {
    "name": "ipython",
    "version": 3
   },
   "file_extension": ".py",
   "mimetype": "text/x-python",
   "name": "python",
   "nbconvert_exporter": "python",
   "pygments_lexer": "ipython3",
   "version": "3.7.9"
  }
 },
 "nbformat": 4,
 "nbformat_minor": 4
}

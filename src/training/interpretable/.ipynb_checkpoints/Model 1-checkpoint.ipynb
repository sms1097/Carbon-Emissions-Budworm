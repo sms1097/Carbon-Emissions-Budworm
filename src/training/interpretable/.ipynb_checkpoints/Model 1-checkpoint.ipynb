{
 "cells": [
  {
   "cell_type": "markdown",
   "metadata": {},
   "source": [
    "# Version 1.0 Model Predictions"
   ]
  },
  {
   "cell_type": "code",
   "execution_count": 1,
   "metadata": {},
   "outputs": [],
   "source": [
    "import pandas as pd\n",
    "import numpy as np\n",
    "import seaborn as sns"
   ]
  },
  {
   "cell_type": "markdown",
   "metadata": {},
   "source": [
    "## Import Data Sets\n",
    "Here we will import `NetC_Expanded` which is data seperated by management style, result and slavage status, and we will import the predictors and join those datasets."
   ]
  },
  {
   "cell_type": "code",
   "execution_count": 2,
   "metadata": {},
   "outputs": [
    {
     "data": {
      "text/html": [
       "<div>\n",
       "<style scoped>\n",
       "    .dataframe tbody tr th:only-of-type {\n",
       "        vertical-align: middle;\n",
       "    }\n",
       "\n",
       "    .dataframe tbody tr th {\n",
       "        vertical-align: top;\n",
       "    }\n",
       "\n",
       "    .dataframe thead th {\n",
       "        text-align: right;\n",
       "    }\n",
       "</style>\n",
       "<table border=\"1\" class=\"dataframe\">\n",
       "  <thead>\n",
       "    <tr style=\"text-align: right;\">\n",
       "      <th></th>\n",
       "      <th>TimeStep</th>\n",
       "      <th>Risk_Cat</th>\n",
       "      <th>Stand_ID</th>\n",
       "      <th>Salvage</th>\n",
       "      <th>Management</th>\n",
       "      <th>Result</th>\n",
       "    </tr>\n",
       "  </thead>\n",
       "  <tbody>\n",
       "    <tr>\n",
       "      <th>0</th>\n",
       "      <td>0</td>\n",
       "      <td>4</td>\n",
       "      <td>0023200606030102900043</td>\n",
       "      <td>True</td>\n",
       "      <td>Heavy</td>\n",
       "      <td>-249.287884</td>\n",
       "    </tr>\n",
       "    <tr>\n",
       "      <th>1</th>\n",
       "      <td>0</td>\n",
       "      <td>4</td>\n",
       "      <td>0023200606030102900043</td>\n",
       "      <td>True</td>\n",
       "      <td>NoMgmt</td>\n",
       "      <td>-321.931519</td>\n",
       "    </tr>\n",
       "    <tr>\n",
       "      <th>2</th>\n",
       "      <td>0</td>\n",
       "      <td>4</td>\n",
       "      <td>0023200606030102900043</td>\n",
       "      <td>True</td>\n",
       "      <td>Moderate</td>\n",
       "      <td>-276.111511</td>\n",
       "    </tr>\n",
       "    <tr>\n",
       "      <th>3</th>\n",
       "      <td>0</td>\n",
       "      <td>4</td>\n",
       "      <td>0023200606030102900043</td>\n",
       "      <td>True</td>\n",
       "      <td>Comm-Ind</td>\n",
       "      <td>-250.583375</td>\n",
       "    </tr>\n",
       "    <tr>\n",
       "      <th>4</th>\n",
       "      <td>0</td>\n",
       "      <td>4</td>\n",
       "      <td>0023200606030102900043</td>\n",
       "      <td>True</td>\n",
       "      <td>HighGrade</td>\n",
       "      <td>-293.426896</td>\n",
       "    </tr>\n",
       "  </tbody>\n",
       "</table>\n",
       "</div>"
      ],
      "text/plain": [
       "   TimeStep  Risk_Cat                Stand_ID  Salvage Management      Result\n",
       "0         0         4  0023200606030102900043     True      Heavy -249.287884\n",
       "1         0         4  0023200606030102900043     True     NoMgmt -321.931519\n",
       "2         0         4  0023200606030102900043     True   Moderate -276.111511\n",
       "3         0         4  0023200606030102900043     True   Comm-Ind -250.583375\n",
       "4         0         4  0023200606030102900043     True  HighGrade -293.426896"
      ]
     },
     "execution_count": 2,
     "metadata": {},
     "output_type": "execute_result"
    }
   ],
   "source": [
    "netc_expanded = pd.read_csv('../Data/NetC_Expanded.csv')\n",
    "netc_expanded = netc_expanded.drop(['Unnamed: 0'], axis=1)\n",
    "netc_expanded.head()"
   ]
  },
  {
   "cell_type": "code",
   "execution_count": 3,
   "metadata": {},
   "outputs": [
    {
     "data": {
      "text/html": [
       "<div>\n",
       "<style scoped>\n",
       "    .dataframe tbody tr th:only-of-type {\n",
       "        vertical-align: middle;\n",
       "    }\n",
       "\n",
       "    .dataframe tbody tr th {\n",
       "        vertical-align: top;\n",
       "    }\n",
       "\n",
       "    .dataframe thead th {\n",
       "        text-align: right;\n",
       "    }\n",
       "</style>\n",
       "<table border=\"1\" class=\"dataframe\">\n",
       "  <thead>\n",
       "    <tr style=\"text-align: right;\">\n",
       "      <th></th>\n",
       "      <th>BF_BA</th>\n",
       "      <th>OHost_BA</th>\n",
       "      <th>BF_Stock</th>\n",
       "      <th>OHost_Stock</th>\n",
       "      <th>NonHost_Stock</th>\n",
       "      <th>BF_QMD</th>\n",
       "      <th>ELEV</th>\n",
       "      <th>SLOPE</th>\n",
       "      <th>ASPECT</th>\n",
       "      <th>LAT</th>\n",
       "      <th>SiteInd</th>\n",
       "    </tr>\n",
       "    <tr>\n",
       "      <th>Stand_ID</th>\n",
       "      <th></th>\n",
       "      <th></th>\n",
       "      <th></th>\n",
       "      <th></th>\n",
       "      <th></th>\n",
       "      <th></th>\n",
       "      <th></th>\n",
       "      <th></th>\n",
       "      <th></th>\n",
       "      <th></th>\n",
       "      <th></th>\n",
       "    </tr>\n",
       "  </thead>\n",
       "  <tbody>\n",
       "    <tr>\n",
       "      <th>0023200606030200300067</th>\n",
       "      <td>NaN</td>\n",
       "      <td>0.498332</td>\n",
       "      <td>NaN</td>\n",
       "      <td>0.883600</td>\n",
       "      <td>56.9255</td>\n",
       "      <td>NaN</td>\n",
       "      <td>580</td>\n",
       "      <td>5.0</td>\n",
       "      <td>240.0</td>\n",
       "      <td>46.14358</td>\n",
       "      <td>NaN</td>\n",
       "    </tr>\n",
       "    <tr>\n",
       "      <th>0023200606030200300826</th>\n",
       "      <td>3.899610</td>\n",
       "      <td>11.890484</td>\n",
       "      <td>21.8437</td>\n",
       "      <td>0.885569</td>\n",
       "      <td>18.6635</td>\n",
       "      <td>4.965398</td>\n",
       "      <td>1170</td>\n",
       "      <td>0.0</td>\n",
       "      <td>0.0</td>\n",
       "      <td>47.19684</td>\n",
       "      <td>28.0</td>\n",
       "    </tr>\n",
       "    <tr>\n",
       "      <th>0023200606030200300924</th>\n",
       "      <td>0.036869</td>\n",
       "      <td>7.443510</td>\n",
       "      <td>0.2679</td>\n",
       "      <td>1.166825</td>\n",
       "      <td>3.8019</td>\n",
       "      <td>2.600000</td>\n",
       "      <td>990</td>\n",
       "      <td>0.0</td>\n",
       "      <td>0.0</td>\n",
       "      <td>46.64171</td>\n",
       "      <td>33.0</td>\n",
       "    </tr>\n",
       "    <tr>\n",
       "      <th>0023200606030301901813</th>\n",
       "      <td>0.967649</td>\n",
       "      <td>1.368845</td>\n",
       "      <td>63.7216</td>\n",
       "      <td>1.609179</td>\n",
       "      <td>12.1858</td>\n",
       "      <td>2.106063</td>\n",
       "      <td>180</td>\n",
       "      <td>0.0</td>\n",
       "      <td>0.0</td>\n",
       "      <td>45.09319</td>\n",
       "      <td>40.0</td>\n",
       "    </tr>\n",
       "    <tr>\n",
       "      <th>0023200606030400901513</th>\n",
       "      <td>3.352901</td>\n",
       "      <td>6.679677</td>\n",
       "      <td>73.4189</td>\n",
       "      <td>1.397641</td>\n",
       "      <td>18.2434</td>\n",
       "      <td>3.405766</td>\n",
       "      <td>250</td>\n",
       "      <td>0.0</td>\n",
       "      <td>0.0</td>\n",
       "      <td>44.73563</td>\n",
       "      <td>NaN</td>\n",
       "    </tr>\n",
       "  </tbody>\n",
       "</table>\n",
       "</div>"
      ],
      "text/plain": [
       "                           BF_BA   OHost_BA  BF_Stock  OHost_Stock  \\\n",
       "Stand_ID                                                             \n",
       "0023200606030200300067       NaN   0.498332       NaN     0.883600   \n",
       "0023200606030200300826  3.899610  11.890484   21.8437     0.885569   \n",
       "0023200606030200300924  0.036869   7.443510    0.2679     1.166825   \n",
       "0023200606030301901813  0.967649   1.368845   63.7216     1.609179   \n",
       "0023200606030400901513  3.352901   6.679677   73.4189     1.397641   \n",
       "\n",
       "                        NonHost_Stock    BF_QMD  ELEV  SLOPE  ASPECT  \\\n",
       "Stand_ID                                                               \n",
       "0023200606030200300067        56.9255       NaN   580    5.0   240.0   \n",
       "0023200606030200300826        18.6635  4.965398  1170    0.0     0.0   \n",
       "0023200606030200300924         3.8019  2.600000   990    0.0     0.0   \n",
       "0023200606030301901813        12.1858  2.106063   180    0.0     0.0   \n",
       "0023200606030400901513        18.2434  3.405766   250    0.0     0.0   \n",
       "\n",
       "                             LAT  SiteInd  \n",
       "Stand_ID                                   \n",
       "0023200606030200300067  46.14358      NaN  \n",
       "0023200606030200300826  47.19684     28.0  \n",
       "0023200606030200300924  46.64171     33.0  \n",
       "0023200606030301901813  45.09319     40.0  \n",
       "0023200606030400901513  44.73563      NaN  "
      ]
     },
     "execution_count": 3,
     "metadata": {},
     "output_type": "execute_result"
    }
   ],
   "source": [
    "predictors = pd.read_csv('../Data/Predict_SBW_wCarbon_T0to40.csv')\n",
    "predictors = predictors.rename(columns={'StandID': 'Stand_ID'})\n",
    "predictors = predictors.set_index('Stand_ID')\n",
    "predictors = predictors[[\"BF_BA\",\"OHost_BA\",\"BF_Stock\",\"OHost_Stock\",\"NonHost_Stock\",\"BF_QMD\",\"ELEV\",\"SLOPE\",\"ASPECT\",\"LAT\",\"SiteInd\"]]\n",
    "predictors.head()"
   ]
  },
  {
   "cell_type": "markdown",
   "metadata": {},
   "source": [
    "## Selecting Management Style \n",
    "Gong to define a management style upfront to create rule set"
   ]
  },
  {
   "cell_type": "code",
   "execution_count": 9,
   "metadata": {},
   "outputs": [],
   "source": [
    "MANAGEMENT_STYLE = 'NoMgmt'\n",
    "\n",
    "mgmt_df = netc_expanded[netc_expanded['Management'] == MANAGEMENT_STYLE]"
   ]
  },
  {
   "cell_type": "markdown",
   "metadata": {},
   "source": [
    "### Apply Discount Rate\n",
    "Didn't have time to make a \"smart\" implimentation of this. "
   ]
  },
  {
   "cell_type": "code",
   "execution_count": 10,
   "metadata": {},
   "outputs": [],
   "source": [
    "def discount(df):\n",
    "    ## Initialize df\n",
    "    temp_df = df.copy()\n",
    "    temp_df = temp_df.sort_values(by=['Stand_ID', 'TimeStep'])\n",
    "    \n",
    "    ## Define discount rate\n",
    "    discount_rate = lambda diff, t: diff * (1 / (1 + 0.02) ** t)\n",
    "    for i, row in temp_df.iterrows():\n",
    "        \n",
    "        ## If first timestep do nothing\n",
    "        if row['TimeStep'] == 0:\n",
    "            continue\n",
    "            \n",
    "        diff = row['Result'] - temp_df.loc[(temp_df['TimeStep'] == (row['TimeStep'] - 10)) \n",
    "                                           & (temp_df['Salvage'] == row['Salvage']) &\n",
    "                                           (temp_df['Stand_ID'] == row['Stand_ID']), 'Result'].values[0]\n",
    "        \n",
    "        base = temp_df.loc[(temp_df['TimeStep'] == 0) & \n",
    "                   (temp_df['Salvage'] == row['Salvage']) &\n",
    "                   (temp_df['Stand_ID'] == row['Stand_ID']), 'Result'].values[0]\n",
    "    \n",
    "        discounted_result = discount_rate(diff, row['TimeStep']) + base\n",
    "        \n",
    "        ## update df\n",
    "        temp_df.at[i, 'Result'] = discounted_result \n",
    "        \n",
    "        \n",
    "    return temp_df"
   ]
  },
  {
   "cell_type": "code",
   "execution_count": 11,
   "metadata": {},
   "outputs": [],
   "source": [
    "discount_df = discount(mgmt_df)"
   ]
  },
  {
   "cell_type": "code",
   "execution_count": 12,
   "metadata": {},
   "outputs": [],
   "source": [
    "def get_mgmt_df(target_df, pred_df, tol):\n",
    "    \"\"\"\n",
    "    Returns labeled DF for salvage and non salvage decisions\n",
    "    \"\"\"\n",
    "    temp_df = pd.DataFrame(columns=['Stand_ID', 'Give_Voucher', 'Result'])\n",
    "    for stand in target_df['Stand_ID'].unique():\n",
    "        \n",
    "        group_df = target_df[(target_df['Stand_ID'] == stand)\n",
    "                             & (target_df['TimeStep'] == 40)]\n",
    "        group_df = group_df.set_index('Salvage')\n",
    "        \n",
    "        assert group_df.shape[0] == 2\n",
    "        \n",
    "        # calculate diff\n",
    "        diff =  group_df.at[True, 'Result'] - group_df.at[False, 'Result']\n",
    "        \n",
    "        #  If index is True where min is acheived\n",
    "        if group_df['Result'].idxmin():  # and diff > tol:\n",
    "            temp_df = temp_df.append(\n",
    "                pd.DataFrame({\n",
    "                    'Stand_ID': [stand],\n",
    "                    'Give_Voucher': [0],\n",
    "                    'Result': [group_df['Result'].min()],\n",
    "                    'diff': [diff]\n",
    "                })\n",
    "            )\n",
    "        else:\n",
    "            temp_df = temp_df.append(\n",
    "                pd.DataFrame({\n",
    "                    'Stand_ID': [stand],\n",
    "                    'Give_Voucher': [1],\n",
    "                    'Result': [group_df['Result'].min()],\n",
    "                    'diff': [diff]\n",
    "                })\n",
    "            )\n",
    "            \n",
    "    temp_df = temp_df.set_index('Stand_ID')\n",
    "    return pd.merge(pred_df, temp_df, on=\"Stand_ID\", right_index=True)"
   ]
  },
  {
   "cell_type": "code",
   "execution_count": 13,
   "metadata": {},
   "outputs": [
    {
     "data": {
      "text/html": [
       "<div>\n",
       "<style scoped>\n",
       "    .dataframe tbody tr th:only-of-type {\n",
       "        vertical-align: middle;\n",
       "    }\n",
       "\n",
       "    .dataframe tbody tr th {\n",
       "        vertical-align: top;\n",
       "    }\n",
       "\n",
       "    .dataframe thead th {\n",
       "        text-align: right;\n",
       "    }\n",
       "</style>\n",
       "<table border=\"1\" class=\"dataframe\">\n",
       "  <thead>\n",
       "    <tr style=\"text-align: right;\">\n",
       "      <th></th>\n",
       "      <th>BF_BA</th>\n",
       "      <th>OHost_BA</th>\n",
       "      <th>BF_Stock</th>\n",
       "      <th>OHost_Stock</th>\n",
       "      <th>NonHost_Stock</th>\n",
       "      <th>BF_QMD</th>\n",
       "      <th>ELEV</th>\n",
       "      <th>SLOPE</th>\n",
       "      <th>ASPECT</th>\n",
       "      <th>LAT</th>\n",
       "      <th>SiteInd</th>\n",
       "      <th>Give_Voucher</th>\n",
       "      <th>Result</th>\n",
       "      <th>diff</th>\n",
       "    </tr>\n",
       "    <tr>\n",
       "      <th>Stand_ID</th>\n",
       "      <th></th>\n",
       "      <th></th>\n",
       "      <th></th>\n",
       "      <th></th>\n",
       "      <th></th>\n",
       "      <th></th>\n",
       "      <th></th>\n",
       "      <th></th>\n",
       "      <th></th>\n",
       "      <th></th>\n",
       "      <th></th>\n",
       "      <th></th>\n",
       "      <th></th>\n",
       "      <th></th>\n",
       "    </tr>\n",
       "  </thead>\n",
       "  <tbody>\n",
       "    <tr>\n",
       "      <th>0023200606030200300067</th>\n",
       "      <td>2.325367</td>\n",
       "      <td>0.498332</td>\n",
       "      <td>11.4585</td>\n",
       "      <td>0.883600</td>\n",
       "      <td>56.9255</td>\n",
       "      <td>5.490730</td>\n",
       "      <td>580</td>\n",
       "      <td>5.0</td>\n",
       "      <td>240.0</td>\n",
       "      <td>46.14358</td>\n",
       "      <td>42.0</td>\n",
       "      <td>1</td>\n",
       "      <td>-424.433210</td>\n",
       "      <td>16.989457</td>\n",
       "    </tr>\n",
       "    <tr>\n",
       "      <th>0023200606030200300826</th>\n",
       "      <td>3.899610</td>\n",
       "      <td>11.890484</td>\n",
       "      <td>21.8437</td>\n",
       "      <td>0.885569</td>\n",
       "      <td>18.6635</td>\n",
       "      <td>4.965398</td>\n",
       "      <td>1170</td>\n",
       "      <td>0.0</td>\n",
       "      <td>0.0</td>\n",
       "      <td>47.19684</td>\n",
       "      <td>28.0</td>\n",
       "      <td>1</td>\n",
       "      <td>-432.105486</td>\n",
       "      <td>58.165202</td>\n",
       "    </tr>\n",
       "    <tr>\n",
       "      <th>0023200606030200300924</th>\n",
       "      <td>0.036869</td>\n",
       "      <td>7.443510</td>\n",
       "      <td>0.2679</td>\n",
       "      <td>1.166825</td>\n",
       "      <td>3.8019</td>\n",
       "      <td>2.600000</td>\n",
       "      <td>990</td>\n",
       "      <td>0.0</td>\n",
       "      <td>0.0</td>\n",
       "      <td>46.64171</td>\n",
       "      <td>33.0</td>\n",
       "      <td>1</td>\n",
       "      <td>-336.976590</td>\n",
       "      <td>18.965326</td>\n",
       "    </tr>\n",
       "    <tr>\n",
       "      <th>0023200606030301901813</th>\n",
       "      <td>0.967649</td>\n",
       "      <td>1.368845</td>\n",
       "      <td>63.7216</td>\n",
       "      <td>1.609179</td>\n",
       "      <td>12.1858</td>\n",
       "      <td>2.106063</td>\n",
       "      <td>180</td>\n",
       "      <td>0.0</td>\n",
       "      <td>0.0</td>\n",
       "      <td>45.09319</td>\n",
       "      <td>40.0</td>\n",
       "      <td>0</td>\n",
       "      <td>-438.233906</td>\n",
       "      <td>-37.347023</td>\n",
       "    </tr>\n",
       "    <tr>\n",
       "      <th>0023200606030400901513</th>\n",
       "      <td>3.352901</td>\n",
       "      <td>6.679677</td>\n",
       "      <td>73.4189</td>\n",
       "      <td>1.397641</td>\n",
       "      <td>18.2434</td>\n",
       "      <td>3.405766</td>\n",
       "      <td>250</td>\n",
       "      <td>0.0</td>\n",
       "      <td>0.0</td>\n",
       "      <td>44.73563</td>\n",
       "      <td>42.0</td>\n",
       "      <td>1</td>\n",
       "      <td>-393.888667</td>\n",
       "      <td>35.211018</td>\n",
       "    </tr>\n",
       "  </tbody>\n",
       "</table>\n",
       "</div>"
      ],
      "text/plain": [
       "                           BF_BA   OHost_BA  BF_Stock  OHost_Stock  \\\n",
       "Stand_ID                                                             \n",
       "0023200606030200300067  2.325367   0.498332   11.4585     0.883600   \n",
       "0023200606030200300826  3.899610  11.890484   21.8437     0.885569   \n",
       "0023200606030200300924  0.036869   7.443510    0.2679     1.166825   \n",
       "0023200606030301901813  0.967649   1.368845   63.7216     1.609179   \n",
       "0023200606030400901513  3.352901   6.679677   73.4189     1.397641   \n",
       "\n",
       "                        NonHost_Stock    BF_QMD  ELEV  SLOPE  ASPECT  \\\n",
       "Stand_ID                                                               \n",
       "0023200606030200300067        56.9255  5.490730   580    5.0   240.0   \n",
       "0023200606030200300826        18.6635  4.965398  1170    0.0     0.0   \n",
       "0023200606030200300924         3.8019  2.600000   990    0.0     0.0   \n",
       "0023200606030301901813        12.1858  2.106063   180    0.0     0.0   \n",
       "0023200606030400901513        18.2434  3.405766   250    0.0     0.0   \n",
       "\n",
       "                             LAT  SiteInd  Give_Voucher      Result       diff  \n",
       "Stand_ID                                                                        \n",
       "0023200606030200300067  46.14358     42.0             1 -424.433210  16.989457  \n",
       "0023200606030200300826  47.19684     28.0             1 -432.105486  58.165202  \n",
       "0023200606030200300924  46.64171     33.0             1 -336.976590  18.965326  \n",
       "0023200606030301901813  45.09319     40.0             0 -438.233906 -37.347023  \n",
       "0023200606030400901513  44.73563     42.0             1 -393.888667  35.211018  "
      ]
     },
     "execution_count": 13,
     "metadata": {},
     "output_type": "execute_result"
    }
   ],
   "source": [
    "heavy_df = get_mgmt_df(discount_df, predictors, 0)\n",
    "heavy_df = heavy_df.fillna(heavy_df.median())\n",
    "# heavy_df[heavy_df['Give_Voucher'] == True].assign(percent_improvement=heavy_df['diff'] / (heavy_df['Result'] - heavy_df['diff'])).describe()\n",
    "heavy_df.head()"
   ]
  },
  {
   "cell_type": "markdown",
   "metadata": {},
   "source": [
    "### How much is saved on average when a voucher is given normally? "
   ]
  },
  {
   "cell_type": "code",
   "execution_count": 20,
   "metadata": {},
   "outputs": [
    {
     "data": {
      "text/plain": [
       "1    2830\n",
       "0    2096\n",
       "Name: Give_Voucher, dtype: int64"
      ]
     },
     "execution_count": 20,
     "metadata": {},
     "output_type": "execute_result"
    }
   ],
   "source": [
    "heavy_df['Give_Voucher'].value_counts()"
   ]
  },
  {
   "cell_type": "code",
   "execution_count": 21,
   "metadata": {},
   "outputs": [
    {
     "data": {
      "text/plain": [
       "count    2830.000000\n",
       "mean       32.522794\n",
       "std        38.508204\n",
       "min         0.004595\n",
       "25%         9.271640\n",
       "50%        21.722638\n",
       "75%        42.152624\n",
       "max       390.485405\n",
       "Name: diff, dtype: float64"
      ]
     },
     "execution_count": 21,
     "metadata": {},
     "output_type": "execute_result"
    }
   ],
   "source": [
    "heavy_df[heavy_df['diff'] > 0]['diff'].describe()"
   ]
  },
  {
   "cell_type": "code",
   "execution_count": 22,
   "metadata": {},
   "outputs": [
    {
     "data": {
      "text/plain": [
       "<seaborn.axisgrid.FacetGrid at 0x7f5729749ad0>"
      ]
     },
     "execution_count": 22,
     "metadata": {},
     "output_type": "execute_result"
    },
    {
     "data": {
      "image/png": "[encoded data removed]",
      "text/plain": [
       "<Figure size 360x360 with 1 Axes>"
      ]
     },
     "metadata": {
      "needs_background": "light"
     },
     "output_type": "display_data"
    }
   ],
   "source": [
    "sns.displot(heavy_df[heavy_df['diff'] > 0]['diff'])"
   ]
  },
  {
   "cell_type": "markdown",
   "metadata": {},
   "source": [
    "## Split Data"
   ]
  },
  {
   "cell_type": "code",
   "execution_count": 23,
   "metadata": {},
   "outputs": [],
   "source": [
    "from sklearn.model_selection import train_test_split\n",
    "from sklearn.metrics import accuracy_score"
   ]
  },
  {
   "cell_type": "code",
   "execution_count": 24,
   "metadata": {},
   "outputs": [],
   "source": [
    "X = heavy_df.drop(['Give_Voucher', 'Result'], axis=1)\n",
    "y = heavy_df[['Give_Voucher']].astype('int')"
   ]
  },
  {
   "cell_type": "code",
   "execution_count": 25,
   "metadata": {},
   "outputs": [],
   "source": [
    "X_train, X_test, y_train, y_test = train_test_split(X, y, test_size=0.2)"
   ]
  },
  {
   "cell_type": "markdown",
   "metadata": {},
   "source": [
    "## Baselines"
   ]
  },
  {
   "cell_type": "markdown",
   "metadata": {},
   "source": [
    "`IP` is an interpretability constant since net saved emissions is always large"
   ]
  },
  {
   "cell_type": "code",
   "execution_count": 26,
   "metadata": {},
   "outputs": [],
   "source": [
    "IP = 10000"
   ]
  },
  {
   "cell_type": "code",
   "execution_count": 27,
   "metadata": {},
   "outputs": [],
   "source": [
    "assess_df = mgmt_df.set_index('Stand_ID')\n",
    "assess_df = assess_df[assess_df['TimeStep'] == 40]\n",
    "assess_df = assess_df[['Salvage', 'Result']]\n",
    "\n",
    "assess_df = pd.merge(assess_df, X_test, on=\"Stand_ID\")"
   ]
  },
  {
   "cell_type": "markdown",
   "metadata": {},
   "source": [
    "### (1) Don't Salvage At All"
   ]
  },
  {
   "cell_type": "code",
   "execution_count": 28,
   "metadata": {},
   "outputs": [
    {
     "data": {
      "text/plain": [
       "-61.20596620916"
      ]
     },
     "execution_count": 28,
     "metadata": {},
     "output_type": "execute_result"
    }
   ],
   "source": [
    "no_salvage = assess_df[(assess_df['Salvage'] == False)]\n",
    "no_salvage_score = no_salvage['Result'].sum()\n",
    "no_salvage_score / IP"
   ]
  },
  {
   "cell_type": "markdown",
   "metadata": {},
   "source": [
    "### (2) Only Salvage"
   ]
  },
  {
   "cell_type": "code",
   "execution_count": 29,
   "metadata": {},
   "outputs": [
    {
     "data": {
      "text/plain": [
       "-66.74745455499"
      ]
     },
     "execution_count": 29,
     "metadata": {},
     "output_type": "execute_result"
    }
   ],
   "source": [
    "only_salvage = assess_df[(assess_df['Salvage'] == True)]\n",
    "only_salvage_score = only_salvage['Result'].sum()\n",
    "only_salvage_score / IP"
   ]
  },
  {
   "cell_type": "markdown",
   "metadata": {},
   "source": [
    "### (3) Optimal"
   ]
  },
  {
   "cell_type": "code",
   "execution_count": 30,
   "metadata": {},
   "outputs": [
    {
     "data": {
      "text/plain": [
       "-67.02801101800999"
      ]
     },
     "execution_count": 30,
     "metadata": {},
     "output_type": "execute_result"
    }
   ],
   "source": [
    "(assess_df\n",
    " .reset_index('Stand_ID')\n",
    " .groupby('Stand_ID')\n",
    " .agg({'Result': np.min})\n",
    " .Result.sum()) / IP"
   ]
  },
  {
   "cell_type": "code",
   "execution_count": 31,
   "metadata": {},
   "outputs": [
    {
     "data": {
      "text/html": [
       "<div>\n",
       "<style scoped>\n",
       "    .dataframe tbody tr th:only-of-type {\n",
       "        vertical-align: middle;\n",
       "    }\n",
       "\n",
       "    .dataframe tbody tr th {\n",
       "        vertical-align: top;\n",
       "    }\n",
       "\n",
       "    .dataframe thead th {\n",
       "        text-align: right;\n",
       "    }\n",
       "</style>\n",
       "<table border=\"1\" class=\"dataframe\">\n",
       "  <thead>\n",
       "    <tr style=\"text-align: right;\">\n",
       "      <th></th>\n",
       "      <th>Salvage</th>\n",
       "      <th>Result</th>\n",
       "      <th>BF_BA</th>\n",
       "      <th>OHost_BA</th>\n",
       "      <th>BF_Stock</th>\n",
       "      <th>OHost_Stock</th>\n",
       "      <th>NonHost_Stock</th>\n",
       "      <th>BF_QMD</th>\n",
       "      <th>ELEV</th>\n",
       "      <th>SLOPE</th>\n",
       "      <th>ASPECT</th>\n",
       "      <th>LAT</th>\n",
       "      <th>SiteInd</th>\n",
       "      <th>diff</th>\n",
       "    </tr>\n",
       "    <tr>\n",
       "      <th>Stand_ID</th>\n",
       "      <th></th>\n",
       "      <th></th>\n",
       "      <th></th>\n",
       "      <th></th>\n",
       "      <th></th>\n",
       "      <th></th>\n",
       "      <th></th>\n",
       "      <th></th>\n",
       "      <th></th>\n",
       "      <th></th>\n",
       "      <th></th>\n",
       "      <th></th>\n",
       "      <th></th>\n",
       "      <th></th>\n",
       "    </tr>\n",
       "  </thead>\n",
       "  <tbody>\n",
       "    <tr>\n",
       "      <th>0023200606030102900318</th>\n",
       "      <td>True</td>\n",
       "      <td>-739.253578</td>\n",
       "      <td>0.469044</td>\n",
       "      <td>2.327331</td>\n",
       "      <td>14.4849</td>\n",
       "      <td>1.529948</td>\n",
       "      <td>36.1694</td>\n",
       "      <td>2.318405</td>\n",
       "      <td>270</td>\n",
       "      <td>0.0</td>\n",
       "      <td>0.0</td>\n",
       "      <td>45.142910</td>\n",
       "      <td>39.0</td>\n",
       "      <td>-28.504275</td>\n",
       "    </tr>\n",
       "    <tr>\n",
       "      <th>0023200606030102900318</th>\n",
       "      <td>False</td>\n",
       "      <td>-676.760218</td>\n",
       "      <td>0.469044</td>\n",
       "      <td>2.327331</td>\n",
       "      <td>14.4849</td>\n",
       "      <td>1.529948</td>\n",
       "      <td>36.1694</td>\n",
       "      <td>2.318405</td>\n",
       "      <td>270</td>\n",
       "      <td>0.0</td>\n",
       "      <td>0.0</td>\n",
       "      <td>45.142910</td>\n",
       "      <td>39.0</td>\n",
       "      <td>-28.504275</td>\n",
       "    </tr>\n",
       "    <tr>\n",
       "      <th>0023200606030102900413</th>\n",
       "      <td>True</td>\n",
       "      <td>-599.649522</td>\n",
       "      <td>0.155003</td>\n",
       "      <td>1.376862</td>\n",
       "      <td>4.5552</td>\n",
       "      <td>1.319530</td>\n",
       "      <td>22.2539</td>\n",
       "      <td>3.769615</td>\n",
       "      <td>80</td>\n",
       "      <td>0.0</td>\n",
       "      <td>0.0</td>\n",
       "      <td>44.718210</td>\n",
       "      <td>29.0</td>\n",
       "      <td>6.730508</td>\n",
       "    </tr>\n",
       "    <tr>\n",
       "      <th>0023200606030102900413</th>\n",
       "      <td>False</td>\n",
       "      <td>-590.077927</td>\n",
       "      <td>0.155003</td>\n",
       "      <td>1.376862</td>\n",
       "      <td>4.5552</td>\n",
       "      <td>1.319530</td>\n",
       "      <td>22.2539</td>\n",
       "      <td>3.769615</td>\n",
       "      <td>80</td>\n",
       "      <td>0.0</td>\n",
       "      <td>0.0</td>\n",
       "      <td>44.718210</td>\n",
       "      <td>29.0</td>\n",
       "      <td>6.730508</td>\n",
       "    </tr>\n",
       "    <tr>\n",
       "      <th>0023200606030102900430</th>\n",
       "      <td>True</td>\n",
       "      <td>-825.017032</td>\n",
       "      <td>0.230486</td>\n",
       "      <td>6.272918</td>\n",
       "      <td>9.5661</td>\n",
       "      <td>0.919297</td>\n",
       "      <td>21.6281</td>\n",
       "      <td>1.737404</td>\n",
       "      <td>230</td>\n",
       "      <td>15.0</td>\n",
       "      <td>293.0</td>\n",
       "      <td>45.104160</td>\n",
       "      <td>42.0</td>\n",
       "      <td>-41.538788</td>\n",
       "    </tr>\n",
       "    <tr>\n",
       "      <th>...</th>\n",
       "      <td>...</td>\n",
       "      <td>...</td>\n",
       "      <td>...</td>\n",
       "      <td>...</td>\n",
       "      <td>...</td>\n",
       "      <td>...</td>\n",
       "      <td>...</td>\n",
       "      <td>...</td>\n",
       "      <td>...</td>\n",
       "      <td>...</td>\n",
       "      <td>...</td>\n",
       "      <td>...</td>\n",
       "      <td>...</td>\n",
       "      <td>...</td>\n",
       "    </tr>\n",
       "    <tr>\n",
       "      <th>0050201508030202301439</th>\n",
       "      <td>False</td>\n",
       "      <td>-895.083598</td>\n",
       "      <td>5.191390</td>\n",
       "      <td>9.421676</td>\n",
       "      <td>8.1659</td>\n",
       "      <td>0.544783</td>\n",
       "      <td>49.2431</td>\n",
       "      <td>7.713017</td>\n",
       "      <td>1270</td>\n",
       "      <td>18.0</td>\n",
       "      <td>277.0</td>\n",
       "      <td>44.362463</td>\n",
       "      <td>53.0</td>\n",
       "      <td>29.218937</td>\n",
       "    </tr>\n",
       "    <tr>\n",
       "      <th>0050201508030300100325</th>\n",
       "      <td>True</td>\n",
       "      <td>-319.768621</td>\n",
       "      <td>9.677469</td>\n",
       "      <td>11.236276</td>\n",
       "      <td>70.1662</td>\n",
       "      <td>1.055645</td>\n",
       "      <td>24.9683</td>\n",
       "      <td>5.034708</td>\n",
       "      <td>2690</td>\n",
       "      <td>17.0</td>\n",
       "      <td>330.0</td>\n",
       "      <td>44.015020</td>\n",
       "      <td>26.0</td>\n",
       "      <td>48.912996</td>\n",
       "    </tr>\n",
       "    <tr>\n",
       "      <th>0050201508030300100325</th>\n",
       "      <td>False</td>\n",
       "      <td>-272.830022</td>\n",
       "      <td>9.677469</td>\n",
       "      <td>11.236276</td>\n",
       "      <td>70.1662</td>\n",
       "      <td>1.055645</td>\n",
       "      <td>24.9683</td>\n",
       "      <td>5.034708</td>\n",
       "      <td>2690</td>\n",
       "      <td>17.0</td>\n",
       "      <td>330.0</td>\n",
       "      <td>44.015020</td>\n",
       "      <td>26.0</td>\n",
       "      <td>48.912996</td>\n",
       "    </tr>\n",
       "    <tr>\n",
       "      <th>0050201508030302503322</th>\n",
       "      <td>True</td>\n",
       "      <td>-780.931815</td>\n",
       "      <td>2.791957</td>\n",
       "      <td>16.187636</td>\n",
       "      <td>9.3993</td>\n",
       "      <td>2.240626</td>\n",
       "      <td>76.3079</td>\n",
       "      <td>5.487472</td>\n",
       "      <td>2220</td>\n",
       "      <td>8.0</td>\n",
       "      <td>267.5</td>\n",
       "      <td>42.970374</td>\n",
       "      <td>50.0</td>\n",
       "      <td>46.811207</td>\n",
       "    </tr>\n",
       "    <tr>\n",
       "      <th>0050201508030302503322</th>\n",
       "      <td>False</td>\n",
       "      <td>-681.480403</td>\n",
       "      <td>2.791957</td>\n",
       "      <td>16.187636</td>\n",
       "      <td>9.3993</td>\n",
       "      <td>2.240626</td>\n",
       "      <td>76.3079</td>\n",
       "      <td>5.487472</td>\n",
       "      <td>2220</td>\n",
       "      <td>8.0</td>\n",
       "      <td>267.5</td>\n",
       "      <td>42.970374</td>\n",
       "      <td>50.0</td>\n",
       "      <td>46.811207</td>\n",
       "    </tr>\n",
       "  </tbody>\n",
       "</table>\n",
       "<p>1972 rows × 14 columns</p>\n",
       "</div>"
      ],
      "text/plain": [
       "                        Salvage      Result     BF_BA   OHost_BA  BF_Stock  \\\n",
       "Stand_ID                                                                     \n",
       "0023200606030102900318     True -739.253578  0.469044   2.327331   14.4849   \n",
       "0023200606030102900318    False -676.760218  0.469044   2.327331   14.4849   \n",
       "0023200606030102900413     True -599.649522  0.155003   1.376862    4.5552   \n",
       "0023200606030102900413    False -590.077927  0.155003   1.376862    4.5552   \n",
       "0023200606030102900430     True -825.017032  0.230486   6.272918    9.5661   \n",
       "...                         ...         ...       ...        ...       ...   \n",
       "0050201508030202301439    False -895.083598  5.191390   9.421676    8.1659   \n",
       "0050201508030300100325     True -319.768621  9.677469  11.236276   70.1662   \n",
       "0050201508030300100325    False -272.830022  9.677469  11.236276   70.1662   \n",
       "0050201508030302503322     True -780.931815  2.791957  16.187636    9.3993   \n",
       "0050201508030302503322    False -681.480403  2.791957  16.187636    9.3993   \n",
       "\n",
       "                        OHost_Stock  NonHost_Stock    BF_QMD  ELEV  SLOPE  \\\n",
       "Stand_ID                                                                    \n",
       "0023200606030102900318     1.529948        36.1694  2.318405   270    0.0   \n",
       "0023200606030102900318     1.529948        36.1694  2.318405   270    0.0   \n",
       "0023200606030102900413     1.319530        22.2539  3.769615    80    0.0   \n",
       "0023200606030102900413     1.319530        22.2539  3.769615    80    0.0   \n",
       "0023200606030102900430     0.919297        21.6281  1.737404   230   15.0   \n",
       "...                             ...            ...       ...   ...    ...   \n",
       "0050201508030202301439     0.544783        49.2431  7.713017  1270   18.0   \n",
       "0050201508030300100325     1.055645        24.9683  5.034708  2690   17.0   \n",
       "0050201508030300100325     1.055645        24.9683  5.034708  2690   17.0   \n",
       "0050201508030302503322     2.240626        76.3079  5.487472  2220    8.0   \n",
       "0050201508030302503322     2.240626        76.3079  5.487472  2220    8.0   \n",
       "\n",
       "                        ASPECT        LAT  SiteInd       diff  \n",
       "Stand_ID                                                       \n",
       "0023200606030102900318     0.0  45.142910     39.0 -28.504275  \n",
       "0023200606030102900318     0.0  45.142910     39.0 -28.504275  \n",
       "0023200606030102900413     0.0  44.718210     29.0   6.730508  \n",
       "0023200606030102900413     0.0  44.718210     29.0   6.730508  \n",
       "0023200606030102900430   293.0  45.104160     42.0 -41.538788  \n",
       "...                        ...        ...      ...        ...  \n",
       "0050201508030202301439   277.0  44.362463     53.0  29.218937  \n",
       "0050201508030300100325   330.0  44.015020     26.0  48.912996  \n",
       "0050201508030300100325   330.0  44.015020     26.0  48.912996  \n",
       "0050201508030302503322   267.5  42.970374     50.0  46.811207  \n",
       "0050201508030302503322   267.5  42.970374     50.0  46.811207  \n",
       "\n",
       "[1972 rows x 14 columns]"
      ]
     },
     "execution_count": 31,
     "metadata": {},
     "output_type": "execute_result"
    }
   ],
   "source": [
    "assess_df"
   ]
  },
  {
   "cell_type": "markdown",
   "metadata": {},
   "source": [
    "## SKOPE Rules"
   ]
  },
  {
   "cell_type": "code",
   "execution_count": 85,
   "metadata": {},
   "outputs": [],
   "source": [
    "from imodels import SkopeRulesClassifier\n",
    "from imodels import BayesianRuleListClassifier\n",
    "from sklearn.metrics import accuracy_score\n",
    "\n",
    "import matplotlib.pyplot as plt"
   ]
  },
  {
   "cell_type": "markdown",
   "metadata": {},
   "source": [
    "### Training"
   ]
  },
  {
   "cell_type": "code",
   "execution_count": 86,
   "metadata": {},
   "outputs": [],
   "source": [
    "try:\n",
    "    X_train = X_train.drop(['diff'], axis=1)\n",
    "    X_test = X_test.drop(['diff'], axis=1)\n",
    "except KeyError:\n",
    "    pass"
   ]
  },
  {
   "cell_type": "code",
   "execution_count": 87,
   "metadata": {},
   "outputs": [
    {
     "data": {
      "text/plain": [
       "SkopeRulesClassifier(max_depth_duplication=1000, n_estimators=90,\n",
       "                     precision_min=0.6)"
      ]
     },
     "execution_count": 87,
     "metadata": {},
     "output_type": "execute_result"
    }
   ],
   "source": [
    "clf = SkopeRulesClassifier(\n",
    "    max_depth_duplication=1000,\n",
    "    n_estimators=90,\n",
    "    precision_min=0.6,\n",
    "    recall_min=0.01\n",
    ")\n",
    "clf.fit(X_train, y_train.to_numpy().ravel())"
   ]
  },
  {
   "cell_type": "code",
   "execution_count": 92,
   "metadata": {},
   "outputs": [
    {
     "data": {
      "text/plain": [
       "0.7591370558375634"
      ]
     },
     "execution_count": 92,
     "metadata": {},
     "output_type": "execute_result"
    }
   ],
   "source": [
    "y_train_pred = clf.predict_top_rules(X_train, 7)\n",
    "accuracy_score(y_train, y_train_pred)"
   ]
  },
  {
   "cell_type": "code",
   "execution_count": 93,
   "metadata": {},
   "outputs": [
    {
     "data": {
      "text/plain": [
       "0.716024340770791"
      ]
     },
     "execution_count": 93,
     "metadata": {},
     "output_type": "execute_result"
    }
   ],
   "source": [
    "y_pred = clf.predict_top_rules(X_test, 7)\n",
    "accuracy_score(y_test, y_pred)"
   ]
  },
  {
   "cell_type": "markdown",
   "metadata": {},
   "source": [
    "### Assessing Rules"
   ]
  },
  {
   "cell_type": "code",
   "execution_count": 94,
   "metadata": {},
   "outputs": [
    {
     "data": {
      "image/png": "[encoded data removed]",
      "text/plain": [
       "<Figure size 432x288 with 1 Axes>"
      ]
     },
     "metadata": {
      "needs_background": "light"
     },
     "output_type": "display_data"
    }
   ],
   "source": [
    "def show_rules():\n",
    "    \"\"\" \n",
    "    plot rules over time\n",
    "    \"\"\"\n",
    "    preds = [accuracy_score(y_train, clf.predict_top_rules(X_train, i)) for i in range(200)]\n",
    "    plt.plot([i for i in range(len(preds))],  preds)\n",
    "\n",
    "show_rules()"
   ]
  },
  {
   "cell_type": "code",
   "execution_count": 95,
   "metadata": {},
   "outputs": [
    {
     "name": "stdout",
     "output_type": "stream",
     "text": [
      "('feature_1 > 5.643717288970947 and feature_10 <= 55.25 and feature_5 > 4.914752244949341', (0.864963503649635, 0.5107758620689655, 1))\n",
      "('feature_1 <= 12.523965835571289 and feature_1 > 5.228776931762695 and feature_5 > 4.68182373046875', (0.7948717948717948, 0.40700218818380746, 1))\n",
      "('feature_1 > 5.131723165512085 and feature_10 > 38.5 and feature_5 > 4.868618965148926', (0.7767857142857143, 0.3858093126385809, 1))\n",
      "('feature_1 > 10.21280574798584 and feature_10 <= 48.5', (0.9013157894736842, 0.29718004338394793, 1))\n",
      "('feature_1 <= 10.206943035125732 and feature_1 > 5.228776931762695 and feature_10 <= 45.75', (0.7547169811320755, 0.25862068965517243, 1))\n"
     ]
    }
   ],
   "source": [
    "for rule in clf.rules_[:5]:\n",
    "    print(rule)"
   ]
  },
  {
   "cell_type": "code",
   "execution_count": 96,
   "metadata": {},
   "outputs": [
    {
     "name": "stdout",
     "output_type": "stream",
     "text": [
      "RULES LEARNED: \n",
      "feature_1 is OHost_BA\n",
      "feature_5 is BF_QMD\n",
      "feature_10 is SiteInd\n"
     ]
    }
   ],
   "source": [
    "def print_columns(X, cols):\n",
    "    print(\"RULES LEARNED: \")\n",
    "    for col in cols:\n",
    "        print(\"feature_{} is {}\".format(col, X_train.columns[col]))\n",
    "        \n",
    "        \n",
    "# print_columns(X_test, [2, 3, 4, 5, 6, 9])\n",
    "print_columns(X_test, [1, 5, 10])"
   ]
  },
  {
   "cell_type": "markdown",
   "metadata": {},
   "source": [
    "### Counts for Classess in Classification\n",
    "This is here to make sure no problems occur learning to predict only salvaging"
   ]
  },
  {
   "cell_type": "code",
   "execution_count": 97,
   "metadata": {},
   "outputs": [
    {
     "data": {
      "text/plain": [
       "(array([0, 1]), array([340, 646]))"
      ]
     },
     "execution_count": 97,
     "metadata": {},
     "output_type": "execute_result"
    }
   ],
   "source": [
    "np.unique(y_pred, return_counts=True)"
   ]
  },
  {
   "cell_type": "code",
   "execution_count": 123,
   "metadata": {},
   "outputs": [
    {
     "data": {
      "text/plain": [
       "Give_Voucher\n",
       "1               0.580711\n",
       "0               0.419289\n",
       "dtype: float64"
      ]
     },
     "execution_count": 123,
     "metadata": {},
     "output_type": "execute_result"
    }
   ],
   "source": [
    "y_train.value_counts() / y_train.shape[0]"
   ]
  },
  {
   "cell_type": "code",
   "execution_count": 125,
   "metadata": {},
   "outputs": [
    {
     "data": {
      "text/plain": [
       "Give_Voucher\n",
       "1               0.549696\n",
       "0               0.450304\n",
       "dtype: float64"
      ]
     },
     "execution_count": 125,
     "metadata": {},
     "output_type": "execute_result"
    }
   ],
   "source": [
    "y_test.value_counts() / y_test.shape[0]"
   ]
  },
  {
   "cell_type": "markdown",
   "metadata": {},
   "source": [
    "### (4) Skope Rules (assess savings)"
   ]
  },
  {
   "cell_type": "code",
   "execution_count": 51,
   "metadata": {},
   "outputs": [],
   "source": [
    "from sklearn.metrics import precision_score, recall_score"
   ]
  },
  {
   "cell_type": "code",
   "execution_count": 98,
   "metadata": {},
   "outputs": [],
   "source": [
    "def assess_savings(X_test, y_pred):\n",
    "    \"\"\"\n",
    "    Append predicitons and sum slavage/no salvage results \n",
    "    \"\"\"\n",
    "    # add predictions\n",
    "    test_df = X_test.copy()\n",
    "    test_df['preds'] = y_pred\n",
    "\n",
    "    # merge with management \n",
    "    temp = pd.merge(assess_df, test_df, on=\"Stand_ID\")\n",
    "\n",
    "    salvage_sum = temp[(temp['Salvage'] == True) & (temp['preds'] == 1)].Result.sum()\n",
    "    no_salvage_sum = temp[(temp['Salvage'] == False) & (temp['preds'] == 0)].Result.sum()\n",
    "\n",
    "    return salvage_sum + no_salvage_sum"
   ]
  },
  {
   "cell_type": "code",
   "execution_count": 99,
   "metadata": {},
   "outputs": [
    {
     "data": {
      "text/plain": [
       "-64.51449749087"
      ]
     },
     "execution_count": 99,
     "metadata": {},
     "output_type": "execute_result"
    }
   ],
   "source": [
    "skope_rules_score = assess_savings(X_test, y_pred)\n",
    "skope_rules_score / IP"
   ]
  },
  {
   "cell_type": "code",
   "execution_count": 105,
   "metadata": {},
   "outputs": [
    {
     "data": {
      "text/plain": [
       "0.7027863777089783"
      ]
     },
     "execution_count": 105,
     "metadata": {},
     "output_type": "execute_result"
    }
   ],
   "source": [
    "precision_score(y_test, y_pred)"
   ]
  },
  {
   "cell_type": "code",
   "execution_count": 106,
   "metadata": {},
   "outputs": [
    {
     "data": {
      "text/plain": [
       "0.8376383763837638"
      ]
     },
     "execution_count": 106,
     "metadata": {},
     "output_type": "execute_result"
    }
   ],
   "source": [
    "recall_score(y_test, y_pred)"
   ]
  },
  {
   "cell_type": "markdown",
   "metadata": {},
   "source": [
    "---"
   ]
  },
  {
   "cell_type": "markdown",
   "metadata": {},
   "source": [
    "# Benchmarks\n",
    "### Decistion Tree"
   ]
  },
  {
   "cell_type": "code",
   "execution_count": 107,
   "metadata": {},
   "outputs": [
    {
     "data": {
      "text/plain": [
       "0.7129817444219066"
      ]
     },
     "execution_count": 107,
     "metadata": {},
     "output_type": "execute_result"
    }
   ],
   "source": [
    "from sklearn.tree import DecisionTreeClassifier\n",
    "from sklearn.tree import _tree\n",
    "\n",
    "clf = DecisionTreeClassifier()\n",
    "clf.fit(X_train, y_train)\n",
    "y_pred = clf.predict(X_test)\n",
    "accuracy_score(y_test, y_pred)"
   ]
  },
  {
   "cell_type": "code",
   "execution_count": 113,
   "metadata": {},
   "outputs": [
    {
     "name": "stdout",
     "output_type": "stream",
     "text": [
      "PRECISION: 0.7292035398230089 \n",
      "RECALL: 0.7601476014760148\n"
     ]
    }
   ],
   "source": [
    "print(\"PRECISION: {} \\nRECALL: {}\".format(precision_score(y_test, y_pred),\n",
    "                                           recall_score(y_test, y_pred)))"
   ]
  },
  {
   "cell_type": "markdown",
   "metadata": {},
   "source": [
    "### Cost Sensitive Decision Tree"
   ]
  },
  {
   "cell_type": "code",
   "execution_count": 115,
   "metadata": {},
   "outputs": [
    {
     "data": {
      "text/plain": [
       "0.6947261663286004"
      ]
     },
     "execution_count": 115,
     "metadata": {},
     "output_type": "execute_result"
    }
   ],
   "source": [
    "clf = DecisionTreeClassifier(class_weight=)\n",
    "clf.fit(X_train, y_train)\n",
    "y_pred = clf.predict(X_test)\n",
    "accuracy_score(y_test, y_pred)"
   ]
  },
  {
   "cell_type": "code",
   "execution_count": 116,
   "metadata": {},
   "outputs": [
    {
     "name": "stdout",
     "output_type": "stream",
     "text": [
      "PRECISION: 0.7045840407470289 \n",
      "RECALL: 0.7656826568265682\n"
     ]
    }
   ],
   "source": [
    "print(\"PRECISION: {} \\nRECALL: {}\".format(precision_score(y_test, y_pred),\n",
    "                                           recall_score(y_test, y_pred)))"
   ]
  },
  {
   "cell_type": "code",
   "execution_count": null,
   "metadata": {},
   "outputs": [],
   "source": []
  }
 ],
 "metadata": {
  "kernelspec": {
   "display_name": "Python 3",
   "language": "python",
   "name": "python3"
  },
  "language_info": {
   "codemirror_mode": {
    "name": "ipython",
    "version": 3
   },
   "file_extension": ".py",
   "mimetype": "text/x-python",
   "name": "python",
   "nbconvert_exporter": "python",
   "pygments_lexer": "ipython3",
   "version": "3.7.9"
  }
 },
 "nbformat": 4,
 "nbformat_minor": 4
}

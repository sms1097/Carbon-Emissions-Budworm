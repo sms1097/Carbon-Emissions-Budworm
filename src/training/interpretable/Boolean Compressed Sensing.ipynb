{
 "cells": [
  {
   "cell_type": "markdown",
   "metadata": {},
   "source": [
    "## Boolean Compressed Sensing "
   ]
  },
  {
   "cell_type": "markdown",
   "metadata": {},
   "source": [
    "### Naive Split"
   ]
  },
  {
   "cell_type": "code",
   "execution_count": null,
   "metadata": {
    "jupyter": {
     "source_hidden": true
    }
   },
   "outputs": [],
   "source": [
    "def create_design_matrices(df, quantiles):\n",
    "    \"\"\"Create A_N and A_P\"\"\"\n",
    "    measurement = pd.DataFrame()\n",
    "    measurement['Salvage_Good'] = df['Salvage_Good']\n",
    "    labels = ['Q' + str(q) for q in range(1, quantiles+1)]\n",
    "    bins = []\n",
    "\n",
    "    for col in df:\n",
    "        if col == 'Result' or col == 'Salvage_Good':\n",
    "            continue\n",
    "\n",
    "        try:\n",
    "            measurement[col], b = pd.qcut(df[col], quantiles, labels=labels, retbins=True)\n",
    "            bins.append(b)\n",
    "        except ValueError:\n",
    "            labels = ['Q' + str(q) for q in range(1, quantiles-1)]\n",
    "            measurement[col] = pd.qcut(heavy_df[col], quantiles-2, labels=labels)\n",
    "            labels = ['Q' + str(q) for q in range(1, quantiles)]\n",
    "\n",
    "    measurement = pd.get_dummies(measurement, drop_first=False)\n",
    "    A_p = measurement[measurement['Salvage_Good'] == 1].drop('Salvage_Good', axis=1)\n",
    "    A_n = measurement[measurement['Salvage_Good'] != 1].drop('Salvage_Good', axis=1)\n",
    "\n",
    "\n",
    "    return A_p.to_numpy(), A_n.to_numpy(), measurement.to_numpy(), list(A_p.columns), bins"
   ]
  },
  {
   "cell_type": "code",
   "execution_count": null,
   "metadata": {
    "jupyter": {
     "source_hidden": true
    }
   },
   "outputs": [],
   "source": [
    "def create_test_matrix(df, features, bins):\n",
    "    temp = pd.DataFrame()\n",
    "    for i, col in enumerate(df):\n",
    "        temp[features[i]] = df[col].apply(\n",
    "            lambda x: 1 if x >= bins[i][1] else 0\n",
    "        )\n",
    "\n",
    "    return temp"
   ]
  },
  {
   "cell_type": "code",
   "execution_count": null,
   "metadata": {
    "jupyter": {
     "source_hidden": true
    }
   },
   "outputs": [],
   "source": [
    "A_p, A_n, measurement, features, bins = create_design_matrices(train, 2)"
   ]
  },
  {
   "cell_type": "code",
   "execution_count": null,
   "metadata": {
    "jupyter": {
     "source_hidden": true
    }
   },
   "outputs": [],
   "source": [
    "test_design = create_test_matrix(X_test, features, bins)"
   ]
  },
  {
   "cell_type": "markdown",
   "metadata": {},
   "source": [
    "### Rule Set using Rule Fit "
   ]
  },
  {
   "cell_type": "code",
   "execution_count": null,
   "metadata": {},
   "outputs": [],
   "source": []
  },
  {
   "cell_type": "markdown",
   "metadata": {},
   "source": [
    "### Learn Sparse Rules"
   ]
  },
  {
   "cell_type": "code",
   "execution_count": null,
   "metadata": {},
   "outputs": [],
   "source": [
    "import gurobipy as gp\n",
    "from gurobipy import GRB"
   ]
  },
  {
   "cell_type": "code",
   "execution_count": null,
   "metadata": {},
   "outputs": [],
   "source": [
    "m = gp.Model(\"rule-extraciton\")"
   ]
  },
  {
   "cell_type": "code",
   "execution_count": null,
   "metadata": {},
   "outputs": [],
   "source": [
    "w = m.addMVar(shape=A_p.shape[1], vtype=GRB.BINARY, name=\"weights\")\n",
    "psi_p = m.addMVar(shape=A_p.shape[0], name=\"psi_p\")\n",
    "psi_n = m.addMVar(shape=A_n.shape[0], name=\"psi_n\")"
   ]
  },
  {
   "cell_type": "code",
   "execution_count": null,
   "metadata": {},
   "outputs": [],
   "source": [
    "m.addConstr(w <= 1.0)\n",
    "m.addConstr(w >= 0.0)\n",
    "m.addConstr(psi_p <= 1)\n",
    "m.addConstr(psi_p >= 0)\n",
    "m.addConstr(psi_n >= 0)\n",
    "m.addConstr(A_p @ w + psi_p >= 1.0)\n",
    "m.addConstr(A_n @ w == psi_n)\n",
    "m.update()"
   ]
  },
  {
   "cell_type": "code",
   "execution_count": null,
   "metadata": {},
   "outputs": [],
   "source": [
    "m.setObjective(sum(w) + 1000 * (sum(psi_p) + sum(psi_n)), GRB.MINIMIZE)"
   ]
  },
  {
   "cell_type": "code",
   "execution_count": null,
   "metadata": {},
   "outputs": [],
   "source": [
    "m.optimize()"
   ]
  },
  {
   "cell_type": "code",
   "execution_count": null,
   "metadata": {},
   "outputs": [],
   "source": [
    "m.getVarByName(\"weights[0]\")\n",
    "for i in range(measurement.shape[1]):\n",
    "    print(m.getVarByName(\"weights[\" + str(i) + \"]\"))"
   ]
  },
  {
   "cell_type": "markdown",
   "metadata": {},
   "source": [
    "## Evaluate"
   ]
  },
  {
   "cell_type": "markdown",
   "metadata": {},
   "source": [
    "### Raw Accuracy"
   ]
  },
  {
   "cell_type": "code",
   "execution_count": null,
   "metadata": {},
   "outputs": [],
   "source": [
    "features[18]"
   ]
  },
  {
   "cell_type": "code",
   "execution_count": null,
   "metadata": {},
   "outputs": [],
   "source": [
    "features[19]"
   ]
  },
  {
   "cell_type": "markdown",
   "metadata": {},
   "source": [
    "## Analysis "
   ]
  },
  {
   "cell_type": "code",
   "execution_count": null,
   "metadata": {},
   "outputs": [],
   "source": []
  }
 ],
 "metadata": {
  "kernelspec": {
   "display_name": "Python 3",
   "language": "python",
   "name": "python3"
  },
  "language_info": {
   "codemirror_mode": {
    "name": "ipython",
    "version": 3
   },
   "file_extension": ".py",
   "mimetype": "text/x-python",
   "name": "python",
   "nbconvert_exporter": "python",
   "pygments_lexer": "ipython3",
   "version": "3.7.9"
  }
 },
 "nbformat": 4,
 "nbformat_minor": 4
}

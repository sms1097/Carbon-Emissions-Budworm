{
 "cells": [
  {
   "cell_type": "markdown",
   "metadata": {},
   "source": [
    "# A Snapshot of Findings\n"
   ]
  },
  {
   "cell_type": "code",
   "execution_count": 1,
   "metadata": {},
   "outputs": [],
   "source": [
    "import pandas as pd\n",
    "import numpy as np\n",
    "\n",
    "from src.classifier import Classifier\n",
    "\n",
    "from sklearn.metrics import accuracy_score, precision_score, recall_score"
   ]
  },
  {
   "cell_type": "code",
   "execution_count": 2,
   "metadata": {},
   "outputs": [],
   "source": [
    "data = pd.read_csv('data/Classifier_Inputs.csv')\n",
    "data = data.set_index('StandID')"
   ]
  },
  {
   "cell_type": "code",
   "execution_count": 3,
   "metadata": {},
   "outputs": [],
   "source": [
    "model = Classifier('DR1')"
   ]
  },
  {
   "cell_type": "code",
   "execution_count": 4,
   "metadata": {},
   "outputs": [],
   "source": [
    "heavy = model.predict(data, 'Heavy')\n",
    "light = model.predict(data, 'Light')\n",
    "high_grade = model.predict(data, 'HighGrade')\n",
    "comm_ind = model.predict(data, 'Comm-Ind')\n",
    "no_mgmt = model.predict(data, 'NoMgmt')\n",
    "moderate = model.predict(data, 'Moderate')"
   ]
  },
  {
   "cell_type": "code",
   "execution_count": 5,
   "metadata": {},
   "outputs": [],
   "source": [
    "def report(mng):\n",
    "    strict = min(mng['salvage_strategy'], mng['no_salvage_strategy']) - mng['optimal_strategy']\n",
    "    model = mng['model_strategy'] - mng['optimal_strategy']\n",
    "    \n",
    "    print('-' * 30)\n",
    "    print(\"Accuracy: {:.2f}\".format(accuracy_score(mng['test'], mng['preds'])))\n",
    "    print(\"Precision: {:.2f}\".format(precision_score(mng['test'], mng['preds'])))\n",
    "    print(\"Recall: {:.2f}\".format(recall_score(mng['test'], mng['preds'])))\n",
    "    print('-' * 30)\n",
    "    print(\"Achieved Emissions: {:.2f}\".format(mng['model_strategy']))\n",
    "    print(\"Optimal Emissions: {:.2f} (model {:.2f}x better than strict strategy)\".format(mng['optimal_strategy'],\n",
    "                                                                                         strict / model))\n",
    "    print(\"Salvage Emissions: {:.2f}\".format(mng['salvage_strategy']))\n",
    "    print(\"No Salvage Emissions: {:.2f}\".format(mng['no_salvage_strategy']))\n",
    "    print('-' * 30)"
   ]
  },
  {
   "cell_type": "code",
   "execution_count": 6,
   "metadata": {},
   "outputs": [
    {
     "name": "stdout",
     "output_type": "stream",
     "text": [
      "------------------------------\n",
      "Accuracy: 0.80\n",
      "Precision: 0.50\n",
      "Recall: 0.10\n",
      "------------------------------\n",
      "Achieved Emissions: -529.70\n",
      "Optimal Emissions: -532.43 (model 0.84x better than strict strategy)\n",
      "Salvage Emissions: -530.13\n",
      "No Salvage Emissions: -489.87\n",
      "------------------------------\n"
     ]
    }
   ],
   "source": [
    "report(heavy)"
   ]
  },
  {
   "cell_type": "code",
   "execution_count": 7,
   "metadata": {},
   "outputs": [
    {
     "name": "stdout",
     "output_type": "stream",
     "text": [
      "------------------------------\n",
      "Accuracy: 0.77\n",
      "Precision: 0.69\n",
      "Recall: 0.41\n",
      "------------------------------\n",
      "Achieved Emissions: -580.01\n",
      "Optimal Emissions: -583.40 (model 1.48x better than strict strategy)\n",
      "Salvage Emissions: -578.37\n",
      "No Salvage Emissions: -551.79\n",
      "------------------------------\n"
     ]
    }
   ],
   "source": [
    "report(light)"
   ]
  },
  {
   "cell_type": "code",
   "execution_count": 8,
   "metadata": {},
   "outputs": [
    {
     "name": "stdout",
     "output_type": "stream",
     "text": [
      "------------------------------\n",
      "Accuracy: 0.88\n",
      "Precision: 0.11\n",
      "Recall: 0.04\n",
      "------------------------------\n",
      "Achieved Emissions: -586.06\n",
      "Optimal Emissions: -588.24 (model 0.62x better than strict strategy)\n",
      "Salvage Emissions: -586.88\n",
      "No Salvage Emissions: -544.41\n",
      "------------------------------\n"
     ]
    }
   ],
   "source": [
    "report(high_grade)"
   ]
  },
  {
   "cell_type": "code",
   "execution_count": 9,
   "metadata": {},
   "outputs": [
    {
     "name": "stdout",
     "output_type": "stream",
     "text": [
      "------------------------------\n",
      "Accuracy: 0.89\n",
      "Precision: 1.00\n",
      "Recall: 0.01\n",
      "------------------------------\n",
      "Achieved Emissions: -532.81\n",
      "Optimal Emissions: -534.28 (model 1.01x better than strict strategy)\n",
      "Salvage Emissions: -532.81\n",
      "No Salvage Emissions: -484.09\n",
      "------------------------------\n"
     ]
    }
   ],
   "source": [
    "report(comm_ind)"
   ]
  },
  {
   "cell_type": "code",
   "execution_count": 10,
   "metadata": {},
   "outputs": [
    {
     "name": "stdout",
     "output_type": "stream",
     "text": [
      "------------------------------\n",
      "Accuracy: 0.80\n",
      "Precision: 0.71\n",
      "Recall: 0.47\n",
      "------------------------------\n",
      "Achieved Emissions: -610.20\n",
      "Optimal Emissions: -613.80 (model 1.35x better than strict strategy)\n",
      "Salvage Emissions: -608.95\n",
      "No Salvage Emissions: -573.45\n",
      "------------------------------\n"
     ]
    }
   ],
   "source": [
    "report(no_mgmt)"
   ]
  },
  {
   "cell_type": "code",
   "execution_count": 11,
   "metadata": {},
   "outputs": [
    {
     "name": "stdout",
     "output_type": "stream",
     "text": [
      "------------------------------\n",
      "Accuracy: 0.77\n",
      "Precision: 0.59\n",
      "Recall: 0.27\n",
      "------------------------------\n",
      "Achieved Emissions: -551.37\n",
      "Optimal Emissions: -554.75 (model 0.99x better than strict strategy)\n",
      "Salvage Emissions: -551.41\n",
      "No Salvage Emissions: -524.07\n",
      "------------------------------\n"
     ]
    }
   ],
   "source": [
    "report(moderate)"
   ]
  },
  {
   "cell_type": "code",
   "execution_count": null,
   "metadata": {},
   "outputs": [],
   "source": []
  }
 ],
 "metadata": {
  "kernelspec": {
   "display_name": "Python 3",
   "language": "python",
   "name": "python3"
  },
  "language_info": {
   "codemirror_mode": {
    "name": "ipython",
    "version": 3
   },
   "file_extension": ".py",
   "mimetype": "text/x-python",
   "name": "python",
   "nbconvert_exporter": "python",
   "pygments_lexer": "ipython3",
   "version": "3.7.9"
  }
 },
 "nbformat": 4,
 "nbformat_minor": 4
}

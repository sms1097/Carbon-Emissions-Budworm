{
 "metadata": {
  "language_info": {
   "codemirror_mode": {
    "name": "ipython",
    "version": 3
   },
   "file_extension": ".py",
   "mimetype": "text/x-python",
   "name": "python",
   "nbconvert_exporter": "python",
   "pygments_lexer": "ipython3",
   "version": "3.7.9-final"
  },
  "orig_nbformat": 2,
  "kernelspec": {
   "name": "python3",
   "display_name": "Python 3",
   "language": "python"
  }
 },
 "nbformat": 4,
 "nbformat_minor": 2,
 "cells": [
  {
   "source": [
    "# A Snapshot of Findings\n"
   ],
   "cell_type": "markdown",
   "metadata": {}
  },
  {
   "cell_type": "code",
   "execution_count": 39,
   "metadata": {},
   "outputs": [],
   "source": [
    "import pandas as pd\n",
    "import numpy as np\n",
    "\n",
    "from src.classifier import Classifier\n",
    "\n",
    "from sklearn.metrics import accuracy_score, precision_score, recall_score"
   ]
  },
  {
   "cell_type": "code",
   "execution_count": 2,
   "metadata": {},
   "outputs": [],
   "source": [
    "data = pd.read_csv('data/Classifier_Inputs.csv')"
   ]
  },
  {
   "cell_type": "code",
   "execution_count": 3,
   "metadata": {},
   "outputs": [],
   "source": [
    "model = Classifier()"
   ]
  },
  {
   "cell_type": "code",
   "execution_count": 4,
   "metadata": {},
   "outputs": [],
   "source": [
    "heavy, heavy_y = model.predict(data, 'Heavy')\n",
    "light, light_y = model.predict(data, 'Light')\n",
    "high_grade, high_grade_y = model.predict(data, 'HighGrade')\n",
    "comm_ind, comm_ind_y = model.predict(data, 'Comm-Ind')\n",
    "no_mgmt, no_mgmt_y = model.predict(data, 'NoMgmt')\n",
    "moderate, moderate_y = model.predict(data, 'Moderate')"
   ]
  },
  {
   "cell_type": "code",
   "execution_count": 20,
   "metadata": {},
   "outputs": [
    {
     "output_type": "execute_result",
     "data": {
      "text/plain": [
       "(array([False,  True]), array([583, 403]))"
      ]
     },
     "metadata": {},
     "execution_count": 20
    }
   ],
   "source": [
    "np.unique(heavy_y, return_counts=True)"
   ]
  },
  {
   "cell_type": "code",
   "execution_count": 43,
   "metadata": {},
   "outputs": [],
   "source": [
    "def report(y, preds):\n",
    "    print(\"Accuracy: {}\".format(accuracy_score(y, preds)))\n",
    "    print(\"Precision: {}\".format(precision_score(y, preds)))\n",
    "    print(\"Recall: {}\".format(recall_score(y, preds)))\n",
    "    counts = np.unique(preds, return_counts=True)[1]\n",
    "    print('False: {:.2f}, True: {:.2f}'.format(counts[0]/np.sum(counts),\n",
    "                                       counts[1]/np.sum(counts)))"
   ]
  },
  {
   "cell_type": "code",
   "execution_count": 44,
   "metadata": {},
   "outputs": [
    {
     "output_type": "stream",
     "name": "stdout",
     "text": [
      "Accuracy: 0.6937119675456389\nPrecision: 0.5880893300248139\nRecall: 0.6353887399463807\nFalse: 0.59, True: 0.41\n"
     ]
    }
   ],
   "source": [
    "report(heavy, heavy_y)"
   ]
  },
  {
   "cell_type": "code",
   "execution_count": 45,
   "metadata": {},
   "outputs": [
    {
     "output_type": "stream",
     "name": "stdout",
     "text": [
      "Accuracy: 0.7586206896551724\nPrecision: 0.8494983277591973\nRecall: 0.774390243902439\nFalse: 0.39, True: 0.61\n"
     ]
    }
   ],
   "source": [
    "report(light, light_y)"
   ]
  },
  {
   "cell_type": "code",
   "execution_count": 46,
   "metadata": {},
   "outputs": [
    {
     "output_type": "stream",
     "name": "stdout",
     "text": [
      "Accuracy: 0.6734279918864098\nPrecision: 0.5658914728682171\nRecall: 0.5871313672922251\nFalse: 0.61, True: 0.39\n"
     ]
    }
   ],
   "source": [
    "report(high_grade, high_grade_y)"
   ]
  },
  {
   "cell_type": "code",
   "execution_count": 47,
   "metadata": {},
   "outputs": [
    {
     "output_type": "stream",
     "name": "stdout",
     "text": [
      "Accuracy: 0.7667342799188641\nPrecision: 0.2593984962406015\nRecall: 0.6764705882352942\nFalse: 0.73, True: 0.27\n"
     ]
    }
   ],
   "source": [
    "report(comm_ind, comm_ind_y)"
   ]
  },
  {
   "cell_type": "code",
   "execution_count": 48,
   "metadata": {},
   "outputs": [
    {
     "output_type": "stream",
     "name": "stdout",
     "text": [
      "Accuracy: 0.7900608519269777\nPrecision: 0.8876221498371335\nRecall: 0.7979502196193266\nFalse: 0.38, True: 0.62\n"
     ]
    }
   ],
   "source": [
    "report(no_mgmt, no_mgmt_y)"
   ]
  },
  {
   "cell_type": "code",
   "execution_count": 49,
   "metadata": {},
   "outputs": [
    {
     "output_type": "stream",
     "name": "stdout",
     "text": [
      "Accuracy: 0.7352941176470589\nPrecision: 0.7985347985347986\nRecall: 0.7427597955706985\nFalse: 0.45, True: 0.55\n"
     ]
    }
   ],
   "source": [
    "report(moderate, moderate_y)"
   ]
  },
  {
   "cell_type": "code",
   "execution_count": null,
   "metadata": {},
   "outputs": [],
   "source": []
  }
 ]
}
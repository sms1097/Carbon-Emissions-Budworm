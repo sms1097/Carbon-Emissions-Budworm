{
 "cells": [
  {
   "cell_type": "markdown",
   "metadata": {},
   "source": [
    "# A Snapshot of Findings\n"
   ]
  },
  {
   "cell_type": "code",
   "execution_count": 1,
   "metadata": {},
   "outputs": [],
   "source": [
    "import pandas as pd\n",
    "import numpy as np\n",
    "\n",
    "from src.classifier import Classifier\n",
    "\n",
    "from sklearn.metrics import accuracy_score, precision_score, recall_score"
   ]
  },
  {
   "cell_type": "code",
   "execution_count": 2,
   "metadata": {},
   "outputs": [],
   "source": [
    "data = pd.read_csv('data/Classifier_Inputs.csv')\n",
    "data = data.set_index('StandID')"
   ]
  },
  {
   "cell_type": "code",
   "execution_count": 3,
   "metadata": {},
   "outputs": [],
   "source": [
    "model = Classifier('DT', 'DR1')"
   ]
  },
  {
   "cell_type": "code",
   "execution_count": 4,
   "metadata": {},
   "outputs": [],
   "source": [
    "heavy = model.predict(data, 'Heavy')\n",
    "light = model.predict(data, 'Light')\n",
    "high_grade = model.predict(data, 'HighGrade')\n",
    "comm_ind = model.predict(data, 'Comm-Ind')\n",
    "no_mgmt = model.predict(data, 'NoMgmt')\n",
    "moderate = model.predict(data, 'Moderate')"
   ]
  },
  {
   "cell_type": "code",
   "execution_count": 5,
   "metadata": {},
   "outputs": [],
   "source": [
    "def report(mng):\n",
    "    strict = min(mng['salvage_strategy'], mng['no_salvage_strategy']) - mng['optimal_strategy']\n",
    "    model = mng['model_strategy'] - mng['optimal_strategy']\n",
    "    \n",
    "    print('-' * 30)\n",
    "    print(\"Accuracy: {:.2f}\".format(accuracy_score(mng['test'], mng['preds'])))\n",
    "    print(\"Precision: {:.2f}\".format(precision_score(mng['test'], mng['preds'])))\n",
    "    print(\"Recall: {:.2f}\".format(recall_score(mng['test'], mng['preds'])))\n",
    "    print('-' * 30)\n",
    "    print('Sean Metrics')\n",
    "    print(\"Achieved Emissions: {:.2f}\".format(mng['model_strategy']))\n",
    "    print(\"Optimal Emissions: {:.2f} (model {:.2f}x better than strict strategy)\".format(mng['optimal_strategy'],\n",
    "                                                                                         strict / model))\n",
    "    print(\"Salvage Emissions: {:.2f}\".format(mng['salvage_strategy']))\n",
    "    print(\"No Salvage Emissions: {:.2f}\".format(mng['no_salvage_strategy']))\n",
    "    print('-' * 30)\n",
    "    print('MAREK METRICS')\n",
    "    print('F: {:.2f}'.format(1 - (mng['model_strategy'] - mng['optimal_strategy']) / (mng['no_salvage_strategy'] - mng['optimal_strategy'])))\n",
    "    print('G {:2f}'.format((mng['no_salvage_strategy'] - mng['optimal_strategy']) / (mng['model_strategy'] - mng['optimal_strategy'])))"
   ]
  },
  {
   "cell_type": "code",
   "execution_count": 6,
   "metadata": {},
   "outputs": [
    {
     "output_type": "stream",
     "name": "stdout",
     "text": [
      "------------------------------\nAccuracy: 0.69\nPrecision: 0.75\nRecall: 0.01\n------------------------------\nSean Metrics\nAchieved Emissions: -457.76\nOptimal Emissions: -461.88 (model 1.01x better than strict strategy)\nSalvage Emissions: -457.71\nNo Salvage Emissions: -432.96\n------------------------------\nMAREK METRICS\nF: 0.86\nG 7.017119\n"
     ]
    }
   ],
   "source": [
    "report(heavy)"
   ]
  },
  {
   "cell_type": "code",
   "execution_count": 7,
   "metadata": {},
   "outputs": [
    {
     "output_type": "stream",
     "name": "stdout",
     "text": [
      "------------------------------\nAccuracy: 0.63\nPrecision: 0.84\nRecall: 0.22\n------------------------------\nSean Metrics\nAchieved Emissions: -508.03\nOptimal Emissions: -516.14 (model 1.36x better than strict strategy)\nSalvage Emissions: -505.13\nNo Salvage Emissions: -499.86\n------------------------------\nMAREK METRICS\nF: 0.50\nG 2.007139\n"
     ]
    }
   ],
   "source": [
    "report(light)"
   ]
  },
  {
   "cell_type": "code",
   "execution_count": 8,
   "metadata": {},
   "outputs": [
    {
     "output_type": "stream",
     "name": "stdout",
     "text": [
      "------------------------------\nAccuracy: 0.78\nPrecision: 0.86\nRecall: 0.08\n------------------------------\nSean Metrics\nAchieved Emissions: -515.45\nOptimal Emissions: -519.71 (model 1.12x better than strict strategy)\nSalvage Emissions: -514.94\nNo Salvage Emissions: -494.65\n------------------------------\nMAREK METRICS\nF: 0.83\nG 5.886704\n"
     ]
    }
   ],
   "source": [
    "report(high_grade)"
   ]
  },
  {
   "cell_type": "code",
   "execution_count": 9,
   "metadata": {},
   "outputs": [
    {
     "output_type": "stream",
     "name": "stdout",
     "text": [
      "------------------------------\nAccuracy: 0.81\nPrecision: 0.40\nRecall: 0.01\n------------------------------\nSean Metrics\nAchieved Emissions: -465.38\nOptimal Emissions: -467.83 (model 0.99x better than strict strategy)\nSalvage Emissions: -465.39\nNo Salvage Emissions: -431.35\n------------------------------\nMAREK METRICS\nF: 0.93\nG 14.855616\n"
     ]
    }
   ],
   "source": [
    "report(comm_ind)"
   ]
  },
  {
   "cell_type": "code",
   "execution_count": 10,
   "metadata": {},
   "outputs": [
    {
     "output_type": "stream",
     "name": "stdout",
     "text": [
      "------------------------------\nAccuracy: 0.58\nPrecision: 0.86\nRecall: 0.12\n------------------------------\nSean Metrics\nAchieved Emissions: -539.24\nOptimal Emissions: -549.08 (model 1.34x better than strict strategy)\nSalvage Emissions: -535.86\nNo Salvage Emissions: -531.23\n------------------------------\nMAREK METRICS\nF: 0.45\nG 1.815186\n"
     ]
    }
   ],
   "source": [
    "report(no_mgmt)"
   ]
  },
  {
   "cell_type": "code",
   "execution_count": 11,
   "metadata": {},
   "outputs": [
    {
     "output_type": "stream",
     "name": "stdout",
     "text": [
      "------------------------------\n",
      "Accuracy: 0.60\n",
      "Precision: 0.00\n",
      "Recall: 0.00\n",
      "------------------------------\n",
      "Sean Metrics\n",
      "Achieved Emissions: -480.04\n",
      "Optimal Emissions: -487.47 (model 1.00x better than strict strategy)\n",
      "Salvage Emissions: -480.04\n",
      "No Salvage Emissions: -470.35\n",
      "------------------------------\n",
      "MAREK METRICS\n",
      "F: 0.57\n",
      "G 2.304668\n"
     ]
    }
   ],
   "source": [
    "report(moderate)"
   ]
  },
  {
   "cell_type": "code",
   "execution_count": 12,
   "metadata": {},
   "outputs": [
    {
     "output_type": "execute_result",
     "data": {
      "text/plain": [
       "                        TimeStep Treatment    Salvage        NoDR         DR1  \\\n",
       "StandID                                                                         \n",
       "0023200606030102900043         0  Comm-Ind    Salvage -250.583375 -250.583375   \n",
       "0023200606030102900043         0  Comm-Ind  NoSalvage -250.327158 -250.327158   \n",
       "0023200606030102900043        10  Comm-Ind    Salvage -342.351865 -337.500107   \n",
       "0023200606030102900043        10  Comm-Ind  NoSalvage -316.545453 -313.044522   \n",
       "0023200606030102900043        20  Comm-Ind    Salvage -455.111767 -434.183248   \n",
       "\n",
       "                               DR3         DR5     BF_BA  OHost_BA  BF_Stock  \\\n",
       "StandID                                                                        \n",
       "0023200606030102900043 -250.583375 -250.583375  0.279354  1.116816    1.0804   \n",
       "0023200606030102900043 -250.327158 -250.327158  0.279354  1.116816    1.0804   \n",
       "0023200606030102900043 -328.863759 -321.444571  0.279354  1.116816    1.0804   \n",
       "0023200606030102900043 -306.812707 -301.459170  0.279354  1.116816    1.0804   \n",
       "0023200606030102900043 -400.435536 -374.898125  0.279354  1.116816    1.0804   \n",
       "\n",
       "                        OHost_Stock  NonHost_Stock    BF_QMD  ELEV  SLOPE  \\\n",
       "StandID                                                                     \n",
       "0023200606030102900043     1.569744        32.4026  5.060632   450    6.0   \n",
       "0023200606030102900043     1.569744        32.4026  5.060632   450    6.0   \n",
       "0023200606030102900043     1.569744        32.4026  5.060632   450    6.0   \n",
       "0023200606030102900043     1.569744        32.4026  5.060632   450    6.0   \n",
       "0023200606030102900043     1.569744        32.4026  5.060632   450    6.0   \n",
       "\n",
       "                        ASPECT       LAT  SiteInd  \n",
       "StandID                                            \n",
       "0023200606030102900043   175.0  44.94077     74.0  \n",
       "0023200606030102900043   175.0  44.94077     74.0  \n",
       "0023200606030102900043   175.0  44.94077     74.0  \n",
       "0023200606030102900043   175.0  44.94077     74.0  \n",
       "0023200606030102900043   175.0  44.94077     74.0  "
      ],
      "text/html": "<div>\n<style scoped>\n    .dataframe tbody tr th:only-of-type {\n        vertical-align: middle;\n    }\n\n    .dataframe tbody tr th {\n        vertical-align: top;\n    }\n\n    .dataframe thead th {\n        text-align: right;\n    }\n</style>\n<table border=\"1\" class=\"dataframe\">\n  <thead>\n    <tr style=\"text-align: right;\">\n      <th></th>\n      <th>TimeStep</th>\n      <th>Treatment</th>\n      <th>Salvage</th>\n      <th>NoDR</th>\n      <th>DR1</th>\n      <th>DR3</th>\n      <th>DR5</th>\n      <th>BF_BA</th>\n      <th>OHost_BA</th>\n      <th>BF_Stock</th>\n      <th>OHost_Stock</th>\n      <th>NonHost_Stock</th>\n      <th>BF_QMD</th>\n      <th>ELEV</th>\n      <th>SLOPE</th>\n      <th>ASPECT</th>\n      <th>LAT</th>\n      <th>SiteInd</th>\n    </tr>\n    <tr>\n      <th>StandID</th>\n      <th></th>\n      <th></th>\n      <th></th>\n      <th></th>\n      <th></th>\n      <th></th>\n      <th></th>\n      <th></th>\n      <th></th>\n      <th></th>\n      <th></th>\n      <th></th>\n      <th></th>\n      <th></th>\n      <th></th>\n      <th></th>\n      <th></th>\n      <th></th>\n    </tr>\n  </thead>\n  <tbody>\n    <tr>\n      <th>0023200606030102900043</th>\n      <td>0</td>\n      <td>Comm-Ind</td>\n      <td>Salvage</td>\n      <td>-250.583375</td>\n      <td>-250.583375</td>\n      <td>-250.583375</td>\n      <td>-250.583375</td>\n      <td>0.279354</td>\n      <td>1.116816</td>\n      <td>1.0804</td>\n      <td>1.569744</td>\n      <td>32.4026</td>\n      <td>5.060632</td>\n      <td>450</td>\n      <td>6.0</td>\n      <td>175.0</td>\n      <td>44.94077</td>\n      <td>74.0</td>\n    </tr>\n    <tr>\n      <th>0023200606030102900043</th>\n      <td>0</td>\n      <td>Comm-Ind</td>\n      <td>NoSalvage</td>\n      <td>-250.327158</td>\n      <td>-250.327158</td>\n      <td>-250.327158</td>\n      <td>-250.327158</td>\n      <td>0.279354</td>\n      <td>1.116816</td>\n      <td>1.0804</td>\n      <td>1.569744</td>\n      <td>32.4026</td>\n      <td>5.060632</td>\n      <td>450</td>\n      <td>6.0</td>\n      <td>175.0</td>\n      <td>44.94077</td>\n      <td>74.0</td>\n    </tr>\n    <tr>\n      <th>0023200606030102900043</th>\n      <td>10</td>\n      <td>Comm-Ind</td>\n      <td>Salvage</td>\n      <td>-342.351865</td>\n      <td>-337.500107</td>\n      <td>-328.863759</td>\n      <td>-321.444571</td>\n      <td>0.279354</td>\n      <td>1.116816</td>\n      <td>1.0804</td>\n      <td>1.569744</td>\n      <td>32.4026</td>\n      <td>5.060632</td>\n      <td>450</td>\n      <td>6.0</td>\n      <td>175.0</td>\n      <td>44.94077</td>\n      <td>74.0</td>\n    </tr>\n    <tr>\n      <th>0023200606030102900043</th>\n      <td>10</td>\n      <td>Comm-Ind</td>\n      <td>NoSalvage</td>\n      <td>-316.545453</td>\n      <td>-313.044522</td>\n      <td>-306.812707</td>\n      <td>-301.459170</td>\n      <td>0.279354</td>\n      <td>1.116816</td>\n      <td>1.0804</td>\n      <td>1.569744</td>\n      <td>32.4026</td>\n      <td>5.060632</td>\n      <td>450</td>\n      <td>6.0</td>\n      <td>175.0</td>\n      <td>44.94077</td>\n      <td>74.0</td>\n    </tr>\n    <tr>\n      <th>0023200606030102900043</th>\n      <td>20</td>\n      <td>Comm-Ind</td>\n      <td>Salvage</td>\n      <td>-455.111767</td>\n      <td>-434.183248</td>\n      <td>-400.435536</td>\n      <td>-374.898125</td>\n      <td>0.279354</td>\n      <td>1.116816</td>\n      <td>1.0804</td>\n      <td>1.569744</td>\n      <td>32.4026</td>\n      <td>5.060632</td>\n      <td>450</td>\n      <td>6.0</td>\n      <td>175.0</td>\n      <td>44.94077</td>\n      <td>74.0</td>\n    </tr>\n  </tbody>\n</table>\n</div>"
     },
     "metadata": {},
     "execution_count": 12
    }
   ],
   "source": [
    "data.head()"
   ]
  },
  {
   "cell_type": "code",
   "execution_count": 13,
   "metadata": {},
   "outputs": [],
   "source": [
    "from sklearn import tree"
   ]
  },
  {
   "cell_type": "code",
   "execution_count": 14,
   "metadata": {},
   "outputs": [],
   "source": [
    "temp = Classifier('DT', 'DR5')"
   ]
  },
  {
   "cell_type": "code",
   "execution_count": 15,
   "metadata": {},
   "outputs": [],
   "source": [
    "temp_data = data.drop(['NoDR', 'DR1', 'DR3', 'DR5', 'Salvage', 'TimeStep', 'Treatment'], axis=1)"
   ]
  },
  {
   "cell_type": "code",
   "execution_count": 16,
   "metadata": {},
   "outputs": [
    {
     "output_type": "error",
     "ename": "NameError",
     "evalue": "name 'plt' is not defined",
     "traceback": [
      "\u001b[0;31m---------------------------------------------------------------------------\u001b[0m",
      "\u001b[0;31mNameError\u001b[0m                                 Traceback (most recent call last)",
      "\u001b[0;32m<ipython-input-16-dabb78390724>\u001b[0m in \u001b[0;36m<module>\u001b[0;34m()\u001b[0m\n\u001b[0;32m----> 1\u001b[0;31m \u001b[0mfig\u001b[0m \u001b[0;34m=\u001b[0m \u001b[0mplt\u001b[0m\u001b[0;34m.\u001b[0m\u001b[0mfigure\u001b[0m\u001b[0;34m(\u001b[0m\u001b[0mfigsize\u001b[0m\u001b[0;34m=\u001b[0m\u001b[0;34m(\u001b[0m\u001b[0;36m25\u001b[0m\u001b[0;34m,\u001b[0m\u001b[0;36m20\u001b[0m\u001b[0;34m)\u001b[0m\u001b[0;34m)\u001b[0m\u001b[0;34m\u001b[0m\u001b[0;34m\u001b[0m\u001b[0m\n\u001b[0m\u001b[1;32m      2\u001b[0m _ = tree.plot_tree(temp.heavy.best_estimator_,\n\u001b[1;32m      3\u001b[0m                    \u001b[0mfeature_names\u001b[0m\u001b[0;34m=\u001b[0m\u001b[0mtemp_data\u001b[0m\u001b[0;34m.\u001b[0m\u001b[0mcolumns\u001b[0m\u001b[0;34m,\u001b[0m\u001b[0;34m\u001b[0m\u001b[0;34m\u001b[0m\u001b[0m\n\u001b[1;32m      4\u001b[0m                    \u001b[0mclass_names\u001b[0m\u001b[0;34m=\u001b[0m\u001b[0;34m[\u001b[0m\u001b[0;34m'Dont Salvage'\u001b[0m\u001b[0;34m,\u001b[0m \u001b[0;34m'Salvage'\u001b[0m\u001b[0;34m]\u001b[0m\u001b[0;34m,\u001b[0m\u001b[0;34m\u001b[0m\u001b[0;34m\u001b[0m\u001b[0m\n\u001b[1;32m      5\u001b[0m                    filled=True)\n",
      "\u001b[0;31mNameError\u001b[0m: name 'plt' is not defined"
     ]
    }
   ],
   "source": [
    "fig = plt.figure(figsize=(25,20))\n",
    "_ = tree.plot_tree(temp.heavy.best_estimator_,\n",
    "                   feature_names=temp_data.columns,\n",
    "                   class_names=['Dont Salvage', 'Salvage'], \n",
    "                   filled=True)\n",
    "#                    class_names=[\"Don't Salvage\", \"Salvage\"])"
   ]
  },
  {
   "cell_type": "code",
   "execution_count": 7,
   "metadata": {},
   "outputs": [],
   "source": [
    "import matplotlib.pyplot as plt"
   ]
  },
  {
   "cell_type": "code",
   "execution_count": 1,
   "metadata": {},
   "outputs": [
    {
     "output_type": "error",
     "ename": "NameError",
     "evalue": "name 'temp_data' is not defined",
     "traceback": [
      "\u001b[0;31m---------------------------------------------------------------------------\u001b[0m",
      "\u001b[0;31mNameError\u001b[0m                                 Traceback (most recent call last)",
      "\u001b[0;32m<ipython-input-1-92049903ce05>\u001b[0m in \u001b[0;36m<module>\u001b[0;34m()\u001b[0m\n\u001b[0;32m----> 1\u001b[0;31m \u001b[0mtemp_data\u001b[0m\u001b[0;34m\u001b[0m\u001b[0;34m\u001b[0m\u001b[0m\n\u001b[0m",
      "\u001b[0;31mNameError\u001b[0m: name 'temp_data' is not defined"
     ]
    }
   ],
   "source": [
    "temp_data"
   ]
  },
  {
   "cell_type": "code",
   "execution_count": 9,
   "metadata": {},
   "outputs": [
    {
     "output_type": "execute_result",
     "data": {
      "text/plain": [
       "Index(['BF_BA', 'OHost_BA', 'BF_Stock', 'OHost_Stock', 'NonHost_Stock',\n",
       "       'BF_QMD', 'ELEV', 'SLOPE', 'ASPECT', 'LAT', 'SiteInd'],\n",
       "      dtype='object')"
      ]
     },
     "metadata": {},
     "execution_count": 9
    }
   ],
   "source": [
    "data.columns[7:]"
   ]
  },
  {
   "cell_type": "code",
   "execution_count": null,
   "metadata": {},
   "outputs": [],
   "source": []
  }
 ],
 "metadata": {
  "kernelspec": {
   "display_name": "Python 3",
   "language": "python",
   "name": "python3"
  },
  "language_info": {
   "codemirror_mode": {
    "name": "ipython",
    "version": 3
   },
   "file_extension": ".py",
   "mimetype": "text/x-python",
   "name": "python",
   "nbconvert_exporter": "python",
   "pygments_lexer": "ipython3",
   "version": "3.7.9-final"
  }
 },
 "nbformat": 4,
 "nbformat_minor": 4
}
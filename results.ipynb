{
 "cells": [
  {
   "cell_type": "markdown",
   "metadata": {},
   "source": [
    "# A Snapshot of Findings\n"
   ]
  },
  {
   "cell_type": "code",
   "execution_count": 1,
   "metadata": {},
   "outputs": [],
   "source": [
    "import pandas as pd\n",
    "import numpy as np\n",
    "\n",
    "from src.classifier import Classifier\n",
    "\n",
    "from sklearn.metrics import accuracy_score, precision_score, recall_score"
   ]
  },
  {
   "cell_type": "code",
   "execution_count": 2,
   "metadata": {},
   "outputs": [],
   "source": [
    "data = pd.read_csv('data/Classifier_Inputs.csv')\n",
    "data = data.set_index('StandID')"
   ]
  },
  {
   "cell_type": "code",
   "execution_count": 3,
   "metadata": {},
   "outputs": [],
   "source": [
    "model = Classifier('NoDR')"
   ]
  },
  {
   "cell_type": "code",
   "execution_count": 4,
   "metadata": {},
   "outputs": [],
   "source": [
    "heavy = model.predict(data, 'Heavy')\n",
    "light = model.predict(data, 'Light')\n",
    "high_grade = model.predict(data, 'HighGrade')\n",
    "comm_ind = model.predict(data, 'Comm-Ind')\n",
    "no_mgmt = model.predict(data, 'NoMgmt')\n",
    "moderate = model.predict(data, 'Moderate')"
   ]
  },
  {
   "cell_type": "code",
   "execution_count": 5,
   "metadata": {},
   "outputs": [],
   "source": [
    "def report(mng):\n",
    "    strict = min(mng['salvage_strategy'], mng['no_salvage_strategy']) - mng['optimal_strategy']\n",
    "    model = mng['model_strategy'] - mng['optimal_strategy']\n",
    "    \n",
    "    print('-' * 30)\n",
    "    print(\"Accuracy: {:.2f}\".format(accuracy_score(mng['test'], mng['preds'])))\n",
    "    print(\"Precision: {:.2f}\".format(precision_score(mng['test'], mng['preds'])))\n",
    "    print(\"Recall: {:.2f}\".format(recall_score(mng['test'], mng['preds'])))\n",
    "    print('-' * 30)\n",
    "    print('Sean Metrics')\n",
    "    print(\"Achieved Emissions: {:.2f}\".format(mng['model_strategy']))\n",
    "    print(\"Optimal Emissions: {:.2f} (model {:.2f}x better than strict strategy)\".format(mng['optimal_strategy'],\n",
    "                                                                                         strict / model))\n",
    "    print(\"Salvage Emissions: {:.2f}\".format(mng['salvage_strategy']))\n",
    "    print(\"No Salvage Emissions: {:.2f}\".format(mng['no_salvage_strategy']))\n",
    "    print('-' * 30)\n",
    "    print('MAREK METRICS')\n",
    "    print('F: {:.2f}'.format(1 - (mng['model_strategy'] - mng['optimal_strategy']) / (mng['no_salvage_strategy'] - mng['optimal_strategy'])))\n",
    "    print('G {:2f}'.format((mng['no_salvage_strategy'] - mng['optimal_strategy']) / (mng['model_strategy'] - mng['optimal_strategy'])))"
   ]
  },
  {
   "cell_type": "code",
   "execution_count": 6,
   "metadata": {},
   "outputs": [
    {
     "name": "stdout",
     "output_type": "stream",
     "text": [
      "------------------------------\n",
      "Accuracy: 0.84\n",
      "Precision: 0.62\n",
      "Recall: 0.10\n",
      "------------------------------\n",
      "Sean Metrics\n",
      "Achieved Emissions: -585.60\n",
      "Optimal Emissions: -587.69 (model 0.86x better than strict strategy)\n",
      "Salvage Emissions: -585.88\n",
      "No Salvage Emissions: -535.18\n",
      "------------------------------\n",
      "MAREK METRICS\n",
      "F: 0.96\n",
      "G 25.125735\n"
     ]
    }
   ],
   "source": [
    "report(heavy)"
   ]
  },
  {
   "cell_type": "code",
   "execution_count": 7,
   "metadata": {},
   "outputs": [
    {
     "name": "stdout",
     "output_type": "stream",
     "text": [
      "------------------------------\n",
      "Accuracy: 0.81\n",
      "Precision: 0.67\n",
      "Recall: 0.17\n",
      "------------------------------\n",
      "Sean Metrics\n",
      "Achieved Emissions: -634.90\n",
      "Optimal Emissions: -637.28 (model 1.15x better than strict strategy)\n",
      "Salvage Emissions: -634.55\n",
      "No Salvage Emissions: -592.92\n",
      "------------------------------\n",
      "MAREK METRICS\n",
      "F: 0.95\n",
      "G 18.694702\n"
     ]
    }
   ],
   "source": [
    "report(light)"
   ]
  },
  {
   "cell_type": "code",
   "execution_count": 8,
   "metadata": {},
   "outputs": [
    {
     "name": "stdout",
     "output_type": "stream",
     "text": [
      "------------------------------\n",
      "Accuracy: 0.93\n",
      "Precision: 0.08\n",
      "Recall: 0.04\n",
      "------------------------------\n",
      "Sean Metrics\n",
      "Achieved Emissions: -641.01\n",
      "Optimal Emissions: -642.35 (model 0.40x better than strict strategy)\n",
      "Salvage Emissions: -641.81\n",
      "No Salvage Emissions: -583.91\n",
      "------------------------------\n",
      "MAREK METRICS\n",
      "F: 0.98\n",
      "G 43.739732\n"
     ]
    }
   ],
   "source": [
    "report(high_grade)"
   ]
  },
  {
   "cell_type": "code",
   "execution_count": 9,
   "metadata": {},
   "outputs": [
    {
     "name": "stdout",
     "output_type": "stream",
     "text": [
      "------------------------------\n",
      "Accuracy: 0.90\n",
      "Precision: 0.00\n",
      "Recall: 0.00\n",
      "------------------------------\n",
      "Sean Metrics\n",
      "Achieved Emissions: -584.57\n",
      "Optimal Emissions: -585.89 (model 1.00x better than strict strategy)\n",
      "Salvage Emissions: -584.57\n",
      "No Salvage Emissions: -526.17\n",
      "------------------------------\n",
      "MAREK METRICS\n",
      "F: 0.98\n",
      "G 45.052155\n"
     ]
    },
    {
     "name": "stderr",
     "output_type": "stream",
     "text": [
      "/home/sean/anaconda3/envs/optimization/lib/python3.7/site-packages/sklearn/metrics/_classification.py:1221: UndefinedMetricWarning: Precision is ill-defined and being set to 0.0 due to no predicted samples. Use `zero_division` parameter to control this behavior.\n",
      "  _warn_prf(average, modifier, msg_start, len(result))\n"
     ]
    }
   ],
   "source": [
    "report(comm_ind)"
   ]
  },
  {
   "cell_type": "code",
   "execution_count": 10,
   "metadata": {},
   "outputs": [
    {
     "name": "stdout",
     "output_type": "stream",
     "text": [
      "------------------------------\n",
      "Accuracy: 0.84\n",
      "Precision: 0.68\n",
      "Recall: 0.34\n",
      "------------------------------\n",
      "Sean Metrics\n",
      "Achieved Emissions: -664.82\n",
      "Optimal Emissions: -666.91 (model 1.00x better than strict strategy)\n",
      "Salvage Emissions: -664.82\n",
      "No Salvage Emissions: -607.15\n",
      "------------------------------\n",
      "MAREK METRICS\n",
      "F: 0.96\n",
      "G 28.536468\n"
     ]
    }
   ],
   "source": [
    "report(no_mgmt)"
   ]
  },
  {
   "cell_type": "code",
   "execution_count": 11,
   "metadata": {},
   "outputs": [
    {
     "name": "stdout",
     "output_type": "stream",
     "text": [
      "------------------------------\n",
      "Accuracy: 0.82\n",
      "Precision: 0.71\n",
      "Recall: 0.13\n",
      "------------------------------\n",
      "Sean Metrics\n",
      "Achieved Emissions: -606.52\n",
      "Optimal Emissions: -608.26 (model 1.07x better than strict strategy)\n",
      "Salvage Emissions: -606.39\n",
      "No Salvage Emissions: -566.75\n",
      "------------------------------\n",
      "MAREK METRICS\n",
      "F: 0.96\n",
      "G 23.810623\n"
     ]
    }
   ],
   "source": [
    "report(moderate)"
   ]
  },
  {
   "cell_type": "code",
   "execution_count": null,
   "metadata": {},
   "outputs": [],
   "source": []
  }
 ],
 "metadata": {
  "kernelspec": {
   "display_name": "Python 3",
   "language": "python",
   "name": "python3"
  },
  "language_info": {
   "codemirror_mode": {
    "name": "ipython",
    "version": 3
   },
   "file_extension": ".py",
   "mimetype": "text/x-python",
   "name": "python",
   "nbconvert_exporter": "python",
   "pygments_lexer": "ipython3",
   "version": "3.7.9"
  }
 },
 "nbformat": 4,
 "nbformat_minor": 4
}

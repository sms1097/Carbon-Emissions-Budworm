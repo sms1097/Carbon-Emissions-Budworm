{
 "cells": [
  {
   "cell_type": "markdown",
   "metadata": {},
   "source": [
    "# A Snapshot of Findings\n"
   ]
  },
  {
   "cell_type": "code",
   "execution_count": 1,
   "metadata": {},
   "outputs": [],
   "source": [
    "import pandas as pd\n",
    "import numpy as np\n",
    "\n",
    "from src.classifier import Classifier\n",
    "\n",
    "from sklearn.metrics import accuracy_score, precision_score, recall_score"
   ]
  },
  {
   "cell_type": "code",
   "execution_count": 2,
   "metadata": {},
   "outputs": [],
   "source": [
    "data = pd.read_csv('data/Classifier_Inputs.csv')\n",
    "data = data.set_index('StandID')"
   ]
  },
  {
   "cell_type": "code",
   "execution_count": 3,
   "metadata": {},
   "outputs": [],
   "source": [
    "model = Classifier('DR5')"
   ]
  },
  {
   "cell_type": "code",
   "execution_count": 4,
   "metadata": {},
   "outputs": [],
   "source": [
    "heavy = model.predict(data, 'Heavy')\n",
    "light = model.predict(data, 'Light')\n",
    "high_grade = model.predict(data, 'HighGrade')\n",
    "comm_ind = model.predict(data, 'Comm-Ind')\n",
    "no_mgmt = model.predict(data, 'NoMgmt')\n",
    "moderate = model.predict(data, 'Moderate')"
   ]
  },
  {
   "cell_type": "code",
   "execution_count": 5,
   "metadata": {},
   "outputs": [],
   "source": [
    "def report(mng):\n",
    "\n",
    "    strict = min(mng['salvage_strategy'], mng['no_salvage_strategy']) - mng['optimal_strategy']\n",
    "    model = mng['model_strategy'] - mng['optimal_strategy']\n",
    "\n",
    "    print('-' * 30)\n",
    "    print(\"Accuracy: {:.2f}\".format(accuracy_score(mng['test'], mng['preds'])))\n",
    "    print(\"Precision: {:.2f}\".format(precision_score(mng['test'], mng['preds'])))\n",
    "    print(\"Recall: {:.2f}\".format(recall_score(mng['test'], mng['preds'])))\n",
    "    print('-' * 30)\n",
    "    print('SEAN METRICS')\n",
    "    print(\"Achieved Emissions: {:.2f}\".format(mng['model_strategy']))\n",
    "    print(\"Optimal Emissions: {:.2f} (model {:.2f}x better than strict strategy)\".format(mng['optimal_strategy'],\n",
    "                                                                                         strict / model))\n",
    "    print(\"Salvage Emissions: {:.2f}\".format(mng['salvage_strategy']))\n",
    "    print(\"No Salvage Emissions: {:.2f}\".format(mng['no_salvage_strategy']))\n",
    "    print('-' * 30)\n",
    "    print('MAREK METRICS')\n",
    "    print('F: {:.2f}'.format(1 - (mng['model_strategy'] - mng['optimal_strategy']) / (mng['no_salvage_strategy'] - mng['optimal_strategy'])))\n",
    "    print('G {:2f}'.format((mng['no_salvage_strategy'] - mng['optimal_strategy']) / (mng['model_strategy'] - mng['optimal_strategy'])))"
   ]
  },
  {
   "cell_type": "code",
   "execution_count": 6,
   "metadata": {},
   "outputs": [
    {
     "name": "stdout",
     "output_type": "stream",
     "text": [
      "------------------------------\n",
      "Accuracy: 0.70\n",
      "Precision: 0.64\n",
      "Recall: 0.60\n",
      "------------------------------\n",
      "SEAN METRICS\n",
      "Achieved Emissions: -417.51\n",
      "Optimal Emissions: -423.08 (model 1.20x better than strict strategy)\n",
      "Salvage Emissions: -416.42\n",
      "No Salvage Emissions: -402.33\n",
      "------------------------------\n",
      "MAREK METRICS\n",
      "F: 0.73\n",
      "G 3.723545\n"
     ]
    }
   ],
   "source": [
    "report(heavy)"
   ]
  },
  {
   "cell_type": "code",
   "execution_count": 7,
   "metadata": {},
   "outputs": [
    {
     "name": "stdout",
     "output_type": "stream",
     "text": [
      "------------------------------\n",
      "Accuracy: 0.76\n",
      "Precision: 0.77\n",
      "Recall: 0.85\n",
      "------------------------------\n",
      "SEAN METRICS\n",
      "Achieved Emissions: -476.51\n",
      "Optimal Emissions: -480.35 (model 2.28x better than strict strategy)\n",
      "Salvage Emissions: -463.17\n",
      "No Salvage Emissions: -471.59\n",
      "------------------------------\n",
      "MAREK METRICS\n",
      "F: 0.56\n",
      "G 2.281255\n"
     ]
    }
   ],
   "source": [
    "report(light)"
   ]
  },
  {
   "cell_type": "code",
   "execution_count": 8,
   "metadata": {},
   "outputs": [
    {
     "name": "stdout",
     "output_type": "stream",
     "text": [
      "------------------------------\n",
      "Accuracy: 0.67\n",
      "Precision: 0.58\n",
      "Recall: 0.57\n",
      "------------------------------\n",
      "SEAN METRICS\n",
      "Achieved Emissions: -476.52\n",
      "Optimal Emissions: -482.82 (model 1.50x better than strict strategy)\n",
      "Salvage Emissions: -473.34\n",
      "No Salvage Emissions: -467.64\n",
      "------------------------------\n",
      "MAREK METRICS\n",
      "F: 0.58\n",
      "G 2.409188\n"
     ]
    }
   ],
   "source": [
    "report(high_grade)"
   ]
  },
  {
   "cell_type": "code",
   "execution_count": 9,
   "metadata": {},
   "outputs": [
    {
     "name": "stdout",
     "output_type": "stream",
     "text": [
      "------------------------------\n",
      "Accuracy: 0.77\n",
      "Precision: 0.68\n",
      "Recall: 0.26\n",
      "------------------------------\n",
      "SEAN METRICS\n",
      "Achieved Emissions: -427.78\n",
      "Optimal Emissions: -430.71 (model 1.36x better than strict strategy)\n",
      "Salvage Emissions: -426.74\n",
      "No Salvage Emissions: -403.07\n",
      "------------------------------\n",
      "MAREK METRICS\n",
      "F: 0.89\n",
      "G 9.429747\n"
     ]
    }
   ],
   "source": [
    "report(comm_ind)"
   ]
  },
  {
   "cell_type": "code",
   "execution_count": 10,
   "metadata": {},
   "outputs": [
    {
     "name": "stdout",
     "output_type": "stream",
     "text": [
      "------------------------------\n",
      "Accuracy: 0.79\n",
      "Precision: 0.80\n",
      "Recall: 0.89\n",
      "------------------------------\n",
      "SEAN METRICS\n",
      "Achieved Emissions: -513.46\n",
      "Optimal Emissions: -516.76 (model 2.52x better than strict strategy)\n",
      "Salvage Emissions: -493.81\n",
      "No Salvage Emissions: -508.46\n",
      "------------------------------\n",
      "MAREK METRICS\n",
      "F: 0.60\n",
      "G 2.516566\n"
     ]
    }
   ],
   "source": [
    "report(no_mgmt)"
   ]
  },
  {
   "cell_type": "code",
   "execution_count": 11,
   "metadata": {},
   "outputs": [
    {
     "name": "stdout",
     "output_type": "stream",
     "text": [
      "------------------------------\n",
      "Accuracy: 0.74\n",
      "Precision: 0.74\n",
      "Recall: 0.80\n",
      "------------------------------\n",
      "SEAN METRICS\n",
      "Achieved Emissions: -447.77\n",
      "Optimal Emissions: -451.43 (model 2.78x better than strict strategy)\n",
      "Salvage Emissions: -439.41\n",
      "No Salvage Emissions: -441.27\n",
      "------------------------------\n",
      "MAREK METRICS\n",
      "F: 0.64\n",
      "G 2.775171\n"
     ]
    }
   ],
   "source": [
    "report(moderate)"
   ]
  },
  {
   "cell_type": "code",
   "execution_count": null,
   "metadata": {},
   "outputs": [],
   "source": []
  }
 ],
 "metadata": {
  "kernelspec": {
   "display_name": "Python 3",
   "language": "python",
   "name": "python3"
  },
  "language_info": {
   "codemirror_mode": {
    "name": "ipython",
    "version": 3
   },
   "file_extension": ".py",
   "mimetype": "text/x-python",
   "name": "python",
   "nbconvert_exporter": "python",
   "pygments_lexer": "ipython3",
   "version": "3.7.9"
  }
 },
 "nbformat": 4,
 "nbformat_minor": 4
}
